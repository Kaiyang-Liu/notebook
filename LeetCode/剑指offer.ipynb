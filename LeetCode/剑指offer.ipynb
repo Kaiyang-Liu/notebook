{
 "cells": [
  {
   "cell_type": "code",
   "execution_count": 1,
   "id": "599053a1",
   "metadata": {},
   "outputs": [],
   "source": [
    "# 剑指offer30 包含min函数的栈"
   ]
  },
  {
   "cell_type": "code",
   "execution_count": 28,
   "id": "10f4f772",
   "metadata": {},
   "outputs": [],
   "source": [
    "class MinStack:\n",
    "\n",
    "    def __init__(self):\n",
    "        \"\"\"\n",
    "        initialize your data structure here.\n",
    "        \"\"\"\n",
    "        self.A, self.B = [],[]\n",
    "\n",
    "    def push(self, x: int) -> None:\n",
    "        self.A.append(x)\n",
    "        if not self.B or self.B[-1]>=x:\n",
    "            self.B.append(x)\n",
    "\n",
    "    def pop(self) -> None:\n",
    "        if self.A.pop() == self.B[-1]:\n",
    "            self.B.pop()\n",
    "\n",
    "    def top(self) -> int:\n",
    "        return self.A[-1]\n",
    "\n",
    "    def min(self) -> int:\n",
    "        return self.B[-1]\n",
    "    \n",
    "    def show(self):\n",
    "        print(self.A)\n",
    "        print(self.B)"
   ]
  },
  {
   "cell_type": "code",
   "execution_count": 29,
   "id": "8372cfd6",
   "metadata": {},
   "outputs": [],
   "source": [
    "minStack = MinStack()"
   ]
  },
  {
   "cell_type": "code",
   "execution_count": 30,
   "id": "85403e33",
   "metadata": {},
   "outputs": [],
   "source": [
    "minStack.push(-2)\n",
    "minStack.push(0)\n",
    "minStack.push(-3)"
   ]
  },
  {
   "cell_type": "code",
   "execution_count": 31,
   "id": "a08f3998",
   "metadata": {},
   "outputs": [
    {
     "name": "stdout",
     "output_type": "stream",
     "text": [
      "[-2, 0, -3]\n",
      "[-2, -3]\n"
     ]
    }
   ],
   "source": [
    "minStack.show()"
   ]
  },
  {
   "cell_type": "code",
   "execution_count": 32,
   "id": "9a33733f",
   "metadata": {},
   "outputs": [
    {
     "data": {
      "text/plain": [
       "-3"
      ]
     },
     "execution_count": 32,
     "metadata": {},
     "output_type": "execute_result"
    }
   ],
   "source": [
    "minStack.min()"
   ]
  },
  {
   "cell_type": "code",
   "execution_count": 33,
   "id": "31219f3d",
   "metadata": {},
   "outputs": [
    {
     "name": "stdout",
     "output_type": "stream",
     "text": [
      "[-2, 0, -3]\n",
      "[-2, -3]\n"
     ]
    }
   ],
   "source": [
    "minStack.show()"
   ]
  },
  {
   "cell_type": "code",
   "execution_count": 34,
   "id": "80573e02",
   "metadata": {
    "scrolled": true
   },
   "outputs": [],
   "source": [
    "minStack.pop()"
   ]
  },
  {
   "cell_type": "code",
   "execution_count": 35,
   "id": "0cac9545",
   "metadata": {},
   "outputs": [
    {
     "name": "stdout",
     "output_type": "stream",
     "text": [
      "[-2, 0]\n",
      "[-2]\n"
     ]
    }
   ],
   "source": [
    "minStack.show()"
   ]
  },
  {
   "cell_type": "code",
   "execution_count": 36,
   "id": "1c937d4d",
   "metadata": {},
   "outputs": [
    {
     "data": {
      "text/plain": [
       "0"
      ]
     },
     "execution_count": 36,
     "metadata": {},
     "output_type": "execute_result"
    }
   ],
   "source": [
    "minStack.top()"
   ]
  },
  {
   "cell_type": "code",
   "execution_count": 37,
   "id": "725a162f",
   "metadata": {},
   "outputs": [
    {
     "name": "stdout",
     "output_type": "stream",
     "text": [
      "[-2, 0]\n",
      "[-2]\n"
     ]
    }
   ],
   "source": [
    "minStack.show()"
   ]
  },
  {
   "cell_type": "code",
   "execution_count": 38,
   "id": "ced193f9",
   "metadata": {},
   "outputs": [
    {
     "data": {
      "text/plain": [
       "-2"
      ]
     },
     "execution_count": 38,
     "metadata": {},
     "output_type": "execute_result"
    }
   ],
   "source": [
    "minStack.min()"
   ]
  },
  {
   "cell_type": "code",
   "execution_count": 39,
   "id": "016178e5",
   "metadata": {},
   "outputs": [
    {
     "name": "stdout",
     "output_type": "stream",
     "text": [
      "[-2, 0]\n",
      "[-2]\n"
     ]
    }
   ],
   "source": [
    "minStack.show()"
   ]
  },
  {
   "cell_type": "code",
   "execution_count": null,
   "id": "88673363",
   "metadata": {},
   "outputs": [],
   "source": []
  },
  {
   "cell_type": "code",
   "execution_count": 9,
   "id": "195681a1",
   "metadata": {},
   "outputs": [],
   "source": [
    "from typing import List"
   ]
  },
  {
   "cell_type": "code",
   "execution_count": 54,
   "id": "0b8da345",
   "metadata": {},
   "outputs": [],
   "source": [
    "# Definition for singly-linked list.\n",
    "class ListNode:\n",
    "    def __init__(self, x):\n",
    "        self.val = x\n",
    "        self.next = None\n",
    "\n",
    "class Solution:\n",
    "    def reversePrint(self, head: ListNode) -> List[int]:\n",
    "        if head:\n",
    "            return self.reversePrint(head.next) + [head.val]\n",
    "        else:\n",
    "            return []\n",
    "#         return self.reversePrint(head.next) + [head.val] if head else []"
   ]
  },
  {
   "cell_type": "code",
   "execution_count": 55,
   "id": "67ceac04",
   "metadata": {},
   "outputs": [],
   "source": [
    "head = [1,3,2]"
   ]
  },
  {
   "cell_type": "code",
   "execution_count": 56,
   "id": "cd31c69a",
   "metadata": {},
   "outputs": [],
   "source": [
    "myListNode = ListNode(head)"
   ]
  },
  {
   "cell_type": "code",
   "execution_count": 58,
   "id": "cd9e8ad4",
   "metadata": {},
   "outputs": [],
   "source": [
    "mySolution = Solution()"
   ]
  },
  {
   "cell_type": "code",
   "execution_count": 59,
   "id": "cb92084b",
   "metadata": {},
   "outputs": [
    {
     "data": {
      "text/plain": [
       "[[1, 3, 2]]"
      ]
     },
     "execution_count": 59,
     "metadata": {},
     "output_type": "execute_result"
    }
   ],
   "source": [
    "mySolution.reversePrint(myListNode)"
   ]
  },
  {
   "cell_type": "code",
   "execution_count": null,
   "id": "16484757",
   "metadata": {},
   "outputs": [],
   "source": []
  },
  {
   "cell_type": "code",
   "execution_count": 49,
   "id": "9351747d",
   "metadata": {},
   "outputs": [],
   "source": [
    "# Definition for singly-linked list.\n",
    "class ListNode:\n",
    "    def __init__(self, x):\n",
    "        self.val = x\n",
    "        self.next = None\n",
    "\n",
    "class Solution:\n",
    "    def reversePrint(self, head: ListNode) -> List[int]:\n",
    "        stack = []\n",
    "        while head:\n",
    "            stack.append(head.val)\n",
    "            head = head.next\n",
    "        return stack[::-1]"
   ]
  },
  {
   "cell_type": "code",
   "execution_count": 50,
   "id": "e5ad1105",
   "metadata": {},
   "outputs": [],
   "source": [
    "head = [1,3,2]"
   ]
  },
  {
   "cell_type": "code",
   "execution_count": 51,
   "id": "a4a454d9",
   "metadata": {},
   "outputs": [],
   "source": [
    "myListNode = ListNode(head)"
   ]
  },
  {
   "cell_type": "code",
   "execution_count": 52,
   "id": "afe15fa8",
   "metadata": {},
   "outputs": [],
   "source": [
    "mySolution = Solution()"
   ]
  },
  {
   "cell_type": "code",
   "execution_count": 53,
   "id": "ff04c9dd",
   "metadata": {},
   "outputs": [
    {
     "data": {
      "text/plain": [
       "[[1, 3, 2]]"
      ]
     },
     "execution_count": 53,
     "metadata": {},
     "output_type": "execute_result"
    }
   ],
   "source": [
    "mySolution.reversePrint(myListNode)"
   ]
  },
  {
   "cell_type": "code",
   "execution_count": null,
   "id": "9aa080e6",
   "metadata": {},
   "outputs": [],
   "source": []
  }
 ],
 "metadata": {
  "kernelspec": {
   "display_name": "Python 3 (ipykernel)",
   "language": "python",
   "name": "python3"
  },
  "language_info": {
   "codemirror_mode": {
    "name": "ipython",
    "version": 3
   },
   "file_extension": ".py",
   "mimetype": "text/x-python",
   "name": "python",
   "nbconvert_exporter": "python",
   "pygments_lexer": "ipython3",
   "version": "3.9.7"
  },
  "toc": {
   "base_numbering": 1,
   "nav_menu": {},
   "number_sections": true,
   "sideBar": true,
   "skip_h1_title": false,
   "title_cell": "Table of Contents",
   "title_sidebar": "Contents",
   "toc_cell": false,
   "toc_position": {},
   "toc_section_display": true,
   "toc_window_display": false
  }
 },
 "nbformat": 4,
 "nbformat_minor": 5
}
