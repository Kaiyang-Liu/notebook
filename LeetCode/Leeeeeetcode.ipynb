{
 "cells": [
  {
   "cell_type": "markdown",
   "id": "df7b6f4f",
   "metadata": {},
   "source": [
    "# 代码随想录"
   ]
  },
  {
   "cell_type": "markdown",
   "id": "ef808896",
   "metadata": {},
   "source": [
    "## 1. 数组"
   ]
  },
  {
   "cell_type": "markdown",
   "id": "53fa911b",
   "metadata": {},
   "source": [
    "### 1.1 二分查找"
   ]
  },
  {
   "cell_type": "code",
   "execution_count": 4,
   "id": "639fc2e1",
   "metadata": {},
   "outputs": [],
   "source": [
    "# 704 Binary Search\n",
    "# 2022-8-29 0:40"
   ]
  },
  {
   "cell_type": "code",
   "execution_count": 2,
   "id": "f68b40bd",
   "metadata": {},
   "outputs": [],
   "source": [
    "class Solution:\n",
    "    def search(self, nums: list[int], target: int) -> int:\n",
    "        left = 0\n",
    "        right = len(nums)-1\n",
    "        while left <= right:\n",
    "            middle = (left + right) // 2\n",
    "            if nums[middle] < target:\n",
    "                left = middle + 1\n",
    "            elif nums[middle] > target:\n",
    "                right = middle - 1\n",
    "            else:\n",
    "                return middle\n",
    "        return -1"
   ]
  },
  {
   "cell_type": "code",
   "execution_count": 3,
   "id": "5346a2f4",
   "metadata": {},
   "outputs": [
    {
     "name": "stdout",
     "output_type": "stream",
     "text": [
      "test1:  4\n",
      "test2:  -1\n"
     ]
    }
   ],
   "source": [
    "# test\n",
    "nums = [-1,0,3,5,9,12]\n",
    "target = 9\n",
    "\n",
    "nums1 = [-1,0,3,5,9,12]\n",
    "target1 = 2\n",
    "\n",
    "sol = Solution()\n",
    "output1 = sol.search(nums,target)\n",
    "print(\"test1: \", output1)\n",
    "output2 = sol.search(nums1,target1)\n",
    "print(\"test2: \", output2)"
   ]
  },
  {
   "cell_type": "markdown",
   "id": "06c7f1b0",
   "metadata": {},
   "source": [
    "## 1.2 移除元素"
   ]
  },
  {
   "cell_type": "code",
   "execution_count": 1,
   "id": "f4221989",
   "metadata": {},
   "outputs": [],
   "source": [
    "# 27 Remove Element\n",
    "# 2022-8-30 23:00"
   ]
  },
  {
   "cell_type": "code",
   "execution_count": 3,
   "id": "57387be9",
   "metadata": {},
   "outputs": [],
   "source": [
    "# 快慢指针 O(2n)\n",
    "class Solution:\n",
    "    def removeElement(self, nums: list[int], val: int) -> int:\n",
    "        slow = 0\n",
    "        for fast in range(0,len(nums)):\n",
    "            if nums[fast] != val:\n",
    "                nums[slow] = nums[fast]\n",
    "                slow += 1\n",
    "            fast += 1\n",
    "        return slow"
   ]
  },
  {
   "cell_type": "code",
   "execution_count": 9,
   "id": "0a98f491",
   "metadata": {},
   "outputs": [
    {
     "name": "stdout",
     "output_type": "stream",
     "text": [
      "[3, 2, 2, 3]\n",
      "[2, 2, 2, 3]\n"
     ]
    }
   ],
   "source": [
    "# test\n",
    "nums = [3,2,2,3]\n",
    "val = 3\n",
    "print(nums)\n",
    "\n",
    "sol = Solution()\n",
    "output1 = sol.removeElement(nums,val)\n",
    "output1\n",
    "print(nums)"
   ]
  },
  {
   "cell_type": "code",
   "execution_count": null,
   "id": "5ba4fdeb",
   "metadata": {},
   "outputs": [],
   "source": [
    "# 左右指针 O(n)"
   ]
  }
 ],
 "metadata": {
  "kernelspec": {
   "display_name": "Python 3 (ipykernel)",
   "language": "python",
   "name": "python3"
  },
  "language_info": {
   "codemirror_mode": {
    "name": "ipython",
    "version": 3
   },
   "file_extension": ".py",
   "mimetype": "text/x-python",
   "name": "python",
   "nbconvert_exporter": "python",
   "pygments_lexer": "ipython3",
   "version": "3.9.7"
  }
 },
 "nbformat": 4,
 "nbformat_minor": 5
}
