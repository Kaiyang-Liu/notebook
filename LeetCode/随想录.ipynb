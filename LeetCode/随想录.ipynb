{
 "cells": [
  {
   "cell_type": "markdown",
   "id": "df7b6f4f",
   "metadata": {},
   "source": [
    "# 代码随想录"
   ]
  },
  {
   "cell_type": "markdown",
   "id": "ef808896",
   "metadata": {},
   "source": [
    "## 1. 数组"
   ]
  },
  {
   "cell_type": "markdown",
   "id": "53fa911b",
   "metadata": {},
   "source": [
    "### 1.1 二分查找"
   ]
  },
  {
   "cell_type": "code",
   "execution_count": 1,
   "id": "639fc2e1",
   "metadata": {},
   "outputs": [],
   "source": [
    "# 704 Binary Search\n",
    "# 2022-8-29 0:40"
   ]
  },
  {
   "cell_type": "code",
   "execution_count": 2,
   "id": "f68b40bd",
   "metadata": {},
   "outputs": [],
   "source": [
    "class Solution:\n",
    "    def search(self, nums: list[int], target: int) -> int:\n",
    "        left = 0\n",
    "        right = len(nums)-1\n",
    "        while left <= right:\n",
    "            middle = (left + right) // 2\n",
    "            if nums[middle] < target:\n",
    "                left = middle + 1\n",
    "            elif nums[middle] > target:\n",
    "                right = middle - 1\n",
    "            else:\n",
    "                return middle\n",
    "        return -1"
   ]
  },
  {
   "cell_type": "code",
   "execution_count": 3,
   "id": "5346a2f4",
   "metadata": {},
   "outputs": [
    {
     "name": "stdout",
     "output_type": "stream",
     "text": [
      "test1:  4\n",
      "test2:  -1\n"
     ]
    }
   ],
   "source": [
    "# test\n",
    "nums = [-1,0,3,5,9,12]\n",
    "target = 9\n",
    "\n",
    "nums1 = [-1,0,3,5,9,12]\n",
    "target1 = 2\n",
    "\n",
    "sol = Solution()\n",
    "output1 = sol.search(nums,target)\n",
    "print(\"test1: \", output1)\n",
    "output2 = sol.search(nums1,target1)\n",
    "print(\"test2: \", output2)"
   ]
  },
  {
   "cell_type": "markdown",
   "id": "c077b9d2",
   "metadata": {},
   "source": [
    "## 1.2 移除元素"
   ]
  },
  {
   "cell_type": "code",
   "execution_count": 4,
   "id": "f4221989",
   "metadata": {},
   "outputs": [],
   "source": [
    "# 27 Remove Element\n",
    "# 2022-8-30 23:00"
   ]
  },
  {
   "cell_type": "code",
   "execution_count": 5,
   "id": "57387be9",
   "metadata": {},
   "outputs": [],
   "source": [
    "# 快慢指针 O(2n)\n",
    "class Solution:\n",
    "    def removeElement(self, nums: list[int], val: int) -> int:\n",
    "        slow = 0\n",
    "        for fast in range(0,len(nums)):\n",
    "            if nums[fast] != val:\n",
    "                nums[slow] = nums[fast]\n",
    "                slow += 1\n",
    "            fast += 1\n",
    "        return slow"
   ]
  },
  {
   "cell_type": "code",
   "execution_count": 6,
   "id": "59a5a159",
   "metadata": {},
   "outputs": [
    {
     "name": "stdout",
     "output_type": "stream",
     "text": [
      "[3, 2, 2, 3]\n",
      "[2, 2, 2, 3]\n"
     ]
    }
   ],
   "source": [
    "# test\n",
    "nums = [3,2,2,3]\n",
    "val = 3\n",
    "print(nums)\n",
    "\n",
    "sol = Solution()\n",
    "output1 = sol.removeElement(nums,val)\n",
    "output1\n",
    "print(nums)"
   ]
  },
  {
   "cell_type": "code",
   "execution_count": 7,
   "id": "0618a587",
   "metadata": {},
   "outputs": [],
   "source": [
    "# 左右指针 O(n)"
   ]
  },
  {
   "cell_type": "code",
   "execution_count": 8,
   "id": "040c2fde",
   "metadata": {},
   "outputs": [],
   "source": [
    "class Solution:\n",
    "    def removeElement(self, nums: list[int], val: int) -> int:\n",
    "        if nums is None or len(nums)==0: \n",
    "            return 0 \n",
    "        l=0\n",
    "        r=len(nums)-1\n",
    "        while l<r: \n",
    "            while(l<r and nums[l]!=val):\n",
    "                l+=1\n",
    "            while(l<r and nums[r]==val):\n",
    "                r-=1\n",
    "            nums[l], nums[r]=nums[r], nums[l]\n",
    "        print(nums)\n",
    "        if nums[l]==val: \n",
    "            return l \n",
    "        else: \n",
    "            return l+1"
   ]
  },
  {
   "cell_type": "code",
   "execution_count": 1,
   "id": "601a175f",
   "metadata": {},
   "outputs": [],
   "source": [
    "ans = [-1]*5"
   ]
  },
  {
   "cell_type": "code",
   "execution_count": 2,
   "id": "5acc0896",
   "metadata": {},
   "outputs": [
    {
     "data": {
      "text/plain": [
       "[-1, -1, -1, -1, -1]"
      ]
     },
     "execution_count": 2,
     "metadata": {},
     "output_type": "execute_result"
    }
   ],
   "source": [
    "ans"
   ]
  },
  {
   "cell_type": "markdown",
   "id": "068125cd",
   "metadata": {},
   "source": [
    "## 1.3 有序数组的平方"
   ]
  },
  {
   "cell_type": "code",
   "execution_count": 6,
   "id": "91019abb",
   "metadata": {},
   "outputs": [],
   "source": [
    "# 977 Squares of a Sorted Array\n",
    "# 2022-08-31 18:00"
   ]
  },
  {
   "cell_type": "code",
   "execution_count": 4,
   "id": "79c7d23b",
   "metadata": {},
   "outputs": [],
   "source": [
    "# 双指针 O(n)\n",
    "class Solution:\n",
    "    def sortedSquares(self, nums: list[int]) -> list[int]:\n",
    "        n = len(nums)\n",
    "        i,j,k = 0,n - 1,n - 1\n",
    "        ans = [-1] * n\n",
    "        while i <= j:\n",
    "            lm = nums[i] ** 2\n",
    "            rm = nums[j] ** 2\n",
    "            if lm > rm:\n",
    "                ans[k] = lm\n",
    "                i += 1\n",
    "            else:\n",
    "                ans[k] = rm\n",
    "                j -= 1\n",
    "            k -= 1\n",
    "        return ans"
   ]
  },
  {
   "cell_type": "markdown",
   "id": "5437ddcb",
   "metadata": {},
   "source": [
    "## 1.4 长度最小的子数组"
   ]
  },
  {
   "cell_type": "code",
   "execution_count": 2,
   "id": "1d322ae3",
   "metadata": {},
   "outputs": [],
   "source": [
    "class Solution:\n",
    "    def minSubArrayLen(self, target: int, nums: list[int]) -> int:\n",
    "        res = float('Inf')\n",
    "        Sum = 0\n",
    "        index = 0\n",
    "        for i in range(len(nums)):\n",
    "            Sum += nums[i]\n",
    "            while Sum >= target:\n",
    "                res = min(res,i-index+1)\n",
    "                Sum -= nums[index]\n",
    "                index += 1\n",
    "        if res == float(\"Inf\"):\n",
    "            return 0\n",
    "        else:\n",
    "            return res "
   ]
  },
  {
   "cell_type": "code",
   "execution_count": null,
   "id": "3758f938",
   "metadata": {},
   "outputs": [],
   "source": []
  },
  {
   "cell_type": "code",
   "execution_count": null,
   "id": "6a9f7725",
   "metadata": {},
   "outputs": [],
   "source": []
  },
  {
   "cell_type": "markdown",
   "id": "f7a86b3e",
   "metadata": {},
   "source": [
    "## 1.5 螺旋矩阵 II"
   ]
  },
  {
   "cell_type": "code",
   "execution_count": null,
   "id": "238847f1",
   "metadata": {},
   "outputs": [],
   "source": []
  },
  {
   "cell_type": "code",
   "execution_count": null,
   "id": "797fd0a2",
   "metadata": {},
   "outputs": [],
   "source": []
  },
  {
   "cell_type": "markdown",
   "id": "5eacc0da",
   "metadata": {},
   "source": [
    "# 2 链表"
   ]
  },
  {
   "cell_type": "code",
   "execution_count": null,
   "id": "45e0c051",
   "metadata": {},
   "outputs": [],
   "source": []
  },
  {
   "cell_type": "markdown",
   "id": "70744c31",
   "metadata": {},
   "source": [
    "# 3 哈希表"
   ]
  },
  {
   "cell_type": "code",
   "execution_count": null,
   "id": "3edef1ff",
   "metadata": {},
   "outputs": [],
   "source": []
  },
  {
   "cell_type": "markdown",
   "id": "52672a36",
   "metadata": {},
   "source": [
    "# 4 字符串"
   ]
  },
  {
   "cell_type": "code",
   "execution_count": null,
   "id": "76f4e42b",
   "metadata": {},
   "outputs": [],
   "source": []
  },
  {
   "cell_type": "markdown",
   "id": "65381e22",
   "metadata": {},
   "source": [
    "# 5 双指针法"
   ]
  },
  {
   "cell_type": "code",
   "execution_count": null,
   "id": "c8e1be36",
   "metadata": {},
   "outputs": [],
   "source": []
  },
  {
   "cell_type": "markdown",
   "id": "89de8475",
   "metadata": {},
   "source": [
    "# 6 栈与队列"
   ]
  },
  {
   "cell_type": "code",
   "execution_count": null,
   "id": "4defe678",
   "metadata": {},
   "outputs": [],
   "source": []
  },
  {
   "cell_type": "markdown",
   "id": "fa323f2d",
   "metadata": {},
   "source": [
    "# 7 二叉树"
   ]
  },
  {
   "cell_type": "code",
   "execution_count": null,
   "id": "05b9a544",
   "metadata": {},
   "outputs": [],
   "source": []
  },
  {
   "cell_type": "markdown",
   "id": "957d0655",
   "metadata": {},
   "source": [
    "# 8 回溯算法"
   ]
  },
  {
   "cell_type": "code",
   "execution_count": null,
   "id": "de6aa881",
   "metadata": {},
   "outputs": [],
   "source": []
  },
  {
   "cell_type": "markdown",
   "id": "b8049b38",
   "metadata": {},
   "source": [
    "# 9 贪心算法"
   ]
  },
  {
   "cell_type": "code",
   "execution_count": null,
   "id": "2bcd2ece",
   "metadata": {},
   "outputs": [],
   "source": []
  },
  {
   "cell_type": "markdown",
   "id": "f6191006",
   "metadata": {},
   "source": [
    "# 10 动态规划"
   ]
  },
  {
   "cell_type": "code",
   "execution_count": null,
   "id": "e635a8d5",
   "metadata": {},
   "outputs": [],
   "source": []
  },
  {
   "cell_type": "markdown",
   "id": "9e18b8b0",
   "metadata": {},
   "source": [
    "# 11 单调栈"
   ]
  },
  {
   "cell_type": "code",
   "execution_count": null,
   "id": "4061eb14",
   "metadata": {},
   "outputs": [],
   "source": []
  }
 ],
 "metadata": {
  "kernelspec": {
   "display_name": "Python 3 (ipykernel)",
   "language": "python",
   "name": "python3"
  },
  "language_info": {
   "codemirror_mode": {
    "name": "ipython",
    "version": 3
   },
   "file_extension": ".py",
   "mimetype": "text/x-python",
   "name": "python",
   "nbconvert_exporter": "python",
   "pygments_lexer": "ipython3",
   "version": "3.9.7"
  }
 },
 "nbformat": 4,
 "nbformat_minor": 5
}
