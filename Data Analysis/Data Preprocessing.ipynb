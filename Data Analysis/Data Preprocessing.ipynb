{
 "cells": [
  {
   "cell_type": "markdown",
   "id": "c8239603",
   "metadata": {},
   "source": [
    "# Data Preprocessing\n",
    "KaiyangL"
   ]
  },
  {
   "cell_type": "markdown",
   "id": "6ead6df4",
   "metadata": {},
   "source": [
    "# Table of Content\n",
    "\n",
    "**- General Steps**\n",
    "1. Data Cleaning\n",
    "2. Data Integration\n",
    "3. Data Transformation\n",
    "4. Data Reduction\n",
    "\n",
    "**- Example 1 - Airbnb House Price (Basic)**\n",
    "1. Handling Missing Data: Deletion, Filling (fixed numbers, statistics, interpolation)\n",
    "2. Handling Features with Special Characters\n",
    "3. Encoding (Ordinal Encoding, One-Hot Encoding)\n",
    "4. Summary Statistics\n",
    "5. Transformation (leave only positive, log-transformation)\n",
    "6. Scaling (Min-Max Scaling, Standardisation)\n",
    "\n",
    "**- Example 2 - Loan Default (Advanced)(Continuing...)**\n",
    "1. Handling Missing Data\\\n",
    "a. Visualizing (Matrix, Correlation Map, Dendrogram, Simple Numeric Summaries)\\\n",
    "b. Methods (Deletion, Encoding, Imputation)\n",
    "2. Encoding Categorical Attributes\\\n",
    "a. Supervised: Liklihood Encoding, Target Encoding, Deep Learning\\\n",
    "b. Approaches for Novel Categories\\\n",
    "\\\n",
    "..."
   ]
  },
  {
   "cell_type": "markdown",
   "id": "55c76d02",
   "metadata": {},
   "source": [
    "## General Steps"
   ]
  },
  {
   "cell_type": "markdown",
   "id": "aee1f5e4",
   "metadata": {},
   "source": [
    " <img src=\"Data_Preprocessing.png\" width = \"800\" height = \"250\" align= left />"
   ]
  },
  {
   "cell_type": "markdown",
   "id": "63c06698",
   "metadata": {},
   "source": [
    "In specific, \n",
    "**Data transformation** is a process of converting the data from one format or representation to another.\\\n",
    "\n",
    "Types of data transformations\n",
    "    \n",
    "1. **Normalization or scaling**: This involves transforming the data so that it has a mean of zero and a standard deviation of one, or so that it is within a specified range (e.g. between 0 and 1). This is often done to ensure that different features are weighted equally in a model.\n",
    "\n",
    "2. **Encoding**: This involves converting categorical or ordinal data, which cannot be interpreted by a model, into numerical data that can be used by the model. There are several ways to encode data, including one-hot encoding and label encoding.\n",
    "\n",
    "3. **Aggregation**: This involves combining multiple values or observations into a single value, such as taking the average or sum of a group of numbers. This is often done to reduce the dimensionality of the data or to summarize the data in a meaningful way.\n",
    "\n",
    "4. **Smoothing**: This involves removing noise or random fluctuations from the data, in order to make it more stable and easier to interpret. This is often done using techniques such as smoothing splines or moving averages."
   ]
  },
  {
   "cell_type": "markdown",
   "id": "234b8163",
   "metadata": {},
   "source": [
    "# Example 1 : Airbnb House Price (Basic)"
   ]
  },
  {
   "cell_type": "code",
   "execution_count": 1,
   "id": "ada19df9",
   "metadata": {
    "scrolled": false
   },
   "outputs": [
    {
     "data": {
      "text/html": [
       "<div>\n",
       "<style scoped>\n",
       "    .dataframe tbody tr th:only-of-type {\n",
       "        vertical-align: middle;\n",
       "    }\n",
       "\n",
       "    .dataframe tbody tr th {\n",
       "        vertical-align: top;\n",
       "    }\n",
       "\n",
       "    .dataframe thead th {\n",
       "        text-align: right;\n",
       "    }\n",
       "</style>\n",
       "<table border=\"1\" class=\"dataframe\">\n",
       "  <thead>\n",
       "    <tr style=\"text-align: right;\">\n",
       "      <th></th>\n",
       "      <th>name</th>\n",
       "      <th>host_response_rate</th>\n",
       "      <th>host_is_superhost</th>\n",
       "      <th>host_listings_count</th>\n",
       "      <th>host_total_listings_count</th>\n",
       "      <th>host_identity_verified</th>\n",
       "      <th>latitude</th>\n",
       "      <th>longitude</th>\n",
       "      <th>is_location_exact</th>\n",
       "      <th>property_type</th>\n",
       "      <th>...</th>\n",
       "      <th>is_business_travel_ready</th>\n",
       "      <th>cancellation_policy</th>\n",
       "      <th>require_guest_profile_picture</th>\n",
       "      <th>require_guest_phone_verification</th>\n",
       "      <th>calculated_host_listings_count</th>\n",
       "      <th>calculated_host_listings_count_entire_homes</th>\n",
       "      <th>calculated_host_listings_count_private_rooms</th>\n",
       "      <th>calculated_host_listings_count_shared_rooms</th>\n",
       "      <th>reviews_per_month</th>\n",
       "      <th>price</th>\n",
       "    </tr>\n",
       "  </thead>\n",
       "  <tbody>\n",
       "    <tr>\n",
       "      <th>9835</th>\n",
       "      <td>HOAMA - Ambient and Cosy - Conveniently located</td>\n",
       "      <td>100%</td>\n",
       "      <td>f</td>\n",
       "      <td>10</td>\n",
       "      <td>10</td>\n",
       "      <td>f</td>\n",
       "      <td>-33.82413</td>\n",
       "      <td>151.07806</td>\n",
       "      <td>t</td>\n",
       "      <td>Apartment</td>\n",
       "      <td>...</td>\n",
       "      <td>f</td>\n",
       "      <td>strict_14_with_grace_period</td>\n",
       "      <td>f</td>\n",
       "      <td>f</td>\n",
       "      <td>10</td>\n",
       "      <td>10</td>\n",
       "      <td>0</td>\n",
       "      <td>0</td>\n",
       "      <td>1.48</td>\n",
       "      <td>$130.00</td>\n",
       "    </tr>\n",
       "    <tr>\n",
       "      <th>8191</th>\n",
       "      <td>Stairway to Heaven</td>\n",
       "      <td>NaN</td>\n",
       "      <td>f</td>\n",
       "      <td>1</td>\n",
       "      <td>1</td>\n",
       "      <td>f</td>\n",
       "      <td>-33.76006</td>\n",
       "      <td>151.26285</td>\n",
       "      <td>t</td>\n",
       "      <td>Townhouse</td>\n",
       "      <td>...</td>\n",
       "      <td>f</td>\n",
       "      <td>strict_14_with_grace_period</td>\n",
       "      <td>f</td>\n",
       "      <td>f</td>\n",
       "      <td>1</td>\n",
       "      <td>1</td>\n",
       "      <td>0</td>\n",
       "      <td>0</td>\n",
       "      <td>0.30</td>\n",
       "      <td>$225.00</td>\n",
       "    </tr>\n",
       "    <tr>\n",
       "      <th>1254</th>\n",
       "      <td>Cosy cottage, sunny terrace - near CBD, beaches</td>\n",
       "      <td>100%</td>\n",
       "      <td>t</td>\n",
       "      <td>2</td>\n",
       "      <td>2</td>\n",
       "      <td>f</td>\n",
       "      <td>-33.82620</td>\n",
       "      <td>151.22639</td>\n",
       "      <td>t</td>\n",
       "      <td>Cottage</td>\n",
       "      <td>...</td>\n",
       "      <td>f</td>\n",
       "      <td>strict_14_with_grace_period</td>\n",
       "      <td>f</td>\n",
       "      <td>f</td>\n",
       "      <td>2</td>\n",
       "      <td>1</td>\n",
       "      <td>1</td>\n",
       "      <td>0</td>\n",
       "      <td>1.40</td>\n",
       "      <td>$59.00</td>\n",
       "    </tr>\n",
       "    <tr>\n",
       "      <th>1195</th>\n",
       "      <td>Stylish and comfy one bedroom in heart of Sydney</td>\n",
       "      <td>100%</td>\n",
       "      <td>f</td>\n",
       "      <td>1</td>\n",
       "      <td>1</td>\n",
       "      <td>f</td>\n",
       "      <td>-33.87789</td>\n",
       "      <td>151.21450</td>\n",
       "      <td>t</td>\n",
       "      <td>Apartment</td>\n",
       "      <td>...</td>\n",
       "      <td>f</td>\n",
       "      <td>moderate</td>\n",
       "      <td>f</td>\n",
       "      <td>f</td>\n",
       "      <td>1</td>\n",
       "      <td>1</td>\n",
       "      <td>0</td>\n",
       "      <td>0</td>\n",
       "      <td>0.63</td>\n",
       "      <td>$99.00</td>\n",
       "    </tr>\n",
       "    <tr>\n",
       "      <th>4038</th>\n",
       "      <td>Clean tidy and fresh apartment (English&amp;??????)</td>\n",
       "      <td>NaN</td>\n",
       "      <td>f</td>\n",
       "      <td>1</td>\n",
       "      <td>1</td>\n",
       "      <td>f</td>\n",
       "      <td>-33.82706</td>\n",
       "      <td>151.08670</td>\n",
       "      <td>t</td>\n",
       "      <td>Apartment</td>\n",
       "      <td>...</td>\n",
       "      <td>f</td>\n",
       "      <td>flexible</td>\n",
       "      <td>f</td>\n",
       "      <td>f</td>\n",
       "      <td>1</td>\n",
       "      <td>0</td>\n",
       "      <td>1</td>\n",
       "      <td>0</td>\n",
       "      <td>0.06</td>\n",
       "      <td>$75.00</td>\n",
       "    </tr>\n",
       "    <tr>\n",
       "      <th>...</th>\n",
       "      <td>...</td>\n",
       "      <td>...</td>\n",
       "      <td>...</td>\n",
       "      <td>...</td>\n",
       "      <td>...</td>\n",
       "      <td>...</td>\n",
       "      <td>...</td>\n",
       "      <td>...</td>\n",
       "      <td>...</td>\n",
       "      <td>...</td>\n",
       "      <td>...</td>\n",
       "      <td>...</td>\n",
       "      <td>...</td>\n",
       "      <td>...</td>\n",
       "      <td>...</td>\n",
       "      <td>...</td>\n",
       "      <td>...</td>\n",
       "      <td>...</td>\n",
       "      <td>...</td>\n",
       "      <td>...</td>\n",
       "      <td>...</td>\n",
       "    </tr>\n",
       "    <tr>\n",
       "      <th>5734</th>\n",
       "      <td>STUNNING PENTHOUSE WITH FREE PARKING IN SYDNEY...</td>\n",
       "      <td>100%</td>\n",
       "      <td>t</td>\n",
       "      <td>2</td>\n",
       "      <td>2</td>\n",
       "      <td>t</td>\n",
       "      <td>-33.88310</td>\n",
       "      <td>151.20447</td>\n",
       "      <td>f</td>\n",
       "      <td>Apartment</td>\n",
       "      <td>...</td>\n",
       "      <td>f</td>\n",
       "      <td>strict_14_with_grace_period</td>\n",
       "      <td>f</td>\n",
       "      <td>f</td>\n",
       "      <td>2</td>\n",
       "      <td>2</td>\n",
       "      <td>0</td>\n",
       "      <td>0</td>\n",
       "      <td>7.22</td>\n",
       "      <td>$500.00</td>\n",
       "    </tr>\n",
       "    <tr>\n",
       "      <th>5191</th>\n",
       "      <td>Bondi beach at your doorstep.</td>\n",
       "      <td>NaN</td>\n",
       "      <td>f</td>\n",
       "      <td>1</td>\n",
       "      <td>1</td>\n",
       "      <td>f</td>\n",
       "      <td>-33.89228</td>\n",
       "      <td>151.28347</td>\n",
       "      <td>f</td>\n",
       "      <td>Apartment</td>\n",
       "      <td>...</td>\n",
       "      <td>f</td>\n",
       "      <td>strict_14_with_grace_period</td>\n",
       "      <td>f</td>\n",
       "      <td>f</td>\n",
       "      <td>1</td>\n",
       "      <td>1</td>\n",
       "      <td>0</td>\n",
       "      <td>0</td>\n",
       "      <td>0.05</td>\n",
       "      <td>$138.00</td>\n",
       "    </tr>\n",
       "    <tr>\n",
       "      <th>5390</th>\n",
       "      <td>Luxury Home with Idyllic views</td>\n",
       "      <td>NaN</td>\n",
       "      <td>f</td>\n",
       "      <td>1</td>\n",
       "      <td>1</td>\n",
       "      <td>t</td>\n",
       "      <td>-33.81950</td>\n",
       "      <td>151.22292</td>\n",
       "      <td>t</td>\n",
       "      <td>House</td>\n",
       "      <td>...</td>\n",
       "      <td>f</td>\n",
       "      <td>moderate</td>\n",
       "      <td>f</td>\n",
       "      <td>f</td>\n",
       "      <td>1</td>\n",
       "      <td>1</td>\n",
       "      <td>0</td>\n",
       "      <td>0</td>\n",
       "      <td>0.02</td>\n",
       "      <td>$700.00</td>\n",
       "    </tr>\n",
       "    <tr>\n",
       "      <th>860</th>\n",
       "      <td>Family friendly character home 6km to the CBD</td>\n",
       "      <td>NaN</td>\n",
       "      <td>f</td>\n",
       "      <td>1</td>\n",
       "      <td>1</td>\n",
       "      <td>f</td>\n",
       "      <td>-33.87770</td>\n",
       "      <td>151.15473</td>\n",
       "      <td>t</td>\n",
       "      <td>House</td>\n",
       "      <td>...</td>\n",
       "      <td>f</td>\n",
       "      <td>flexible</td>\n",
       "      <td>f</td>\n",
       "      <td>f</td>\n",
       "      <td>1</td>\n",
       "      <td>1</td>\n",
       "      <td>0</td>\n",
       "      <td>0</td>\n",
       "      <td>NaN</td>\n",
       "      <td>$180.00</td>\n",
       "    </tr>\n",
       "    <tr>\n",
       "      <th>7270</th>\n",
       "      <td>Sydney Matraville Unique Penthouse 3BED +Parki...</td>\n",
       "      <td>100%</td>\n",
       "      <td>f</td>\n",
       "      <td>2</td>\n",
       "      <td>2</td>\n",
       "      <td>f</td>\n",
       "      <td>-33.95546</td>\n",
       "      <td>151.23134</td>\n",
       "      <td>t</td>\n",
       "      <td>Apartment</td>\n",
       "      <td>...</td>\n",
       "      <td>f</td>\n",
       "      <td>strict_14_with_grace_period</td>\n",
       "      <td>f</td>\n",
       "      <td>f</td>\n",
       "      <td>3</td>\n",
       "      <td>3</td>\n",
       "      <td>0</td>\n",
       "      <td>0</td>\n",
       "      <td>2.66</td>\n",
       "      <td>$208.00</td>\n",
       "    </tr>\n",
       "  </tbody>\n",
       "</table>\n",
       "<p>7868 rows × 56 columns</p>\n",
       "</div>"
      ],
      "text/plain": [
       "                                                   name host_response_rate  \\\n",
       "9835    HOAMA - Ambient and Cosy - Conveniently located               100%   \n",
       "8191                                 Stairway to Heaven                NaN   \n",
       "1254    Cosy cottage, sunny terrace - near CBD, beaches               100%   \n",
       "1195   Stylish and comfy one bedroom in heart of Sydney               100%   \n",
       "4038    Clean tidy and fresh apartment (English&??????)                NaN   \n",
       "...                                                 ...                ...   \n",
       "5734  STUNNING PENTHOUSE WITH FREE PARKING IN SYDNEY...               100%   \n",
       "5191                      Bondi beach at your doorstep.                NaN   \n",
       "5390                     Luxury Home with Idyllic views                NaN   \n",
       "860       Family friendly character home 6km to the CBD                NaN   \n",
       "7270  Sydney Matraville Unique Penthouse 3BED +Parki...               100%   \n",
       "\n",
       "     host_is_superhost  host_listings_count  host_total_listings_count  \\\n",
       "9835                 f                   10                         10   \n",
       "8191                 f                    1                          1   \n",
       "1254                 t                    2                          2   \n",
       "1195                 f                    1                          1   \n",
       "4038                 f                    1                          1   \n",
       "...                ...                  ...                        ...   \n",
       "5734                 t                    2                          2   \n",
       "5191                 f                    1                          1   \n",
       "5390                 f                    1                          1   \n",
       "860                  f                    1                          1   \n",
       "7270                 f                    2                          2   \n",
       "\n",
       "     host_identity_verified  latitude  longitude is_location_exact  \\\n",
       "9835                      f -33.82413  151.07806                 t   \n",
       "8191                      f -33.76006  151.26285                 t   \n",
       "1254                      f -33.82620  151.22639                 t   \n",
       "1195                      f -33.87789  151.21450                 t   \n",
       "4038                      f -33.82706  151.08670                 t   \n",
       "...                     ...       ...        ...               ...   \n",
       "5734                      t -33.88310  151.20447                 f   \n",
       "5191                      f -33.89228  151.28347                 f   \n",
       "5390                      t -33.81950  151.22292                 t   \n",
       "860                       f -33.87770  151.15473                 t   \n",
       "7270                      f -33.95546  151.23134                 t   \n",
       "\n",
       "     property_type  ... is_business_travel_ready          cancellation_policy  \\\n",
       "9835     Apartment  ...                        f  strict_14_with_grace_period   \n",
       "8191     Townhouse  ...                        f  strict_14_with_grace_period   \n",
       "1254       Cottage  ...                        f  strict_14_with_grace_period   \n",
       "1195     Apartment  ...                        f                     moderate   \n",
       "4038     Apartment  ...                        f                     flexible   \n",
       "...            ...  ...                      ...                          ...   \n",
       "5734     Apartment  ...                        f  strict_14_with_grace_period   \n",
       "5191     Apartment  ...                        f  strict_14_with_grace_period   \n",
       "5390         House  ...                        f                     moderate   \n",
       "860          House  ...                        f                     flexible   \n",
       "7270     Apartment  ...                        f  strict_14_with_grace_period   \n",
       "\n",
       "      require_guest_profile_picture  require_guest_phone_verification  \\\n",
       "9835                              f                                 f   \n",
       "8191                              f                                 f   \n",
       "1254                              f                                 f   \n",
       "1195                              f                                 f   \n",
       "4038                              f                                 f   \n",
       "...                             ...                               ...   \n",
       "5734                              f                                 f   \n",
       "5191                              f                                 f   \n",
       "5390                              f                                 f   \n",
       "860                               f                                 f   \n",
       "7270                              f                                 f   \n",
       "\n",
       "      calculated_host_listings_count  \\\n",
       "9835                              10   \n",
       "8191                               1   \n",
       "1254                               2   \n",
       "1195                               1   \n",
       "4038                               1   \n",
       "...                              ...   \n",
       "5734                               2   \n",
       "5191                               1   \n",
       "5390                               1   \n",
       "860                                1   \n",
       "7270                               3   \n",
       "\n",
       "     calculated_host_listings_count_entire_homes  \\\n",
       "9835                                          10   \n",
       "8191                                           1   \n",
       "1254                                           1   \n",
       "1195                                           1   \n",
       "4038                                           0   \n",
       "...                                          ...   \n",
       "5734                                           2   \n",
       "5191                                           1   \n",
       "5390                                           1   \n",
       "860                                            1   \n",
       "7270                                           3   \n",
       "\n",
       "      calculated_host_listings_count_private_rooms  \\\n",
       "9835                                             0   \n",
       "8191                                             0   \n",
       "1254                                             1   \n",
       "1195                                             0   \n",
       "4038                                             1   \n",
       "...                                            ...   \n",
       "5734                                             0   \n",
       "5191                                             0   \n",
       "5390                                             0   \n",
       "860                                              0   \n",
       "7270                                             0   \n",
       "\n",
       "      calculated_host_listings_count_shared_rooms  reviews_per_month    price  \n",
       "9835                                            0               1.48  $130.00  \n",
       "8191                                            0               0.30  $225.00  \n",
       "1254                                            0               1.40   $59.00  \n",
       "1195                                            0               0.63   $99.00  \n",
       "4038                                            0               0.06   $75.00  \n",
       "...                                           ...                ...      ...  \n",
       "5734                                            0               7.22  $500.00  \n",
       "5191                                            0               0.05  $138.00  \n",
       "5390                                            0               0.02  $700.00  \n",
       "860                                             0                NaN  $180.00  \n",
       "7270                                            0               2.66  $208.00  \n",
       "\n",
       "[7868 rows x 56 columns]"
      ]
     },
     "execution_count": 1,
     "metadata": {},
     "output_type": "execute_result"
    }
   ],
   "source": [
    "import warnings\n",
    "warnings.filterwarnings(\"ignore\")\n",
    "import pandas as pd\n",
    "import numpy as np\n",
    "\n",
    "\n",
    "original_train = pd.read_csv('ab_train.csv',encoding ='ISO-8859-1',index_col = 0)\n",
    "original_test = pd.read_csv('ab_test.csv',encoding ='ISO-8859-1',index_col = 0)\n",
    "original_train"
   ]
  },
  {
   "cell_type": "code",
   "execution_count": 2,
   "id": "8c39300a",
   "metadata": {},
   "outputs": [
    {
     "name": "stdout",
     "output_type": "stream",
     "text": [
      "training set size: (7868, 56)\n",
      "(1968, 55)\n"
     ]
    }
   ],
   "source": [
    "#查看一下train和test set的行列数\n",
    "print('training set size: {0}'.format(original_train.shape))\n",
    "print(original_test.shape)"
   ]
  },
  {
   "cell_type": "markdown",
   "id": "75ffac39",
   "metadata": {},
   "source": [
    "### Handle Missing Data"
   ]
  },
  {
   "cell_type": "code",
   "execution_count": 3,
   "id": "4dbfd2a9",
   "metadata": {
    "scrolled": false
   },
   "outputs": [
    {
     "data": {
      "text/plain": [
       "name                                               0\n",
       "host_response_rate                              3666\n",
       "host_is_superhost                                  0\n",
       "host_listings_count                                0\n",
       "host_total_listings_count                          0\n",
       "host_identity_verified                             0\n",
       "latitude                                           0\n",
       "longitude                                          0\n",
       "is_location_exact                                  0\n",
       "property_type                                      0\n",
       "room_type                                          0\n",
       "accommodates                                       0\n",
       "bathrooms                                          4\n",
       "bedrooms                                           1\n",
       "beds                                              11\n",
       "bed_type                                           0\n",
       "square_feet                                     7820\n",
       "weekly_discount                                 7145\n",
       "monthly_discount                                7441\n",
       "security_deposit_perc                           2642\n",
       "cleaning_fee_perc                               1932\n",
       "guests_included                                    0\n",
       "extra_people_perc                                  0\n",
       "minimum_nights                                     0\n",
       "maximum_nights                                     0\n",
       "minimum_minimum_nights                             0\n",
       "maximum_minimum_nights                             0\n",
       "minimum_maximum_nights                             0\n",
       "maximum_maximum_nights                             0\n",
       "minimum_nights_avg_ntm                             0\n",
       "maximum_nights_avg_ntm                             0\n",
       "availability_30                                    0\n",
       "availability_60                                    0\n",
       "availability_90                                    0\n",
       "availability_365                                   0\n",
       "number_of_reviews                                  0\n",
       "number_of_reviews_ltm                              0\n",
       "review_scores_rating                            2325\n",
       "review_scores_accuracy                          2331\n",
       "review_scores_cleanliness                       2328\n",
       "review_scores_checkin                           2329\n",
       "review_scores_communication                     2329\n",
       "review_scores_location                          2329\n",
       "review_scores_value                             2330\n",
       "requires_license                                   0\n",
       "instant_bookable                                   0\n",
       "is_business_travel_ready                           0\n",
       "cancellation_policy                                1\n",
       "require_guest_profile_picture                      0\n",
       "require_guest_phone_verification                   0\n",
       "calculated_host_listings_count                     0\n",
       "calculated_host_listings_count_entire_homes        0\n",
       "calculated_host_listings_count_private_rooms       0\n",
       "calculated_host_listings_count_shared_rooms        0\n",
       "reviews_per_month                               2121\n",
       "price                                              0\n",
       "dtype: int64"
      ]
     },
     "execution_count": 3,
     "metadata": {},
     "output_type": "execute_result"
    }
   ],
   "source": [
    "pd.set_option('max_columns',100)\n",
    "pd.set_option('max_row',300)\n",
    "pd.set_option('display.float_format', lambda x: '%.5f' % x)\n",
    "\n",
    "original_train.isnull().sum()"
   ]
  },
  {
   "cell_type": "code",
   "execution_count": 4,
   "id": "6aacc39e",
   "metadata": {},
   "outputs": [
    {
     "data": {
      "text/plain": [
       "name                                               0\n",
       "host_response_rate                               900\n",
       "host_is_superhost                                  0\n",
       "host_listings_count                                0\n",
       "host_total_listings_count                          0\n",
       "host_identity_verified                             0\n",
       "latitude                                           0\n",
       "longitude                                          0\n",
       "is_location_exact                                  0\n",
       "property_type                                      0\n",
       "room_type                                          0\n",
       "accommodates                                       0\n",
       "bathrooms                                          1\n",
       "bedrooms                                           2\n",
       "beds                                               2\n",
       "bed_type                                           0\n",
       "square_feet                                     1957\n",
       "weekly_discount                                 1793\n",
       "monthly_discount                                1856\n",
       "security_deposit_perc                            661\n",
       "cleaning_fee_perc                                512\n",
       "guests_included                                    0\n",
       "extra_people_perc                                  0\n",
       "minimum_nights                                     0\n",
       "maximum_nights                                     0\n",
       "minimum_minimum_nights                             0\n",
       "maximum_minimum_nights                             0\n",
       "minimum_maximum_nights                             0\n",
       "maximum_maximum_nights                             0\n",
       "minimum_nights_avg_ntm                             0\n",
       "maximum_nights_avg_ntm                             0\n",
       "availability_30                                    0\n",
       "availability_60                                    0\n",
       "availability_90                                    0\n",
       "availability_365                                   0\n",
       "number_of_reviews                                  0\n",
       "number_of_reviews_ltm                              0\n",
       "review_scores_rating                             623\n",
       "review_scores_accuracy                           624\n",
       "review_scores_cleanliness                        624\n",
       "review_scores_checkin                            628\n",
       "review_scores_communication                      625\n",
       "review_scores_location                           629\n",
       "review_scores_value                              630\n",
       "requires_license                                   0\n",
       "instant_bookable                                   0\n",
       "is_business_travel_ready                           0\n",
       "cancellation_policy                                0\n",
       "require_guest_profile_picture                      0\n",
       "require_guest_phone_verification                   0\n",
       "calculated_host_listings_count                     0\n",
       "calculated_host_listings_count_entire_homes        0\n",
       "calculated_host_listings_count_private_rooms       0\n",
       "calculated_host_listings_count_shared_rooms        0\n",
       "reviews_per_month                                575\n",
       "dtype: int64"
      ]
     },
     "execution_count": 4,
     "metadata": {},
     "output_type": "execute_result"
    }
   ],
   "source": [
    "original_test.isnull().sum()"
   ]
  },
  {
   "cell_type": "code",
   "execution_count": 5,
   "id": "48471ba9",
   "metadata": {},
   "outputs": [],
   "source": [
    "# Deletion"
   ]
  },
  {
   "cell_type": "code",
   "execution_count": 6,
   "id": "75daf424",
   "metadata": {},
   "outputs": [],
   "source": [
    "filled_train = original_train.copy()\n",
    "filled_test = original_test.copy()"
   ]
  },
  {
   "cell_type": "code",
   "execution_count": 7,
   "id": "b884dbe0",
   "metadata": {},
   "outputs": [],
   "source": [
    "# Do the same for both train set and test set\n",
    "filled_train = filled_train.drop(['name','beds','square_feet'],axis = 1)\n",
    "filled_test = filled_test.drop(['name','beds','square_feet'],axis = 1)"
   ]
  },
  {
   "cell_type": "code",
   "execution_count": 8,
   "id": "2188d596",
   "metadata": {},
   "outputs": [],
   "source": [
    "# Filling"
   ]
  },
  {
   "cell_type": "code",
   "execution_count": 9,
   "id": "f432a1ca",
   "metadata": {},
   "outputs": [
    {
     "name": "stdout",
     "output_type": "stream",
     "text": [
      "(7862, 53)\n"
     ]
    }
   ],
   "source": [
    "\n",
    "'''----------------------------------------Filling some fixed numbers------------------------------------------'''\n",
    "\n",
    "filled_train['weekly_discount'] = filled_train['weekly_discount'].fillna(0)\n",
    "filled_train['monthly_discount'] = filled_train['monthly_discount'].fillna(0)\n",
    "filled_train['reviews_per_month'] = filled_train['reviews_per_month'].fillna(0)\n",
    "filled_train['host_response_rate'] = filled_train['host_response_rate'].fillna('0%')\n",
    "\n",
    "\n",
    "'''----------------------------------------Filling some statistics: mean()/median()/mode()-------------------'''\n",
    "filled_train['security_deposit_perc'] = filled_train['security_deposit_perc'].fillna(filled_train['security_deposit_perc'].mean())\n",
    "filled_train['cleaning_fee_perc'] = filled_train['cleaning_fee_perc'].apply(lambda x: filled_train['cleaning_fee_perc'].median()if pd.isnull(x) else x)\n",
    "\n",
    "\n",
    "'''----------------------------------------Filling with Interpolation-----------------------------------------------------'''\n",
    "\n",
    "inter_filled_col = ['review_scores_rating','review_scores_accuracy',\n",
    "                    'review_scores_cleanliness','review_scores_checkin',\n",
    "                   'review_scores_communication','review_scores_location','review_scores_value']\n",
    "filled_train[inter_filled_col] = filled_train[inter_filled_col].interpolate()\n",
    "\n",
    "\n",
    "'''---------------------------------------Dropping col with small amount of NA----------------------------------------------'''\n",
    "filled_train = filled_train.dropna()\n",
    "print(filled_train.shape)"
   ]
  },
  {
   "cell_type": "code",
   "execution_count": 10,
   "id": "7a8c9a5e",
   "metadata": {},
   "outputs": [],
   "source": [
    "\n",
    "'''----------------------------------------Filling some fixed numbers------------------------------------------'''\n",
    "\n",
    "filled_test['weekly_discount'] = filled_test['weekly_discount'].fillna(0)\n",
    "filled_test['monthly_discount'] = filled_test['monthly_discount'].fillna(0)\n",
    "filled_test['reviews_per_month'] = filled_test['reviews_per_month'].fillna(0)\n",
    "filled_test['host_response_rate'] = filled_test['host_response_rate'].fillna('0%')\n",
    "\n",
    "\n",
    "'''----------------------------------------Filling some statistics: mean()/median()/mode()-------------------'''\n",
    "filled_test['security_deposit_perc'] = filled_test['security_deposit_perc'].fillna(filled_test['security_deposit_perc'].mean())\n",
    "filled_test['cleaning_fee_perc'] = filled_test['cleaning_fee_perc'].apply(lambda x: filled_test['cleaning_fee_perc'].median()if pd.isnull(x) else x)\n",
    "\n",
    "\n",
    "'''----------------------------------------Filling with Interpolation-----------------------------------------------------'''\n",
    "\n",
    "inter_filled_col = ['review_scores_rating','review_scores_accuracy',\n",
    "                    'review_scores_cleanliness','review_scores_checkin',\n",
    "                   'review_scores_communication','review_scores_location','review_scores_value']\n",
    "filled_test[inter_filled_col] = filled_test[inter_filled_col].interpolate()\n",
    "\n",
    "\n",
    "'''---------------------------------------Filling col with small amount of NA by using their mean----------------------------------------------'''\n",
    "filled_test['bathrooms'] = filled_test['bathrooms'].fillna(filled_test['bathrooms'].mean())\n",
    "filled_test['bedrooms'] = filled_test['bedrooms'].fillna(filled_test['bedrooms'].mean())"
   ]
  },
  {
   "cell_type": "markdown",
   "id": "3aba3387",
   "metadata": {},
   "source": [
    "### Handling features with special characters"
   ]
  },
  {
   "cell_type": "code",
   "execution_count": 11,
   "id": "9ceca5a6",
   "metadata": {},
   "outputs": [],
   "source": [
    "FE_train = filled_train.copy()\n",
    "FE_test = filled_test.copy()"
   ]
  },
  {
   "cell_type": "code",
   "execution_count": 12,
   "id": "f01a8dc6",
   "metadata": {},
   "outputs": [],
   "source": [
    "# Dealing with \"price\" (Y)\n",
    "FE_train['price'] = FE_train['price'].apply(lambda x : float(x.split('$')[1].replace(',','')))\n",
    "\n",
    "# Dealing with \"host_response_rate\"\n",
    "FE_train['host_response_rate'] = FE_train['host_response_rate'].apply(lambda x: float(x.replace('%','')))\n",
    "\n",
    "# Same operation for test set\n",
    "FE_test['host_response_rate'] = FE_test['host_response_rate'].apply(lambda x: float(x.replace('%','')))"
   ]
  },
  {
   "cell_type": "markdown",
   "id": "390baa74",
   "metadata": {},
   "source": [
    "### Ordinal Encoding (Ordered Categories)"
   ]
  },
  {
   "cell_type": "code",
   "execution_count": 13,
   "id": "573e05a6",
   "metadata": {},
   "outputs": [
    {
     "name": "stdout",
     "output_type": "stream",
     "text": [
      "strict_14_with_grace_period    3429\n",
      "flexible                       2627\n",
      "moderate                       1771\n",
      "super_strict_60                  23\n",
      "super_strict_30                  12\n",
      "Name: cancellation_policy, dtype: int64\n"
     ]
    }
   ],
   "source": [
    "print(FE_train['cancellation_policy'].value_counts())"
   ]
  },
  {
   "cell_type": "markdown",
   "id": "c6f2dc39",
   "metadata": {},
   "source": [
    "Flexible: Full refund within limited period(one day prior)\n",
    "\n",
    "Moderate: Full refund within limited period(five day prior)\n",
    "\n",
    "Strict: Full refund if cancellation is within 48 hours of booking\n",
    "\n",
    "Super Strict 30 Days: 50% refund up until 30 days prior to check in, minus service fees\n",
    "\n",
    "Super Strict 60 Days: 50% refund up until 60 days prior to check in, minus service fees"
   ]
  },
  {
   "cell_type": "code",
   "execution_count": 14,
   "id": "94ac2f0c",
   "metadata": {},
   "outputs": [],
   "source": [
    "FE_train['cancellation_policy'] = FE_train['cancellation_policy'].replace({\n",
    "    'flexible':5,'moderate':4,'strict_14_with_grace_period':3,'super_strict_30':2,'super_strict_60':1})\n",
    "\n",
    "FE_test['cancellation_policy'] = FE_test['cancellation_policy'].replace({\n",
    "    'flexible':5,'moderate':4,'strict_14_with_grace_period':3,'super_strict_30':2,'super_strict_60':1})"
   ]
  },
  {
   "cell_type": "markdown",
   "id": "c6df9d10",
   "metadata": {},
   "source": [
    "### one-hot encoding"
   ]
  },
  {
   "cell_type": "code",
   "execution_count": 15,
   "id": "761227c2",
   "metadata": {},
   "outputs": [],
   "source": [
    "# vectorization"
   ]
  },
  {
   "cell_type": "code",
   "execution_count": 16,
   "id": "70100436",
   "metadata": {},
   "outputs": [
    {
     "name": "stdout",
     "output_type": "stream",
     "text": [
      "(7862, 80)\n",
      "(1968, 72)\n"
     ]
    }
   ],
   "source": [
    "FE_dm_train = pd.get_dummies(FE_train, drop_first=True).copy()\n",
    "FE_dm_test = pd.get_dummies(FE_test, drop_first=True).copy()\n",
    "print(FE_dm_train.shape)\n",
    "print(FE_dm_test.shape)"
   ]
  },
  {
   "cell_type": "code",
   "execution_count": 17,
   "id": "15c7e614",
   "metadata": {},
   "outputs": [
    {
     "data": {
      "text/plain": [
       "['price',\n",
       " 'property_type_Barn',\n",
       " 'property_type_Camper/RV',\n",
       " 'property_type_Cave',\n",
       " 'property_type_Dome house',\n",
       " 'property_type_Island',\n",
       " 'bed_type_Couch',\n",
       " 'bed_type_Futon',\n",
       " 'bed_type_Pull-out Sofa']"
      ]
     },
     "execution_count": 17,
     "metadata": {},
     "output_type": "execute_result"
    }
   ],
   "source": [
    "train_del = []\n",
    "for i in FE_dm_train.columns:\n",
    "    if i not in FE_dm_test.columns:\n",
    "        train_del.append(i)\n",
    "train_del"
   ]
  },
  {
   "cell_type": "code",
   "execution_count": 18,
   "id": "3e3b1907",
   "metadata": {},
   "outputs": [
    {
     "data": {
      "text/plain": [
       "['property_type_Yurt']"
      ]
     },
     "execution_count": 18,
     "metadata": {},
     "output_type": "execute_result"
    }
   ],
   "source": [
    "test_del = []\n",
    "for i in FE_dm_test.columns:\n",
    "    if i not in FE_dm_train.columns:\n",
    "        test_del.append(i)\n",
    "test_del"
   ]
  },
  {
   "cell_type": "code",
   "execution_count": 19,
   "id": "664d3c08",
   "metadata": {},
   "outputs": [
    {
     "data": {
      "text/plain": [
       "['property_type_Barn',\n",
       " 'property_type_Camper/RV',\n",
       " 'property_type_Cave',\n",
       " 'property_type_Dome house',\n",
       " 'property_type_Island',\n",
       " 'bed_type_Couch',\n",
       " 'bed_type_Futon',\n",
       " 'bed_type_Pull-out Sofa']"
      ]
     },
     "execution_count": 19,
     "metadata": {},
     "output_type": "execute_result"
    }
   ],
   "source": [
    "train_del[1:]"
   ]
  },
  {
   "cell_type": "code",
   "execution_count": 20,
   "id": "43f4d163",
   "metadata": {},
   "outputs": [
    {
     "name": "stdout",
     "output_type": "stream",
     "text": [
      "(7862, 72)\n",
      "(1968, 71)\n"
     ]
    }
   ],
   "source": [
    "FE_dm_train = FE_dm_train.drop(train_del[1:],axis = 1)\n",
    "FE_dm_test = FE_dm_test.drop(test_del,axis = 1)\n",
    "print(FE_dm_train.shape)\n",
    "print(FE_dm_test.shape)"
   ]
  },
  {
   "cell_type": "markdown",
   "id": "378f5d93",
   "metadata": {},
   "source": [
    "## Summary Statistics"
   ]
  },
  {
   "cell_type": "code",
   "execution_count": 21,
   "id": "57d1e90d",
   "metadata": {},
   "outputs": [],
   "source": [
    "# Check which is continues and categoricals"
   ]
  },
  {
   "cell_type": "code",
   "execution_count": 22,
   "id": "a39969ad",
   "metadata": {},
   "outputs": [
    {
     "name": "stdout",
     "output_type": "stream",
     "text": [
      "continuous_variable:['host_response_rate', 'host_listings_count', 'host_total_listings_count', 'latitude', 'longitude', 'accommodates', 'bathrooms', 'bedrooms', 'weekly_discount', 'monthly_discount', 'security_deposit_perc', 'cleaning_fee_perc', 'guests_included', 'extra_people_perc', 'minimum_nights', 'maximum_nights', 'minimum_minimum_nights', 'maximum_minimum_nights', 'minimum_maximum_nights', 'maximum_maximum_nights', 'minimum_nights_avg_ntm', 'maximum_nights_avg_ntm', 'availability_30', 'availability_60', 'availability_90', 'availability_365', 'number_of_reviews', 'number_of_reviews_ltm', 'review_scores_rating', 'review_scores_accuracy', 'review_scores_cleanliness', 'review_scores_checkin', 'review_scores_communication', 'review_scores_location', 'review_scores_value', 'cancellation_policy', 'calculated_host_listings_count', 'calculated_host_listings_count_entire_homes', 'calculated_host_listings_count_private_rooms', 'calculated_host_listings_count_shared_rooms', 'reviews_per_month', 'price']\n",
      "---------------------------------------------------\n",
      "dummy_variable:['host_is_superhost_t', 'host_identity_verified_t', 'is_location_exact_t', 'property_type_Apartment', 'property_type_Bed and breakfast', 'property_type_Boat', 'property_type_Boutique hotel', 'property_type_Bungalow', 'property_type_Cabin', 'property_type_Condominium', 'property_type_Cottage', 'property_type_Farm stay', 'property_type_Guest suite', 'property_type_Guesthouse', 'property_type_Hostel', 'property_type_Hotel', 'property_type_House', 'property_type_Loft', 'property_type_Other', 'property_type_Serviced apartment', 'property_type_Tent', 'property_type_Tiny house', 'property_type_Townhouse', 'property_type_Villa', 'room_type_Private room', 'room_type_Shared room', 'bed_type_Real Bed', 'instant_bookable_t', 'require_guest_profile_picture_t', 'require_guest_phone_verification_t']\n"
     ]
    }
   ],
   "source": [
    "continuous = []\n",
    "dummy = []\n",
    "for i in FE_dm_train.columns:\n",
    "    if FE_dm_train[i].value_counts().shape[0] > 2:\n",
    "        continuous.append(i)\n",
    "    else:\n",
    "        dummy.append(i)\n",
    "        \n",
    "print('continuous_variable:{0}'.format(continuous))\n",
    "print('---------------------------------------------------')\n",
    "print('dummy_variable:{0}'.format(dummy))"
   ]
  },
  {
   "cell_type": "code",
   "execution_count": 23,
   "id": "64a6e9c6",
   "metadata": {},
   "outputs": [
    {
     "data": {
      "text/html": [
       "<div>\n",
       "<style scoped>\n",
       "    .dataframe tbody tr th:only-of-type {\n",
       "        vertical-align: middle;\n",
       "    }\n",
       "\n",
       "    .dataframe tbody tr th {\n",
       "        vertical-align: top;\n",
       "    }\n",
       "\n",
       "    .dataframe thead th {\n",
       "        text-align: right;\n",
       "    }\n",
       "</style>\n",
       "<table border=\"1\" class=\"dataframe\">\n",
       "  <thead>\n",
       "    <tr style=\"text-align: right;\">\n",
       "      <th></th>\n",
       "      <th>host_response_rate</th>\n",
       "      <th>host_listings_count</th>\n",
       "      <th>host_total_listings_count</th>\n",
       "      <th>latitude</th>\n",
       "      <th>longitude</th>\n",
       "      <th>accommodates</th>\n",
       "      <th>bathrooms</th>\n",
       "      <th>bedrooms</th>\n",
       "      <th>weekly_discount</th>\n",
       "      <th>monthly_discount</th>\n",
       "      <th>security_deposit_perc</th>\n",
       "      <th>cleaning_fee_perc</th>\n",
       "      <th>guests_included</th>\n",
       "      <th>extra_people_perc</th>\n",
       "      <th>minimum_nights</th>\n",
       "      <th>maximum_nights</th>\n",
       "      <th>minimum_minimum_nights</th>\n",
       "      <th>maximum_minimum_nights</th>\n",
       "      <th>minimum_maximum_nights</th>\n",
       "      <th>maximum_maximum_nights</th>\n",
       "      <th>minimum_nights_avg_ntm</th>\n",
       "      <th>maximum_nights_avg_ntm</th>\n",
       "      <th>availability_30</th>\n",
       "      <th>availability_60</th>\n",
       "      <th>availability_90</th>\n",
       "      <th>availability_365</th>\n",
       "      <th>number_of_reviews</th>\n",
       "      <th>number_of_reviews_ltm</th>\n",
       "      <th>review_scores_rating</th>\n",
       "      <th>review_scores_accuracy</th>\n",
       "      <th>review_scores_cleanliness</th>\n",
       "      <th>review_scores_checkin</th>\n",
       "      <th>review_scores_communication</th>\n",
       "      <th>review_scores_location</th>\n",
       "      <th>review_scores_value</th>\n",
       "      <th>cancellation_policy</th>\n",
       "      <th>calculated_host_listings_count</th>\n",
       "      <th>calculated_host_listings_count_entire_homes</th>\n",
       "      <th>calculated_host_listings_count_private_rooms</th>\n",
       "      <th>calculated_host_listings_count_shared_rooms</th>\n",
       "      <th>reviews_per_month</th>\n",
       "      <th>price</th>\n",
       "    </tr>\n",
       "  </thead>\n",
       "  <tbody>\n",
       "    <tr>\n",
       "      <th>count</th>\n",
       "      <td>7862.00000</td>\n",
       "      <td>7862.00000</td>\n",
       "      <td>7862.00000</td>\n",
       "      <td>7862.00000</td>\n",
       "      <td>7862.00000</td>\n",
       "      <td>7862.00000</td>\n",
       "      <td>7862.00000</td>\n",
       "      <td>7862.00000</td>\n",
       "      <td>7862.00000</td>\n",
       "      <td>7862.00000</td>\n",
       "      <td>7862.00000</td>\n",
       "      <td>7862.00000</td>\n",
       "      <td>7862.00000</td>\n",
       "      <td>7862.00000</td>\n",
       "      <td>7862.00000</td>\n",
       "      <td>7862.00000</td>\n",
       "      <td>7862.00000</td>\n",
       "      <td>7862.00000</td>\n",
       "      <td>7862.00000</td>\n",
       "      <td>7862.00000</td>\n",
       "      <td>7862.00000</td>\n",
       "      <td>7862.00000</td>\n",
       "      <td>7862.00000</td>\n",
       "      <td>7862.00000</td>\n",
       "      <td>7862.00000</td>\n",
       "      <td>7862.00000</td>\n",
       "      <td>7862.00000</td>\n",
       "      <td>7862.00000</td>\n",
       "      <td>7862.00000</td>\n",
       "      <td>7862.00000</td>\n",
       "      <td>7862.00000</td>\n",
       "      <td>7862.00000</td>\n",
       "      <td>7862.00000</td>\n",
       "      <td>7862.00000</td>\n",
       "      <td>7862.00000</td>\n",
       "      <td>7862.00000</td>\n",
       "      <td>7862.00000</td>\n",
       "      <td>7862.00000</td>\n",
       "      <td>7862.00000</td>\n",
       "      <td>7862.00000</td>\n",
       "      <td>7862.00000</td>\n",
       "      <td>7862.00000</td>\n",
       "    </tr>\n",
       "    <tr>\n",
       "      <th>mean</th>\n",
       "      <td>50.43500</td>\n",
       "      <td>9.10700</td>\n",
       "      <td>9.10700</td>\n",
       "      <td>-33.86300</td>\n",
       "      <td>151.20800</td>\n",
       "      <td>3.59800</td>\n",
       "      <td>1.37000</td>\n",
       "      <td>1.64600</td>\n",
       "      <td>1.07200</td>\n",
       "      <td>1.33500</td>\n",
       "      <td>230.90500</td>\n",
       "      <td>49.37900</td>\n",
       "      <td>1.64300</td>\n",
       "      <td>8.40100</td>\n",
       "      <td>5.30200</td>\n",
       "      <td>671.92900</td>\n",
       "      <td>4.93900</td>\n",
       "      <td>5.74100</td>\n",
       "      <td>667.23100</td>\n",
       "      <td>672.14300</td>\n",
       "      <td>5.35500</td>\n",
       "      <td>669.72200</td>\n",
       "      <td>9.11000</td>\n",
       "      <td>20.24600</td>\n",
       "      <td>32.24000</td>\n",
       "      <td>97.96800</td>\n",
       "      <td>14.94200</td>\n",
       "      <td>6.40200</td>\n",
       "      <td>93.63300</td>\n",
       "      <td>9.57700</td>\n",
       "      <td>9.28900</td>\n",
       "      <td>9.73800</td>\n",
       "      <td>9.74500</td>\n",
       "      <td>9.72900</td>\n",
       "      <td>9.34100</td>\n",
       "      <td>3.88600</td>\n",
       "      <td>7.43400</td>\n",
       "      <td>6.69700</td>\n",
       "      <td>0.68900</td>\n",
       "      <td>0.04800</td>\n",
       "      <td>0.80200</td>\n",
       "      <td>213.74700</td>\n",
       "    </tr>\n",
       "    <tr>\n",
       "      <th>std</th>\n",
       "      <td>48.79900</td>\n",
       "      <td>30.30700</td>\n",
       "      <td>30.30700</td>\n",
       "      <td>0.07200</td>\n",
       "      <td>0.08000</td>\n",
       "      <td>2.23800</td>\n",
       "      <td>0.69600</td>\n",
       "      <td>1.11100</td>\n",
       "      <td>9.74400</td>\n",
       "      <td>8.05400</td>\n",
       "      <td>323.69600</td>\n",
       "      <td>30.43300</td>\n",
       "      <td>1.43300</td>\n",
       "      <td>17.89800</td>\n",
       "      <td>20.62000</td>\n",
       "      <td>531.62000</td>\n",
       "      <td>20.22200</td>\n",
       "      <td>20.76600</td>\n",
       "      <td>532.04300</td>\n",
       "      <td>541.66400</td>\n",
       "      <td>20.56500</td>\n",
       "      <td>541.69200</td>\n",
       "      <td>11.50700</td>\n",
       "      <td>23.74900</td>\n",
       "      <td>36.26400</td>\n",
       "      <td>121.93500</td>\n",
       "      <td>33.71900</td>\n",
       "      <td>13.39900</td>\n",
       "      <td>8.89600</td>\n",
       "      <td>0.89100</td>\n",
       "      <td>1.10200</td>\n",
       "      <td>0.71300</td>\n",
       "      <td>0.72400</td>\n",
       "      <td>0.62600</td>\n",
       "      <td>0.94100</td>\n",
       "      <td>0.88900</td>\n",
       "      <td>24.26200</td>\n",
       "      <td>24.33600</td>\n",
       "      <td>1.73200</td>\n",
       "      <td>0.81600</td>\n",
       "      <td>1.37400</td>\n",
       "      <td>249.59800</td>\n",
       "    </tr>\n",
       "    <tr>\n",
       "      <th>min</th>\n",
       "      <td>0.00000</td>\n",
       "      <td>0.00000</td>\n",
       "      <td>0.00000</td>\n",
       "      <td>-34.08800</td>\n",
       "      <td>150.60100</td>\n",
       "      <td>1.00000</td>\n",
       "      <td>0.00000</td>\n",
       "      <td>0.00000</td>\n",
       "      <td>-202.97600</td>\n",
       "      <td>-134.74200</td>\n",
       "      <td>0.00000</td>\n",
       "      <td>0.00000</td>\n",
       "      <td>1.00000</td>\n",
       "      <td>0.00000</td>\n",
       "      <td>1.00000</td>\n",
       "      <td>1.00000</td>\n",
       "      <td>1.00000</td>\n",
       "      <td>1.00000</td>\n",
       "      <td>1.00000</td>\n",
       "      <td>1.00000</td>\n",
       "      <td>1.00000</td>\n",
       "      <td>1.00000</td>\n",
       "      <td>0.00000</td>\n",
       "      <td>0.00000</td>\n",
       "      <td>0.00000</td>\n",
       "      <td>0.00000</td>\n",
       "      <td>0.00000</td>\n",
       "      <td>0.00000</td>\n",
       "      <td>20.00000</td>\n",
       "      <td>2.00000</td>\n",
       "      <td>2.00000</td>\n",
       "      <td>2.00000</td>\n",
       "      <td>2.00000</td>\n",
       "      <td>2.00000</td>\n",
       "      <td>2.00000</td>\n",
       "      <td>1.00000</td>\n",
       "      <td>1.00000</td>\n",
       "      <td>0.00000</td>\n",
       "      <td>0.00000</td>\n",
       "      <td>0.00000</td>\n",
       "      <td>0.00000</td>\n",
       "      <td>52.00000</td>\n",
       "    </tr>\n",
       "    <tr>\n",
       "      <th>25%</th>\n",
       "      <td>0.00000</td>\n",
       "      <td>1.00000</td>\n",
       "      <td>1.00000</td>\n",
       "      <td>-33.89700</td>\n",
       "      <td>151.18400</td>\n",
       "      <td>2.00000</td>\n",
       "      <td>1.00000</td>\n",
       "      <td>1.00000</td>\n",
       "      <td>0.00000</td>\n",
       "      <td>0.00000</td>\n",
       "      <td>119.00000</td>\n",
       "      <td>33.00000</td>\n",
       "      <td>1.00000</td>\n",
       "      <td>0.00000</td>\n",
       "      <td>1.00000</td>\n",
       "      <td>30.00000</td>\n",
       "      <td>1.00000</td>\n",
       "      <td>2.00000</td>\n",
       "      <td>30.00000</td>\n",
       "      <td>30.00000</td>\n",
       "      <td>1.60000</td>\n",
       "      <td>30.00000</td>\n",
       "      <td>0.00000</td>\n",
       "      <td>0.00000</td>\n",
       "      <td>0.00000</td>\n",
       "      <td>0.00000</td>\n",
       "      <td>0.00000</td>\n",
       "      <td>0.00000</td>\n",
       "      <td>91.00000</td>\n",
       "      <td>9.33300</td>\n",
       "      <td>9.00000</td>\n",
       "      <td>10.00000</td>\n",
       "      <td>10.00000</td>\n",
       "      <td>10.00000</td>\n",
       "      <td>9.00000</td>\n",
       "      <td>3.00000</td>\n",
       "      <td>1.00000</td>\n",
       "      <td>0.00000</td>\n",
       "      <td>0.00000</td>\n",
       "      <td>0.00000</td>\n",
       "      <td>0.00000</td>\n",
       "      <td>89.00000</td>\n",
       "    </tr>\n",
       "    <tr>\n",
       "      <th>50%</th>\n",
       "      <td>75.00000</td>\n",
       "      <td>1.00000</td>\n",
       "      <td>1.00000</td>\n",
       "      <td>-33.88100</td>\n",
       "      <td>151.21700</td>\n",
       "      <td>3.00000</td>\n",
       "      <td>1.00000</td>\n",
       "      <td>1.00000</td>\n",
       "      <td>0.00000</td>\n",
       "      <td>0.00000</td>\n",
       "      <td>230.90500</td>\n",
       "      <td>44.00000</td>\n",
       "      <td>1.00000</td>\n",
       "      <td>0.00000</td>\n",
       "      <td>2.00000</td>\n",
       "      <td>1125.00000</td>\n",
       "      <td>2.00000</td>\n",
       "      <td>3.00000</td>\n",
       "      <td>1125.00000</td>\n",
       "      <td>1125.00000</td>\n",
       "      <td>2.20000</td>\n",
       "      <td>1125.00000</td>\n",
       "      <td>0.00000</td>\n",
       "      <td>5.00000</td>\n",
       "      <td>11.00000</td>\n",
       "      <td>39.00000</td>\n",
       "      <td>2.00000</td>\n",
       "      <td>1.00000</td>\n",
       "      <td>96.00000</td>\n",
       "      <td>10.00000</td>\n",
       "      <td>10.00000</td>\n",
       "      <td>10.00000</td>\n",
       "      <td>10.00000</td>\n",
       "      <td>10.00000</td>\n",
       "      <td>9.66700</td>\n",
       "      <td>4.00000</td>\n",
       "      <td>1.00000</td>\n",
       "      <td>1.00000</td>\n",
       "      <td>0.00000</td>\n",
       "      <td>0.00000</td>\n",
       "      <td>0.16000</td>\n",
       "      <td>146.00000</td>\n",
       "    </tr>\n",
       "    <tr>\n",
       "      <th>75%</th>\n",
       "      <td>100.00000</td>\n",
       "      <td>3.00000</td>\n",
       "      <td>3.00000</td>\n",
       "      <td>-33.83300</td>\n",
       "      <td>151.26200</td>\n",
       "      <td>4.00000</td>\n",
       "      <td>1.87500</td>\n",
       "      <td>2.00000</td>\n",
       "      <td>0.00000</td>\n",
       "      <td>0.00000</td>\n",
       "      <td>230.90500</td>\n",
       "      <td>58.00000</td>\n",
       "      <td>2.00000</td>\n",
       "      <td>12.00000</td>\n",
       "      <td>5.00000</td>\n",
       "      <td>1125.00000</td>\n",
       "      <td>5.00000</td>\n",
       "      <td>5.00000</td>\n",
       "      <td>1125.00000</td>\n",
       "      <td>1125.00000</td>\n",
       "      <td>5.00000</td>\n",
       "      <td>1125.00000</td>\n",
       "      <td>20.00000</td>\n",
       "      <td>44.00000</td>\n",
       "      <td>70.00000</td>\n",
       "      <td>173.75000</td>\n",
       "      <td>12.00000</td>\n",
       "      <td>5.00000</td>\n",
       "      <td>100.00000</td>\n",
       "      <td>10.00000</td>\n",
       "      <td>10.00000</td>\n",
       "      <td>10.00000</td>\n",
       "      <td>10.00000</td>\n",
       "      <td>10.00000</td>\n",
       "      <td>10.00000</td>\n",
       "      <td>5.00000</td>\n",
       "      <td>2.00000</td>\n",
       "      <td>1.00000</td>\n",
       "      <td>1.00000</td>\n",
       "      <td>0.00000</td>\n",
       "      <td>1.00000</td>\n",
       "      <td>233.00000</td>\n",
       "    </tr>\n",
       "    <tr>\n",
       "      <th>max</th>\n",
       "      <td>100.00000</td>\n",
       "      <td>279.00000</td>\n",
       "      <td>279.00000</td>\n",
       "      <td>-33.39000</td>\n",
       "      <td>151.34000</td>\n",
       "      <td>16.00000</td>\n",
       "      <td>11.00000</td>\n",
       "      <td>19.00000</td>\n",
       "      <td>93.57100</td>\n",
       "      <td>93.87900</td>\n",
       "      <td>8475.00000</td>\n",
       "      <td>308.00000</td>\n",
       "      <td>16.00000</td>\n",
       "      <td>385.00000</td>\n",
       "      <td>1000.00000</td>\n",
       "      <td>3000.00000</td>\n",
       "      <td>1000.00000</td>\n",
       "      <td>1000.00000</td>\n",
       "      <td>3000.00000</td>\n",
       "      <td>9999.00000</td>\n",
       "      <td>1000.00000</td>\n",
       "      <td>9978.30000</td>\n",
       "      <td>30.00000</td>\n",
       "      <td>60.00000</td>\n",
       "      <td>90.00000</td>\n",
       "      <td>365.00000</td>\n",
       "      <td>413.00000</td>\n",
       "      <td>127.00000</td>\n",
       "      <td>100.00000</td>\n",
       "      <td>10.00000</td>\n",
       "      <td>10.00000</td>\n",
       "      <td>10.00000</td>\n",
       "      <td>10.00000</td>\n",
       "      <td>10.00000</td>\n",
       "      <td>10.00000</td>\n",
       "      <td>5.00000</td>\n",
       "      <td>197.00000</td>\n",
       "      <td>197.00000</td>\n",
       "      <td>21.00000</td>\n",
       "      <td>26.00000</td>\n",
       "      <td>13.49000</td>\n",
       "      <td>4656.00000</td>\n",
       "    </tr>\n",
       "    <tr>\n",
       "      <th>skew</th>\n",
       "      <td>-0.04100</td>\n",
       "      <td>5.86200</td>\n",
       "      <td>5.86200</td>\n",
       "      <td>1.11900</td>\n",
       "      <td>-2.21900</td>\n",
       "      <td>1.59500</td>\n",
       "      <td>2.81900</td>\n",
       "      <td>1.89300</td>\n",
       "      <td>-2.36800</td>\n",
       "      <td>3.44100</td>\n",
       "      <td>12.52200</td>\n",
       "      <td>1.91900</td>\n",
       "      <td>3.46900</td>\n",
       "      <td>5.71800</td>\n",
       "      <td>25.48200</td>\n",
       "      <td>-0.31300</td>\n",
       "      <td>26.93200</td>\n",
       "      <td>24.94700</td>\n",
       "      <td>-0.29500</td>\n",
       "      <td>0.35200</td>\n",
       "      <td>25.65400</td>\n",
       "      <td>0.35700</td>\n",
       "      <td>0.77300</td>\n",
       "      <td>0.61200</td>\n",
       "      <td>0.50700</td>\n",
       "      <td>1.04300</td>\n",
       "      <td>4.36700</td>\n",
       "      <td>3.25600</td>\n",
       "      <td>-3.28200</td>\n",
       "      <td>-3.93500</td>\n",
       "      <td>-2.80700</td>\n",
       "      <td>-4.99200</td>\n",
       "      <td>-5.01100</td>\n",
       "      <td>-3.95700</td>\n",
       "      <td>-2.88400</td>\n",
       "      <td>0.11100</td>\n",
       "      <td>5.55200</td>\n",
       "      <td>5.58400</td>\n",
       "      <td>6.05500</td>\n",
       "      <td>26.24600</td>\n",
       "      <td>2.80700</td>\n",
       "      <td>5.38300</td>\n",
       "    </tr>\n",
       "    <tr>\n",
       "      <th>kurt</th>\n",
       "      <td>-1.96800</td>\n",
       "      <td>39.66000</td>\n",
       "      <td>39.66000</td>\n",
       "      <td>3.24400</td>\n",
       "      <td>8.41000</td>\n",
       "      <td>3.41100</td>\n",
       "      <td>14.96800</td>\n",
       "      <td>11.26900</td>\n",
       "      <td>95.97000</td>\n",
       "      <td>56.59200</td>\n",
       "      <td>243.73600</td>\n",
       "      <td>7.04000</td>\n",
       "      <td>17.20600</td>\n",
       "      <td>69.49600</td>\n",
       "      <td>947.40800</td>\n",
       "      <td>-1.77000</td>\n",
       "      <td>1025.87100</td>\n",
       "      <td>919.09500</td>\n",
       "      <td>-1.78100</td>\n",
       "      <td>9.33200</td>\n",
       "      <td>957.27400</td>\n",
       "      <td>9.23700</td>\n",
       "      <td>-1.08600</td>\n",
       "      <td>-1.32900</td>\n",
       "      <td>-1.46400</td>\n",
       "      <td>-0.28100</td>\n",
       "      <td>25.35900</td>\n",
       "      <td>12.92000</td>\n",
       "      <td>16.75200</td>\n",
       "      <td>22.08400</td>\n",
       "      <td>11.31100</td>\n",
       "      <td>36.77100</td>\n",
       "      <td>35.57200</td>\n",
       "      <td>26.22600</td>\n",
       "      <td>13.55400</td>\n",
       "      <td>-1.38800</td>\n",
       "      <td>33.14800</td>\n",
       "      <td>33.37600</td>\n",
       "      <td>47.67100</td>\n",
       "      <td>748.48900</td>\n",
       "      <td>10.34200</td>\n",
       "      <td>47.73500</td>\n",
       "    </tr>\n",
       "  </tbody>\n",
       "</table>\n",
       "</div>"
      ],
      "text/plain": [
       "       host_response_rate  host_listings_count  host_total_listings_count  \\\n",
       "count          7862.00000           7862.00000                 7862.00000   \n",
       "mean             50.43500              9.10700                    9.10700   \n",
       "std              48.79900             30.30700                   30.30700   \n",
       "min               0.00000              0.00000                    0.00000   \n",
       "25%               0.00000              1.00000                    1.00000   \n",
       "50%              75.00000              1.00000                    1.00000   \n",
       "75%             100.00000              3.00000                    3.00000   \n",
       "max             100.00000            279.00000                  279.00000   \n",
       "skew             -0.04100              5.86200                    5.86200   \n",
       "kurt             -1.96800             39.66000                   39.66000   \n",
       "\n",
       "        latitude  longitude  accommodates  bathrooms   bedrooms  \\\n",
       "count 7862.00000 7862.00000    7862.00000 7862.00000 7862.00000   \n",
       "mean   -33.86300  151.20800       3.59800    1.37000    1.64600   \n",
       "std      0.07200    0.08000       2.23800    0.69600    1.11100   \n",
       "min    -34.08800  150.60100       1.00000    0.00000    0.00000   \n",
       "25%    -33.89700  151.18400       2.00000    1.00000    1.00000   \n",
       "50%    -33.88100  151.21700       3.00000    1.00000    1.00000   \n",
       "75%    -33.83300  151.26200       4.00000    1.87500    2.00000   \n",
       "max    -33.39000  151.34000      16.00000   11.00000   19.00000   \n",
       "skew     1.11900   -2.21900       1.59500    2.81900    1.89300   \n",
       "kurt     3.24400    8.41000       3.41100   14.96800   11.26900   \n",
       "\n",
       "       weekly_discount  monthly_discount  security_deposit_perc  \\\n",
       "count       7862.00000        7862.00000             7862.00000   \n",
       "mean           1.07200           1.33500              230.90500   \n",
       "std            9.74400           8.05400              323.69600   \n",
       "min         -202.97600        -134.74200                0.00000   \n",
       "25%            0.00000           0.00000              119.00000   \n",
       "50%            0.00000           0.00000              230.90500   \n",
       "75%            0.00000           0.00000              230.90500   \n",
       "max           93.57100          93.87900             8475.00000   \n",
       "skew          -2.36800           3.44100               12.52200   \n",
       "kurt          95.97000          56.59200              243.73600   \n",
       "\n",
       "       cleaning_fee_perc  guests_included  extra_people_perc  minimum_nights  \\\n",
       "count         7862.00000       7862.00000         7862.00000      7862.00000   \n",
       "mean            49.37900          1.64300            8.40100         5.30200   \n",
       "std             30.43300          1.43300           17.89800        20.62000   \n",
       "min              0.00000          1.00000            0.00000         1.00000   \n",
       "25%             33.00000          1.00000            0.00000         1.00000   \n",
       "50%             44.00000          1.00000            0.00000         2.00000   \n",
       "75%             58.00000          2.00000           12.00000         5.00000   \n",
       "max            308.00000         16.00000          385.00000      1000.00000   \n",
       "skew             1.91900          3.46900            5.71800        25.48200   \n",
       "kurt             7.04000         17.20600           69.49600       947.40800   \n",
       "\n",
       "       maximum_nights  minimum_minimum_nights  maximum_minimum_nights  \\\n",
       "count      7862.00000              7862.00000              7862.00000   \n",
       "mean        671.92900                 4.93900                 5.74100   \n",
       "std         531.62000                20.22200                20.76600   \n",
       "min           1.00000                 1.00000                 1.00000   \n",
       "25%          30.00000                 1.00000                 2.00000   \n",
       "50%        1125.00000                 2.00000                 3.00000   \n",
       "75%        1125.00000                 5.00000                 5.00000   \n",
       "max        3000.00000              1000.00000              1000.00000   \n",
       "skew         -0.31300                26.93200                24.94700   \n",
       "kurt         -1.77000              1025.87100               919.09500   \n",
       "\n",
       "       minimum_maximum_nights  maximum_maximum_nights  minimum_nights_avg_ntm  \\\n",
       "count              7862.00000              7862.00000              7862.00000   \n",
       "mean                667.23100               672.14300                 5.35500   \n",
       "std                 532.04300               541.66400                20.56500   \n",
       "min                   1.00000                 1.00000                 1.00000   \n",
       "25%                  30.00000                30.00000                 1.60000   \n",
       "50%                1125.00000              1125.00000                 2.20000   \n",
       "75%                1125.00000              1125.00000                 5.00000   \n",
       "max                3000.00000              9999.00000              1000.00000   \n",
       "skew                 -0.29500                 0.35200                25.65400   \n",
       "kurt                 -1.78100                 9.33200               957.27400   \n",
       "\n",
       "       maximum_nights_avg_ntm  availability_30  availability_60  \\\n",
       "count              7862.00000       7862.00000       7862.00000   \n",
       "mean                669.72200          9.11000         20.24600   \n",
       "std                 541.69200         11.50700         23.74900   \n",
       "min                   1.00000          0.00000          0.00000   \n",
       "25%                  30.00000          0.00000          0.00000   \n",
       "50%                1125.00000          0.00000          5.00000   \n",
       "75%                1125.00000         20.00000         44.00000   \n",
       "max                9978.30000         30.00000         60.00000   \n",
       "skew                  0.35700          0.77300          0.61200   \n",
       "kurt                  9.23700         -1.08600         -1.32900   \n",
       "\n",
       "       availability_90  availability_365  number_of_reviews  \\\n",
       "count       7862.00000        7862.00000         7862.00000   \n",
       "mean          32.24000          97.96800           14.94200   \n",
       "std           36.26400         121.93500           33.71900   \n",
       "min            0.00000           0.00000            0.00000   \n",
       "25%            0.00000           0.00000            0.00000   \n",
       "50%           11.00000          39.00000            2.00000   \n",
       "75%           70.00000         173.75000           12.00000   \n",
       "max           90.00000         365.00000          413.00000   \n",
       "skew           0.50700           1.04300            4.36700   \n",
       "kurt          -1.46400          -0.28100           25.35900   \n",
       "\n",
       "       number_of_reviews_ltm  review_scores_rating  review_scores_accuracy  \\\n",
       "count             7862.00000            7862.00000              7862.00000   \n",
       "mean                 6.40200              93.63300                 9.57700   \n",
       "std                 13.39900               8.89600                 0.89100   \n",
       "min                  0.00000              20.00000                 2.00000   \n",
       "25%                  0.00000              91.00000                 9.33300   \n",
       "50%                  1.00000              96.00000                10.00000   \n",
       "75%                  5.00000             100.00000                10.00000   \n",
       "max                127.00000             100.00000                10.00000   \n",
       "skew                 3.25600              -3.28200                -3.93500   \n",
       "kurt                12.92000              16.75200                22.08400   \n",
       "\n",
       "       review_scores_cleanliness  review_scores_checkin  \\\n",
       "count                 7862.00000             7862.00000   \n",
       "mean                     9.28900                9.73800   \n",
       "std                      1.10200                0.71300   \n",
       "min                      2.00000                2.00000   \n",
       "25%                      9.00000               10.00000   \n",
       "50%                     10.00000               10.00000   \n",
       "75%                     10.00000               10.00000   \n",
       "max                     10.00000               10.00000   \n",
       "skew                    -2.80700               -4.99200   \n",
       "kurt                    11.31100               36.77100   \n",
       "\n",
       "       review_scores_communication  review_scores_location  \\\n",
       "count                   7862.00000              7862.00000   \n",
       "mean                       9.74500                 9.72900   \n",
       "std                        0.72400                 0.62600   \n",
       "min                        2.00000                 2.00000   \n",
       "25%                       10.00000                10.00000   \n",
       "50%                       10.00000                10.00000   \n",
       "75%                       10.00000                10.00000   \n",
       "max                       10.00000                10.00000   \n",
       "skew                      -5.01100                -3.95700   \n",
       "kurt                      35.57200                26.22600   \n",
       "\n",
       "       review_scores_value  cancellation_policy  \\\n",
       "count           7862.00000           7862.00000   \n",
       "mean               9.34100              3.88600   \n",
       "std                0.94100              0.88900   \n",
       "min                2.00000              1.00000   \n",
       "25%                9.00000              3.00000   \n",
       "50%                9.66700              4.00000   \n",
       "75%               10.00000              5.00000   \n",
       "max               10.00000              5.00000   \n",
       "skew              -2.88400              0.11100   \n",
       "kurt              13.55400             -1.38800   \n",
       "\n",
       "       calculated_host_listings_count  \\\n",
       "count                      7862.00000   \n",
       "mean                          7.43400   \n",
       "std                          24.26200   \n",
       "min                           1.00000   \n",
       "25%                           1.00000   \n",
       "50%                           1.00000   \n",
       "75%                           2.00000   \n",
       "max                         197.00000   \n",
       "skew                          5.55200   \n",
       "kurt                         33.14800   \n",
       "\n",
       "       calculated_host_listings_count_entire_homes  \\\n",
       "count                                   7862.00000   \n",
       "mean                                       6.69700   \n",
       "std                                       24.33600   \n",
       "min                                        0.00000   \n",
       "25%                                        0.00000   \n",
       "50%                                        1.00000   \n",
       "75%                                        1.00000   \n",
       "max                                      197.00000   \n",
       "skew                                       5.58400   \n",
       "kurt                                      33.37600   \n",
       "\n",
       "       calculated_host_listings_count_private_rooms  \\\n",
       "count                                    7862.00000   \n",
       "mean                                        0.68900   \n",
       "std                                         1.73200   \n",
       "min                                         0.00000   \n",
       "25%                                         0.00000   \n",
       "50%                                         0.00000   \n",
       "75%                                         1.00000   \n",
       "max                                        21.00000   \n",
       "skew                                        6.05500   \n",
       "kurt                                       47.67100   \n",
       "\n",
       "       calculated_host_listings_count_shared_rooms  reviews_per_month  \\\n",
       "count                                   7862.00000         7862.00000   \n",
       "mean                                       0.04800            0.80200   \n",
       "std                                        0.81600            1.37400   \n",
       "min                                        0.00000            0.00000   \n",
       "25%                                        0.00000            0.00000   \n",
       "50%                                        0.00000            0.16000   \n",
       "75%                                        0.00000            1.00000   \n",
       "max                                       26.00000           13.49000   \n",
       "skew                                      26.24600            2.80700   \n",
       "kurt                                     748.48900           10.34200   \n",
       "\n",
       "           price  \n",
       "count 7862.00000  \n",
       "mean   213.74700  \n",
       "std    249.59800  \n",
       "min     52.00000  \n",
       "25%     89.00000  \n",
       "50%    146.00000  \n",
       "75%    233.00000  \n",
       "max   4656.00000  \n",
       "skew     5.38300  \n",
       "kurt    47.73500  "
      ]
     },
     "execution_count": 23,
     "metadata": {},
     "output_type": "execute_result"
    }
   ],
   "source": [
    "descriptive = FE_dm_train.describe()\n",
    "descriptive.loc['skew', :] = FE_dm_train.skew()\n",
    "descriptive.loc['kurt', :] = FE_dm_train.kurt()\n",
    "descriptive[continuous].round(3)"
   ]
  },
  {
   "cell_type": "code",
   "execution_count": 24,
   "id": "530fb199",
   "metadata": {},
   "outputs": [
    {
     "data": {
      "text/plain": [
       "room_type_Private room                         -0.30932\n",
       "property_type_Apartment                        -0.24512\n",
       "cancellation_policy                            -0.18418\n",
       "cleaning_fee_perc                              -0.15698\n",
       "extra_people_perc                              -0.14308\n",
       "calculated_host_listings_count_private_rooms   -0.13281\n",
       "reviews_per_month                              -0.09248\n",
       "instant_bookable_t                             -0.09223\n",
       "security_deposit_perc                          -0.07583\n",
       "number_of_reviews                              -0.07452\n",
       "number_of_reviews_ltm                          -0.07415\n",
       "property_type_Guest suite                      -0.04209\n",
       "property_type_Guesthouse                       -0.04167\n",
       "room_type_Shared room                          -0.03112\n",
       "host_is_superhost_t                            -0.03078\n",
       "calculated_host_listings_count_shared_rooms    -0.02984\n",
       "property_type_Townhouse                        -0.02847\n",
       "property_type_Hostel                           -0.02585\n",
       "require_guest_profile_picture_t                -0.01914\n",
       "property_type_Tiny house                       -0.01765\n",
       "property_type_Boutique hotel                   -0.01687\n",
       "property_type_Bed and breakfast                -0.01479\n",
       "review_scores_value                            -0.01413\n",
       "maximum_nights                                 -0.01354\n",
       "minimum_maximum_nights                         -0.01342\n",
       "property_type_Loft                             -0.01341\n",
       "property_type_Condominium                      -0.01281\n",
       "maximum_nights_avg_ntm                         -0.01183\n",
       "maximum_maximum_nights                         -0.01129\n",
       "property_type_Other                            -0.01123\n",
       "property_type_Cabin                            -0.01095\n",
       "property_type_Hotel                            -0.00859\n",
       "require_guest_phone_verification_t             -0.00837\n",
       "property_type_Tent                             -0.00120\n",
       "property_type_Farm stay                         0.00480\n",
       "property_type_Serviced apartment                0.00528\n",
       "property_type_Bungalow                          0.00829\n",
       "property_type_Cottage                           0.01044\n",
       "review_scores_accuracy                          0.01194\n",
       "host_response_rate                              0.01383\n",
       "minimum_minimum_nights                          0.01431\n",
       "minimum_nights                                  0.01481\n",
       "review_scores_communication                     0.01489\n",
       "minimum_nights_avg_ntm                          0.01516\n",
       "monthly_discount                                0.01699\n",
       "host_identity_verified_t                        0.02002\n",
       "maximum_minimum_nights                          0.02032\n",
       "bed_type_Real Bed                               0.02160\n",
       "review_scores_cleanliness                       0.02171\n",
       "review_scores_checkin                           0.02296\n",
       "is_location_exact_t                             0.03396\n",
       "review_scores_location                          0.03452\n",
       "review_scores_rating                            0.03847\n",
       "weekly_discount                                 0.04075\n",
       "availability_90                                 0.04816\n",
       "availability_60                                 0.05018\n",
       "property_type_Boat                              0.05640\n",
       "availability_30                                 0.06069\n",
       "property_type_Villa                             0.08919\n",
       "availability_365                                0.10482\n",
       "calculated_host_listings_count                  0.12374\n",
       "calculated_host_listings_count_entire_homes     0.13381\n",
       "host_total_listings_count                       0.15983\n",
       "host_listings_count                             0.15983\n",
       "longitude                                       0.16466\n",
       "guests_included                                 0.19839\n",
       "latitude                                        0.20802\n",
       "property_type_House                             0.30494\n",
       "bathrooms                                       0.58254\n",
       "accommodates                                    0.58966\n",
       "bedrooms                                        0.60091\n",
       "price                                           1.00000\n",
       "Name: price, dtype: float64"
      ]
     },
     "execution_count": 24,
     "metadata": {},
     "output_type": "execute_result"
    }
   ],
   "source": [
    "FE_dm_train.corr()['price'].sort_values()"
   ]
  },
  {
   "cell_type": "code",
   "execution_count": 25,
   "id": "29fc57d5",
   "metadata": {},
   "outputs": [],
   "source": [
    "# split the data x and target y"
   ]
  },
  {
   "cell_type": "code",
   "execution_count": 26,
   "id": "38c9c3d2",
   "metadata": {},
   "outputs": [],
   "source": [
    "X_train_ori = FE_dm_train.drop(['price'],axis = 1)\n",
    "y_train_ori = FE_dm_train['price']\n",
    "X_test_ori = FE_dm_test"
   ]
  },
  {
   "cell_type": "markdown",
   "id": "7585b4f2",
   "metadata": {},
   "source": [
    "### Transformation"
   ]
  },
  {
   "cell_type": "code",
   "execution_count": 27,
   "id": "0d6b71b5",
   "metadata": {},
   "outputs": [],
   "source": [
    "#latitude 都是负的，需要变为正数\n",
    "X_train_ori['latitude'] = -X_train_ori['latitude']\n",
    "X_test_ori['latitude'] = -X_test_ori['latitude']\n",
    "\n",
    "X_train_ori['weekly_discount'] = X_train_ori['weekly_discount'].apply(lambda x: 0 if x < 0 else x)\n",
    "X_test_ori['weekly_discount'] = X_test_ori['weekly_discount'].apply(lambda x: 0 if x < 0 else x)\n",
    "\n",
    "X_train_ori['monthly_discount'] = X_train_ori['monthly_discount'].apply(lambda x: 0 if x < 0 else x)\n",
    "X_test_ori['monthly_discount'] = X_test_ori['monthly_discount'].apply(lambda x: 0 if x < 0 else x)"
   ]
  },
  {
   "cell_type": "code",
   "execution_count": 28,
   "id": "f351007d",
   "metadata": {},
   "outputs": [],
   "source": [
    "# Log-transformation"
   ]
  },
  {
   "cell_type": "code",
   "execution_count": 29,
   "id": "2783dff4",
   "metadata": {},
   "outputs": [],
   "source": [
    "continuous.remove('price')\n",
    "\n",
    "# Better only to do log-transformation for the variable whose shew >0\n",
    "\n",
    "X_train_ori[continuous] = np.log1p(X_train_ori[continuous])\n",
    "X_train_log = X_train_ori.copy()\n",
    "\n",
    "X_test_ori[continuous] = np.log1p(X_test_ori[continuous])\n",
    "X_test_log = X_test_ori.copy()\n",
    "\n",
    "y_train_log = np.log(y_train_ori)"
   ]
  },
  {
   "cell_type": "markdown",
   "id": "92e69c51",
   "metadata": {},
   "source": [
    "### Scaling"
   ]
  },
  {
   "cell_type": "code",
   "execution_count": 30,
   "id": "5e657835",
   "metadata": {},
   "outputs": [],
   "source": [
    "# Two method to do data scaling, choose one\n",
    "\n",
    "# Min-max scaling\n",
    "X_train_log_mm = X_train_log.copy()\n",
    "for i in continuous:\n",
    "    X_train_log_mm[i] = (X_train_log_mm[i] - X_train_log_mm[i].min())/(X_train_log_mm[i].max() - X_train_log_mm[i].min())\n",
    "\n",
    "X_test_log_mm = X_test_log.copy()\n",
    "for i in continuous:\n",
    "    X_test_log_mm[i] = (X_test_log_mm[i] - X_test_log_mm[i].min())/(X_test_log_mm[i].max() - X_test_log_mm[i].min())\n",
    "\n",
    "\n",
    "#Standardisation\n",
    "X_train_log_std = X_train_log.copy()\n",
    "for i in continuous:\n",
    "    X_train_log_std[i] = (X_train_log_std[i] - X_train_log_std[i].mean())/X_train_log_std[i].std()\n",
    "\n",
    "X_test_log_std = X_test_log.copy()\n",
    "for i in continuous:\n",
    "    X_test_log_std[i] = (X_test_log_std[i] - X_test_log_std[i].mean())/X_test_log_std[i].std()"
   ]
  },
  {
   "cell_type": "markdown",
   "id": "eed80a4b",
   "metadata": {},
   "source": [
    "# **Example 2 : Loan Default (Advanced)**"
   ]
  },
  {
   "cell_type": "code",
   "execution_count": 31,
   "id": "4401a0f6",
   "metadata": {
    "execution": {
     "iopub.execute_input": "2022-04-14T14:28:36.737293Z",
     "iopub.status.busy": "2022-04-14T14:28:36.736746Z",
     "iopub.status.idle": "2022-04-14T14:28:36.746286Z",
     "shell.execute_reply": "2022-04-14T14:28:36.745596Z"
    },
    "papermill": {
     "duration": 0.085874,
     "end_time": "2022-04-14T14:28:36.748536",
     "exception": false,
     "start_time": "2022-04-14T14:28:36.662662",
     "status": "completed"
    },
    "tags": []
   },
   "outputs": [],
   "source": [
    "import pandas as pd\n",
    "import numpy as np\n",
    "import matplotlib.pyplot as plt"
   ]
  },
  {
   "cell_type": "code",
   "execution_count": 32,
   "id": "b96ebd91",
   "metadata": {
    "execution": {
     "iopub.execute_input": "2022-04-14T14:28:36.893483Z",
     "iopub.status.busy": "2022-04-14T14:28:36.892952Z",
     "iopub.status.idle": "2022-04-14T14:28:38.074229Z",
     "shell.execute_reply": "2022-04-14T14:28:38.073266Z"
    },
    "papermill": {
     "duration": 1.259018,
     "end_time": "2022-04-14T14:28:38.078465",
     "exception": false,
     "start_time": "2022-04-14T14:28:36.819447",
     "status": "completed"
    },
    "tags": []
   },
   "outputs": [
    {
     "data": {
      "text/html": [
       "<div>\n",
       "<style scoped>\n",
       "    .dataframe tbody tr th:only-of-type {\n",
       "        vertical-align: middle;\n",
       "    }\n",
       "\n",
       "    .dataframe tbody tr th {\n",
       "        vertical-align: top;\n",
       "    }\n",
       "\n",
       "    .dataframe thead th {\n",
       "        text-align: right;\n",
       "    }\n",
       "</style>\n",
       "<table border=\"1\" class=\"dataframe\">\n",
       "  <thead>\n",
       "    <tr style=\"text-align: right;\">\n",
       "      <th></th>\n",
       "      <th>ID</th>\n",
       "      <th>year</th>\n",
       "      <th>loan_limit</th>\n",
       "      <th>Gender</th>\n",
       "      <th>approv_in_adv</th>\n",
       "      <th>loan_type</th>\n",
       "      <th>loan_purpose</th>\n",
       "      <th>Credit_Worthiness</th>\n",
       "      <th>open_credit</th>\n",
       "      <th>business_or_commercial</th>\n",
       "      <th>loan_amount</th>\n",
       "      <th>rate_of_interest</th>\n",
       "      <th>Interest_rate_spread</th>\n",
       "      <th>Upfront_charges</th>\n",
       "      <th>term</th>\n",
       "      <th>Neg_ammortization</th>\n",
       "      <th>interest_only</th>\n",
       "      <th>lump_sum_payment</th>\n",
       "      <th>property_value</th>\n",
       "      <th>construction_type</th>\n",
       "      <th>occupancy_type</th>\n",
       "      <th>Secured_by</th>\n",
       "      <th>total_units</th>\n",
       "      <th>income</th>\n",
       "      <th>credit_type</th>\n",
       "      <th>Credit_Score</th>\n",
       "      <th>co-applicant_credit_type</th>\n",
       "      <th>age</th>\n",
       "      <th>submission_of_application</th>\n",
       "      <th>LTV</th>\n",
       "      <th>Region</th>\n",
       "      <th>Security_Type</th>\n",
       "      <th>Status</th>\n",
       "      <th>dtir1</th>\n",
       "    </tr>\n",
       "  </thead>\n",
       "  <tbody>\n",
       "    <tr>\n",
       "      <th>0</th>\n",
       "      <td>24890</td>\n",
       "      <td>2019</td>\n",
       "      <td>cf</td>\n",
       "      <td>Sex Not Available</td>\n",
       "      <td>nopre</td>\n",
       "      <td>type1</td>\n",
       "      <td>p1</td>\n",
       "      <td>l1</td>\n",
       "      <td>nopc</td>\n",
       "      <td>nob/c</td>\n",
       "      <td>116500</td>\n",
       "      <td>NaN</td>\n",
       "      <td>NaN</td>\n",
       "      <td>NaN</td>\n",
       "      <td>360.00000</td>\n",
       "      <td>not_neg</td>\n",
       "      <td>not_int</td>\n",
       "      <td>not_lpsm</td>\n",
       "      <td>118000.00000</td>\n",
       "      <td>sb</td>\n",
       "      <td>pr</td>\n",
       "      <td>home</td>\n",
       "      <td>1U</td>\n",
       "      <td>1740.00000</td>\n",
       "      <td>EXP</td>\n",
       "      <td>758</td>\n",
       "      <td>CIB</td>\n",
       "      <td>25-34</td>\n",
       "      <td>to_inst</td>\n",
       "      <td>98.72881</td>\n",
       "      <td>south</td>\n",
       "      <td>direct</td>\n",
       "      <td>1</td>\n",
       "      <td>45.00000</td>\n",
       "    </tr>\n",
       "    <tr>\n",
       "      <th>1</th>\n",
       "      <td>24891</td>\n",
       "      <td>2019</td>\n",
       "      <td>cf</td>\n",
       "      <td>Male</td>\n",
       "      <td>nopre</td>\n",
       "      <td>type2</td>\n",
       "      <td>p1</td>\n",
       "      <td>l1</td>\n",
       "      <td>nopc</td>\n",
       "      <td>b/c</td>\n",
       "      <td>206500</td>\n",
       "      <td>NaN</td>\n",
       "      <td>NaN</td>\n",
       "      <td>NaN</td>\n",
       "      <td>360.00000</td>\n",
       "      <td>not_neg</td>\n",
       "      <td>not_int</td>\n",
       "      <td>lpsm</td>\n",
       "      <td>NaN</td>\n",
       "      <td>sb</td>\n",
       "      <td>pr</td>\n",
       "      <td>home</td>\n",
       "      <td>1U</td>\n",
       "      <td>4980.00000</td>\n",
       "      <td>EQUI</td>\n",
       "      <td>552</td>\n",
       "      <td>EXP</td>\n",
       "      <td>55-64</td>\n",
       "      <td>to_inst</td>\n",
       "      <td>NaN</td>\n",
       "      <td>North</td>\n",
       "      <td>direct</td>\n",
       "      <td>1</td>\n",
       "      <td>NaN</td>\n",
       "    </tr>\n",
       "    <tr>\n",
       "      <th>2</th>\n",
       "      <td>24892</td>\n",
       "      <td>2019</td>\n",
       "      <td>cf</td>\n",
       "      <td>Male</td>\n",
       "      <td>pre</td>\n",
       "      <td>type1</td>\n",
       "      <td>p1</td>\n",
       "      <td>l1</td>\n",
       "      <td>nopc</td>\n",
       "      <td>nob/c</td>\n",
       "      <td>406500</td>\n",
       "      <td>4.56000</td>\n",
       "      <td>0.20000</td>\n",
       "      <td>595.00000</td>\n",
       "      <td>360.00000</td>\n",
       "      <td>neg_amm</td>\n",
       "      <td>not_int</td>\n",
       "      <td>not_lpsm</td>\n",
       "      <td>508000.00000</td>\n",
       "      <td>sb</td>\n",
       "      <td>pr</td>\n",
       "      <td>home</td>\n",
       "      <td>1U</td>\n",
       "      <td>9480.00000</td>\n",
       "      <td>EXP</td>\n",
       "      <td>834</td>\n",
       "      <td>CIB</td>\n",
       "      <td>35-44</td>\n",
       "      <td>to_inst</td>\n",
       "      <td>80.01969</td>\n",
       "      <td>south</td>\n",
       "      <td>direct</td>\n",
       "      <td>0</td>\n",
       "      <td>46.00000</td>\n",
       "    </tr>\n",
       "    <tr>\n",
       "      <th>3</th>\n",
       "      <td>24893</td>\n",
       "      <td>2019</td>\n",
       "      <td>cf</td>\n",
       "      <td>Male</td>\n",
       "      <td>nopre</td>\n",
       "      <td>type1</td>\n",
       "      <td>p4</td>\n",
       "      <td>l1</td>\n",
       "      <td>nopc</td>\n",
       "      <td>nob/c</td>\n",
       "      <td>456500</td>\n",
       "      <td>4.25000</td>\n",
       "      <td>0.68100</td>\n",
       "      <td>NaN</td>\n",
       "      <td>360.00000</td>\n",
       "      <td>not_neg</td>\n",
       "      <td>not_int</td>\n",
       "      <td>not_lpsm</td>\n",
       "      <td>658000.00000</td>\n",
       "      <td>sb</td>\n",
       "      <td>pr</td>\n",
       "      <td>home</td>\n",
       "      <td>1U</td>\n",
       "      <td>11880.00000</td>\n",
       "      <td>EXP</td>\n",
       "      <td>587</td>\n",
       "      <td>CIB</td>\n",
       "      <td>45-54</td>\n",
       "      <td>not_inst</td>\n",
       "      <td>69.37690</td>\n",
       "      <td>North</td>\n",
       "      <td>direct</td>\n",
       "      <td>0</td>\n",
       "      <td>42.00000</td>\n",
       "    </tr>\n",
       "    <tr>\n",
       "      <th>4</th>\n",
       "      <td>24894</td>\n",
       "      <td>2019</td>\n",
       "      <td>cf</td>\n",
       "      <td>Joint</td>\n",
       "      <td>pre</td>\n",
       "      <td>type1</td>\n",
       "      <td>p1</td>\n",
       "      <td>l1</td>\n",
       "      <td>nopc</td>\n",
       "      <td>nob/c</td>\n",
       "      <td>696500</td>\n",
       "      <td>4.00000</td>\n",
       "      <td>0.30420</td>\n",
       "      <td>0.00000</td>\n",
       "      <td>360.00000</td>\n",
       "      <td>not_neg</td>\n",
       "      <td>not_int</td>\n",
       "      <td>not_lpsm</td>\n",
       "      <td>758000.00000</td>\n",
       "      <td>sb</td>\n",
       "      <td>pr</td>\n",
       "      <td>home</td>\n",
       "      <td>1U</td>\n",
       "      <td>10440.00000</td>\n",
       "      <td>CRIF</td>\n",
       "      <td>602</td>\n",
       "      <td>EXP</td>\n",
       "      <td>25-34</td>\n",
       "      <td>not_inst</td>\n",
       "      <td>91.88654</td>\n",
       "      <td>North</td>\n",
       "      <td>direct</td>\n",
       "      <td>0</td>\n",
       "      <td>39.00000</td>\n",
       "    </tr>\n",
       "  </tbody>\n",
       "</table>\n",
       "</div>"
      ],
      "text/plain": [
       "      ID  year loan_limit             Gender approv_in_adv loan_type  \\\n",
       "0  24890  2019         cf  Sex Not Available         nopre     type1   \n",
       "1  24891  2019         cf               Male         nopre     type2   \n",
       "2  24892  2019         cf               Male           pre     type1   \n",
       "3  24893  2019         cf               Male         nopre     type1   \n",
       "4  24894  2019         cf              Joint           pre     type1   \n",
       "\n",
       "  loan_purpose Credit_Worthiness open_credit business_or_commercial  \\\n",
       "0           p1                l1        nopc                  nob/c   \n",
       "1           p1                l1        nopc                    b/c   \n",
       "2           p1                l1        nopc                  nob/c   \n",
       "3           p4                l1        nopc                  nob/c   \n",
       "4           p1                l1        nopc                  nob/c   \n",
       "\n",
       "   loan_amount  rate_of_interest  Interest_rate_spread  Upfront_charges  \\\n",
       "0       116500               NaN                   NaN              NaN   \n",
       "1       206500               NaN                   NaN              NaN   \n",
       "2       406500           4.56000               0.20000        595.00000   \n",
       "3       456500           4.25000               0.68100              NaN   \n",
       "4       696500           4.00000               0.30420          0.00000   \n",
       "\n",
       "       term Neg_ammortization interest_only lump_sum_payment  property_value  \\\n",
       "0 360.00000           not_neg       not_int         not_lpsm    118000.00000   \n",
       "1 360.00000           not_neg       not_int             lpsm             NaN   \n",
       "2 360.00000           neg_amm       not_int         not_lpsm    508000.00000   \n",
       "3 360.00000           not_neg       not_int         not_lpsm    658000.00000   \n",
       "4 360.00000           not_neg       not_int         not_lpsm    758000.00000   \n",
       "\n",
       "  construction_type occupancy_type Secured_by total_units      income  \\\n",
       "0                sb             pr       home          1U  1740.00000   \n",
       "1                sb             pr       home          1U  4980.00000   \n",
       "2                sb             pr       home          1U  9480.00000   \n",
       "3                sb             pr       home          1U 11880.00000   \n",
       "4                sb             pr       home          1U 10440.00000   \n",
       "\n",
       "  credit_type  Credit_Score co-applicant_credit_type    age  \\\n",
       "0         EXP           758                      CIB  25-34   \n",
       "1        EQUI           552                      EXP  55-64   \n",
       "2         EXP           834                      CIB  35-44   \n",
       "3         EXP           587                      CIB  45-54   \n",
       "4        CRIF           602                      EXP  25-34   \n",
       "\n",
       "  submission_of_application      LTV Region Security_Type  Status    dtir1  \n",
       "0                   to_inst 98.72881  south        direct       1 45.00000  \n",
       "1                   to_inst      NaN  North        direct       1      NaN  \n",
       "2                   to_inst 80.01969  south        direct       0 46.00000  \n",
       "3                  not_inst 69.37690  North        direct       0 42.00000  \n",
       "4                  not_inst 91.88654  North        direct       0 39.00000  "
      ]
     },
     "execution_count": 32,
     "metadata": {},
     "output_type": "execute_result"
    }
   ],
   "source": [
    "df = pd.read_csv(\"Loan_Default.csv\")\n",
    "df.head()"
   ]
  },
  {
   "cell_type": "code",
   "execution_count": 33,
   "id": "4b7102e8",
   "metadata": {
    "execution": {
     "iopub.execute_input": "2022-04-14T14:28:38.245254Z",
     "iopub.status.busy": "2022-04-14T14:28:38.244482Z",
     "iopub.status.idle": "2022-04-14T14:28:38.613172Z",
     "shell.execute_reply": "2022-04-14T14:28:38.612333Z"
    },
    "papermill": {
     "duration": 0.454718,
     "end_time": "2022-04-14T14:28:38.616135",
     "exception": false,
     "start_time": "2022-04-14T14:28:38.161417",
     "status": "completed"
    },
    "tags": []
   },
   "outputs": [
    {
     "name": "stdout",
     "output_type": "stream",
     "text": [
      "<class 'pandas.core.frame.DataFrame'>\n",
      "RangeIndex: 148670 entries, 0 to 148669\n",
      "Data columns (total 34 columns):\n",
      " #   Column                     Non-Null Count   Dtype  \n",
      "---  ------                     --------------   -----  \n",
      " 0   ID                         148670 non-null  int64  \n",
      " 1   year                       148670 non-null  int64  \n",
      " 2   loan_limit                 145326 non-null  object \n",
      " 3   Gender                     148670 non-null  object \n",
      " 4   approv_in_adv              147762 non-null  object \n",
      " 5   loan_type                  148670 non-null  object \n",
      " 6   loan_purpose               148536 non-null  object \n",
      " 7   Credit_Worthiness          148670 non-null  object \n",
      " 8   open_credit                148670 non-null  object \n",
      " 9   business_or_commercial     148670 non-null  object \n",
      " 10  loan_amount                148670 non-null  int64  \n",
      " 11  rate_of_interest           112231 non-null  float64\n",
      " 12  Interest_rate_spread       112031 non-null  float64\n",
      " 13  Upfront_charges            109028 non-null  float64\n",
      " 14  term                       148629 non-null  float64\n",
      " 15  Neg_ammortization          148549 non-null  object \n",
      " 16  interest_only              148670 non-null  object \n",
      " 17  lump_sum_payment           148670 non-null  object \n",
      " 18  property_value             133572 non-null  float64\n",
      " 19  construction_type          148670 non-null  object \n",
      " 20  occupancy_type             148670 non-null  object \n",
      " 21  Secured_by                 148670 non-null  object \n",
      " 22  total_units                148670 non-null  object \n",
      " 23  income                     139520 non-null  float64\n",
      " 24  credit_type                148670 non-null  object \n",
      " 25  Credit_Score               148670 non-null  int64  \n",
      " 26  co-applicant_credit_type   148670 non-null  object \n",
      " 27  age                        148470 non-null  object \n",
      " 28  submission_of_application  148470 non-null  object \n",
      " 29  LTV                        133572 non-null  float64\n",
      " 30  Region                     148670 non-null  object \n",
      " 31  Security_Type              148670 non-null  object \n",
      " 32  Status                     148670 non-null  int64  \n",
      " 33  dtir1                      124549 non-null  float64\n",
      "dtypes: float64(8), int64(5), object(21)\n",
      "memory usage: 38.6+ MB\n"
     ]
    }
   ],
   "source": [
    "df.info()"
   ]
  },
  {
   "cell_type": "markdown",
   "id": "72e40c0f",
   "metadata": {},
   "source": [
    "# 1 Handling Missing Values"
   ]
  },
  {
   "cell_type": "markdown",
   "id": "c81180fb",
   "metadata": {
    "papermill": {
     "duration": 0.075734,
     "end_time": "2022-04-14T14:28:38.770469",
     "exception": false,
     "start_time": "2022-04-14T14:28:38.694735",
     "status": "completed"
    },
    "tags": []
   },
   "source": [
    "Missing data are not rare in real data sets. In fact, the chance that at least one data point is missing increases as the data set size increases. Missing data can occur any number of ways, some of which include the following.\n",
    "\n",
    "- Merging of source data sets\n",
    "- Random events\n",
    "- Failures of measurement\n",
    "\n"
   ]
  },
  {
   "cell_type": "markdown",
   "id": "38baa481",
   "metadata": {},
   "source": [
    "## 1.1 Visualizing Missing Data"
   ]
  },
  {
   "cell_type": "markdown",
   "id": "94ad8eb1",
   "metadata": {
    "papermill": {
     "duration": 0.073689,
     "end_time": "2022-04-14T14:28:38.916605",
     "exception": false,
     "start_time": "2022-04-14T14:28:38.842916",
     "status": "completed"
    },
    "tags": []
   },
   "source": [
    "Visualizations as well as numeric summaries are the first step in understanding the challenge of missing information in a data set. For small to moderate data (100s of samples and 100s of attributes), several techniques are available that allow the visualization of all of the samples and Attributes simultaneously.\n",
    "\n",
    "In this notebook I'll Cover Following visualizations for missing values:-\n",
    "- Matrix\n",
    "- Correlation Heatmap\n",
    "- Dendrogram\n",
    "- Simple numerical summaries\n",
    "\n",
    "Question may arise that why we need Visualizations?\n",
    "Because it is wise to explore relationships within the attributes that might be related to missingness. "
   ]
  },
  {
   "cell_type": "markdown",
   "id": "93ec7608",
   "metadata": {},
   "source": [
    "### 1.1.1 Matrix"
   ]
  },
  {
   "cell_type": "markdown",
   "id": "70f9f462",
   "metadata": {
    "papermill": {
     "duration": 0.073006,
     "end_time": "2022-04-14T14:28:39.063155",
     "exception": false,
     "start_time": "2022-04-14T14:28:38.990149",
     "status": "completed"
    },
    "tags": []
   },
   "source": [
    "It is the nullity matrix that allows us to see the distribution of data across all columns in the whole dataset. It also shows a sparkline (or, in some cases, a striped line) that emphasizes rows in a dataset with the highest and lowest nullity."
   ]
  },
  {
   "cell_type": "code",
   "execution_count": 34,
   "id": "32d3895f",
   "metadata": {
    "execution": {
     "iopub.execute_input": "2022-04-14T14:28:39.209319Z",
     "iopub.status.busy": "2022-04-14T14:28:39.209045Z",
     "iopub.status.idle": "2022-04-14T14:28:40.364042Z",
     "shell.execute_reply": "2022-04-14T14:28:40.362997Z"
    },
    "papermill": {
     "duration": 1.231127,
     "end_time": "2022-04-14T14:28:40.366686",
     "exception": false,
     "start_time": "2022-04-14T14:28:39.135559",
     "status": "completed"
    },
    "tags": []
   },
   "outputs": [],
   "source": [
    "import missingno as msno"
   ]
  },
  {
   "cell_type": "code",
   "execution_count": 35,
   "id": "d289e55b",
   "metadata": {
    "execution": {
     "iopub.execute_input": "2022-04-14T14:28:40.514446Z",
     "iopub.status.busy": "2022-04-14T14:28:40.513823Z",
     "iopub.status.idle": "2022-04-14T14:28:43.127275Z",
     "shell.execute_reply": "2022-04-14T14:28:43.126629Z"
    },
    "papermill": {
     "duration": 2.691366,
     "end_time": "2022-04-14T14:28:43.130106",
     "exception": false,
     "start_time": "2022-04-14T14:28:40.438740",
     "status": "completed"
    },
    "tags": []
   },
   "outputs": [
    {
     "data": {
      "image/png": "[encoded data removed]",
      "text/plain": [
       "<Figure size 1800x720 with 2 Axes>"
      ]
     },
     "metadata": {
      "needs_background": "light"
     },
     "output_type": "display_data"
    },
    {
     "data": {
      "text/plain": [
       "<Figure size 1080x648 with 0 Axes>"
      ]
     },
     "metadata": {},
     "output_type": "display_data"
    }
   ],
   "source": [
    "msno.matrix(df)\n",
    "plt.figure(figsize = (15,9))\n",
    "plt.show()"
   ]
  },
  {
   "cell_type": "markdown",
   "id": "43c096c3",
   "metadata": {
    "papermill": {
     "duration": 0.07539,
     "end_time": "2022-04-14T14:28:43.283476",
     "exception": false,
     "start_time": "2022-04-14T14:28:43.208086",
     "status": "completed"
    },
    "tags": []
   },
   "source": [
    "From the above plot we can interpret our dataset has lots of missing values in it "
   ]
  },
  {
   "cell_type": "markdown",
   "id": "4fa02943",
   "metadata": {},
   "source": [
    "### 1.1.2 Correlation Heatmap"
   ]
  },
  {
   "cell_type": "markdown",
   "id": "3060590e",
   "metadata": {
    "papermill": {
     "duration": 0.075288,
     "end_time": "2022-04-14T14:28:43.434338",
     "exception": false,
     "start_time": "2022-04-14T14:28:43.359050",
     "status": "completed"
    },
    "tags": []
   },
   "source": [
    "Correlation heatmap measures nullity correlation between columns of the dataset. It shows how strongly the presence or absence of one feature affects the other.\n",
    "\n",
    "Nullity correlation ranges from(-1 to 1):\n",
    "- -1 means if one column(attribute) is present, the other is almost certainly absent.\n",
    "- 0 means there is no dependence between the columns(attributes).\n",
    "- 1 means if one column(attributes) is present, the other is also certainly present.\n",
    "\n",
    "Unlike in a familiar correlation heatmap, if you see here, many columns are missing. Those columns which are always full or always empty have no meaningful correlation and are removed from the visualization.\n",
    "\n",
    "The heatmap is helpful for identifying data completeness correlations between attribute pairs, but it has the limited explanatory ability for broader relationships and no special support for really big datasets."
   ]
  },
  {
   "cell_type": "code",
   "execution_count": 36,
   "id": "a633b0d6",
   "metadata": {
    "execution": {
     "iopub.execute_input": "2022-04-14T14:28:43.588644Z",
     "iopub.status.busy": "2022-04-14T14:28:43.588322Z",
     "iopub.status.idle": "2022-04-14T14:28:44.902870Z",
     "shell.execute_reply": "2022-04-14T14:28:44.902109Z"
    },
    "papermill": {
     "duration": 1.394471,
     "end_time": "2022-04-14T14:28:44.905726",
     "exception": false,
     "start_time": "2022-04-14T14:28:43.511255",
     "status": "completed"
    },
    "tags": []
   },
   "outputs": [
    {
     "data": {
      "text/plain": [
       "<AxesSubplot:>"
      ]
     },
     "execution_count": 36,
     "metadata": {},
     "output_type": "execute_result"
    },
    {
     "data": {
      "image/png": "[encoded data removed]",
      "text/plain": [
       "<Figure size 1440x864 with 1 Axes>"
      ]
     },
     "metadata": {
      "needs_background": "light"
     },
     "output_type": "display_data"
    }
   ],
   "source": [
    "msno.heatmap(df, labels = True)"
   ]
  },
  {
   "cell_type": "markdown",
   "id": "e2e29658",
   "metadata": {
    "papermill": {
     "duration": 0.078414,
     "end_time": "2022-04-14T14:28:45.064202",
     "exception": false,
     "start_time": "2022-04-14T14:28:44.985788",
     "status": "completed"
    },
    "tags": []
   },
   "source": [
    "From above visualization we can easily interpret missingness of attribute rate_of_interest and upfront_charges is dependent on each other(correlation value = 1) means if one will be present another will be present. "
   ]
  },
  {
   "cell_type": "markdown",
   "id": "df409d57",
   "metadata": {},
   "source": [
    "### 1.1.3 Dendrogram"
   ]
  },
  {
   "cell_type": "markdown",
   "id": "13600a25",
   "metadata": {
    "papermill": {
     "duration": 0.080878,
     "end_time": "2022-04-14T14:28:45.226684",
     "exception": false,
     "start_time": "2022-04-14T14:28:45.145806",
     "status": "completed"
    },
    "tags": []
   },
   "source": [
    "The dendrogram shows the hierarchical nullity relationship between columns. The dendrogram uses a hierarchical clustering algorithm against one another by their nullity correlation."
   ]
  },
  {
   "cell_type": "code",
   "execution_count": 37,
   "id": "834eb1a1",
   "metadata": {
    "execution": {
     "iopub.execute_input": "2022-04-14T14:28:45.387695Z",
     "iopub.status.busy": "2022-04-14T14:28:45.387185Z",
     "iopub.status.idle": "2022-04-14T14:28:45.749674Z",
     "shell.execute_reply": "2022-04-14T14:28:45.748971Z"
    },
    "papermill": {
     "duration": 0.445322,
     "end_time": "2022-04-14T14:28:45.751564",
     "exception": false,
     "start_time": "2022-04-14T14:28:45.306242",
     "status": "completed"
    },
    "tags": []
   },
   "outputs": [
    {
     "data": {
      "text/plain": [
       "['loan_limit',\n",
       " 'approv_in_adv',\n",
       " 'loan_purpose',\n",
       " 'rate_of_interest',\n",
       " 'Interest_rate_spread',\n",
       " 'Upfront_charges',\n",
       " 'term',\n",
       " 'Neg_ammortization',\n",
       " 'property_value',\n",
       " 'income',\n",
       " 'age',\n",
       " 'submission_of_application',\n",
       " 'LTV',\n",
       " 'dtir1']"
      ]
     },
     "execution_count": 37,
     "metadata": {},
     "output_type": "execute_result"
    }
   ],
   "source": [
    "# Columns having missing values\n",
    "missing_columns = [col for col in df.columns if df[col].isnull().sum() > 0]\n",
    "missing_columns"
   ]
  },
  {
   "cell_type": "code",
   "execution_count": 38,
   "id": "05ff4d15",
   "metadata": {
    "execution": {
     "iopub.execute_input": "2022-04-14T14:28:45.913924Z",
     "iopub.status.busy": "2022-04-14T14:28:45.913501Z",
     "iopub.status.idle": "2022-04-14T14:28:46.458622Z",
     "shell.execute_reply": "2022-04-14T14:28:46.457700Z"
    },
    "papermill": {
     "duration": 0.628518,
     "end_time": "2022-04-14T14:28:46.461319",
     "exception": false,
     "start_time": "2022-04-14T14:28:45.832801",
     "status": "completed"
    },
    "tags": []
   },
   "outputs": [
    {
     "data": {
      "text/plain": [
       "<AxesSubplot:>"
      ]
     },
     "execution_count": 38,
     "metadata": {},
     "output_type": "execute_result"
    },
    {
     "data": {
      "image/png": "[encoded data removed]",
      "text/plain": [
       "<Figure size 1800x720 with 1 Axes>"
      ]
     },
     "metadata": {
      "needs_background": "light"
     },
     "output_type": "display_data"
    }
   ],
   "source": [
    "msno.dendrogram(df[missing_columns])"
   ]
  },
  {
   "cell_type": "markdown",
   "id": "8357a7df",
   "metadata": {
    "papermill": {
     "duration": 0.083146,
     "end_time": "2022-04-14T14:28:46.626399",
     "exception": false,
     "start_time": "2022-04-14T14:28:46.543253",
     "status": "completed"
    },
    "tags": []
   },
   "source": [
    "We interpret the dendrogram based on a top-down approach, i.e., to focus on the height at which any two columns are joined together with matters of nullity. More will be the height less will be the relation and vice versa is also True. \n",
    "\n",
    "For example if we see pair of attributes LTV and property value has height 0 implies they are highly correlated in case of nullity. Similarly attribute LTV and rate_of_interest have maximum height implies they are less correlated with each other.  "
   ]
  },
  {
   "cell_type": "markdown",
   "id": "0a6f51ed",
   "metadata": {},
   "source": [
    "### 1.1.4 Simple Numerical Summaries"
   ]
  },
  {
   "cell_type": "markdown",
   "id": "c8ce1de1",
   "metadata": {
    "papermill": {
     "duration": 0.08237,
     "end_time": "2022-04-14T14:28:46.792729",
     "exception": false,
     "start_time": "2022-04-14T14:28:46.710359",
     "status": "completed"
    },
    "tags": []
   },
   "source": [
    "Moving Forward lets try to analyse numerical summary of missing attributes. Simple numerical summaries are effective at identifying problematic predictors and samples when the data become too large to visually inspect."
   ]
  },
  {
   "cell_type": "code",
   "execution_count": 39,
   "id": "90443c3f",
   "metadata": {
    "execution": {
     "iopub.execute_input": "2022-04-14T14:28:46.959435Z",
     "iopub.status.busy": "2022-04-14T14:28:46.959017Z",
     "iopub.status.idle": "2022-04-14T14:28:46.965072Z",
     "shell.execute_reply": "2022-04-14T14:28:46.964180Z"
    },
    "papermill": {
     "duration": 0.092352,
     "end_time": "2022-04-14T14:28:46.967154",
     "exception": false,
     "start_time": "2022-04-14T14:28:46.874802",
     "status": "completed"
    },
    "tags": []
   },
   "outputs": [],
   "source": [
    "def get_numerical_summary(df):\n",
    "    total = df.shape[0]\n",
    "    missing_columns = [col for col in df.columns if df[col].isnull().sum() > 0]\n",
    "    missing_percent = {}\n",
    "    for col in missing_columns:\n",
    "        null_count = df[col].isnull().sum()\n",
    "        per = (null_count/total) * 100\n",
    "        missing_percent[col] = per\n",
    "        print(\"{} : {} ({}%)\".format(col, null_count, round(per, 3)))\n",
    "    return missing_percent"
   ]
  },
  {
   "cell_type": "code",
   "execution_count": 40,
   "id": "33a54f20",
   "metadata": {
    "execution": {
     "iopub.execute_input": "2022-04-14T14:28:47.134511Z",
     "iopub.status.busy": "2022-04-14T14:28:47.134069Z",
     "iopub.status.idle": "2022-04-14T14:28:47.590937Z",
     "shell.execute_reply": "2022-04-14T14:28:47.589422Z"
    },
    "papermill": {
     "duration": 0.542852,
     "end_time": "2022-04-14T14:28:47.593527",
     "exception": false,
     "start_time": "2022-04-14T14:28:47.050675",
     "status": "completed"
    },
    "tags": []
   },
   "outputs": [
    {
     "name": "stdout",
     "output_type": "stream",
     "text": [
      "loan_limit : 3344 (2.249%)\n",
      "approv_in_adv : 908 (0.611%)\n",
      "loan_purpose : 134 (0.09%)\n",
      "rate_of_interest : 36439 (24.51%)\n",
      "Interest_rate_spread : 36639 (24.645%)\n",
      "Upfront_charges : 39642 (26.664%)\n",
      "term : 41 (0.028%)\n",
      "Neg_ammortization : 121 (0.081%)\n",
      "property_value : 15098 (10.155%)\n",
      "income : 9150 (6.155%)\n",
      "age : 200 (0.135%)\n",
      "submission_of_application : 200 (0.135%)\n",
      "LTV : 15098 (10.155%)\n",
      "dtir1 : 24121 (16.225%)\n"
     ]
    }
   ],
   "source": [
    "missing_percent = get_numerical_summary(df)"
   ]
  },
  {
   "cell_type": "markdown",
   "id": "ec8cd4bc",
   "metadata": {
    "papermill": {
     "duration": 0.08464,
     "end_time": "2022-04-14T14:28:47.764213",
     "exception": false,
     "start_time": "2022-04-14T14:28:47.679573",
     "status": "completed"
    },
    "tags": []
   },
   "source": [
    "Now I guess visualization part is done lets move forward to methods which we can use to handle missing values."
   ]
  },
  {
   "cell_type": "markdown",
   "id": "e9b78714",
   "metadata": {},
   "source": [
    "## 1.2 Methods to Handle Missing Data"
   ]
  },
  {
   "cell_type": "markdown",
   "id": "0f5922dd",
   "metadata": {
    "papermill": {
     "duration": 0.082712,
     "end_time": "2022-04-14T14:28:47.932066",
     "exception": false,
     "start_time": "2022-04-14T14:28:47.849354",
     "status": "completed"
    },
    "tags": []
   },
   "source": [
    "As we Know if our data has missing values than our model will not train except few models which can tolerate them like some tree based models but the point is we want to handle this and how can we handle them. So, in this notebook to handle missing data I will discuss following techniques :-\n",
    "\n",
    "- Deletion of Data \n",
    "- Encoding Missingness\n",
    "- Imputation Methods\n"
   ]
  },
  {
   "cell_type": "markdown",
   "id": "743f7137",
   "metadata": {},
   "source": [
    "### 1.2.1 Deletion of Data"
   ]
  },
  {
   "cell_type": "markdown",
   "id": "bedf6f40",
   "metadata": {
    "papermill": {
     "duration": 0.085186,
     "end_time": "2022-04-14T14:28:48.101552",
     "exception": false,
     "start_time": "2022-04-14T14:28:48.016366",
     "status": "completed"
    },
    "tags": []
   },
   "source": [
    "The simplest approach for dealing with missing values is to remove entire attribute(s) and/or sample(s) that contain missing values. However, one must carefully consider a number of aspects of the data prior to taking this approach. For example, missing values could be eliminated by removing all predictors that contain at least one missing value. Similarly, missing values could be eliminated by removing all samples with any missing values.\n",
    "\n",
    "**Note: When it is difficult to obtain samples or when the data contain a small number of samples (i.e., rows), then it is not desirable to remove samples from the data.**\n",
    "\n",
    "Consider this small intuition shown below\n",
    "\n",
    "Let M = Number of Samples(rows).\\\n",
    "and Let N = Number of Attributes(columns).\n",
    "\n",
    "\n",
    "Case 1: Deletion of Attributes\n",
    "\n",
    "If N has range of [1-10]\\\n",
    "Then don't delete the attribute that contain missing values but if that attribute has missing values around 80-90% then deletion of that attribute will be good option instead of just predicting values of those 80-90% data based on that 10-20% data. \n",
    "\n",
    "Case 2: Deletion of Samples\n",
    "\n",
    "If M is a large number according to your task\\\n",
    "Then deletion of sample can be a Good step but if that sample has few missing values with respect to attribute, then you should consider methods to fill those missing values.\n",
    "\n",
    "Lets move on to the implementation part, I will just show how to delete data for both cases but you can interpret more according to your tasks."
   ]
  },
  {
   "cell_type": "markdown",
   "id": "1a40d2a8",
   "metadata": {
    "papermill": {
     "duration": 0.082762,
     "end_time": "2022-04-14T14:28:48.267130",
     "exception": false,
     "start_time": "2022-04-14T14:28:48.184368",
     "status": "completed"
    },
    "tags": []
   },
   "source": [
    "**Deletion of an Attribute**\n",
    "\n",
    "According to Simple numerical Summaries the attribute Upfront_charges has largest missing values percentage of (26.664%) which is not ideal percentage to remove a feature but just for sake of implementation I will remove that feature."
   ]
  },
  {
   "cell_type": "code",
   "execution_count": 41,
   "id": "d8439b2e",
   "metadata": {
    "execution": {
     "iopub.execute_input": "2022-04-14T14:28:48.434863Z",
     "iopub.status.busy": "2022-04-14T14:28:48.434553Z",
     "iopub.status.idle": "2022-04-14T14:28:48.479105Z",
     "shell.execute_reply": "2022-04-14T14:28:48.478085Z"
    },
    "papermill": {
     "duration": 0.13057,
     "end_time": "2022-04-14T14:28:48.481516",
     "exception": false,
     "start_time": "2022-04-14T14:28:48.350946",
     "status": "completed"
    },
    "tags": []
   },
   "outputs": [],
   "source": [
    "df_temp = df.copy()"
   ]
  },
  {
   "cell_type": "code",
   "execution_count": 42,
   "id": "eb5f0011",
   "metadata": {
    "execution": {
     "iopub.execute_input": "2022-04-14T14:28:48.650855Z",
     "iopub.status.busy": "2022-04-14T14:28:48.650531Z",
     "iopub.status.idle": "2022-04-14T14:28:48.698970Z",
     "shell.execute_reply": "2022-04-14T14:28:48.697901Z"
    },
    "papermill": {
     "duration": 0.136013,
     "end_time": "2022-04-14T14:28:48.701547",
     "exception": false,
     "start_time": "2022-04-14T14:28:48.565534",
     "status": "completed"
    },
    "tags": []
   },
   "outputs": [],
   "source": [
    "# Threshold to remove attribute having missing values greater than threshold\n",
    "ATTRIBUTE_THRESHOLD = 25 #25% in this case \n",
    "\n",
    "for col, per in missing_percent.items():\n",
    "    if per > ATTRIBUTE_THRESHOLD:\n",
    "        df_temp.drop(col, axis = 1, inplace = True)\n"
   ]
  },
  {
   "cell_type": "markdown",
   "id": "3eaaa995",
   "metadata": {
    "papermill": {
     "duration": 0.083689,
     "end_time": "2022-04-14T14:28:48.867704",
     "exception": false,
     "start_time": "2022-04-14T14:28:48.784015",
     "status": "completed"
    },
    "tags": []
   },
   "source": [
    "By generating numerical summary of df_temp we can see now attribute Upfont_chargers being removed from the dataset as it has missing values percentage greater than threshold we defined"
   ]
  },
  {
   "cell_type": "code",
   "execution_count": 43,
   "id": "73ac2933",
   "metadata": {
    "execution": {
     "iopub.execute_input": "2022-04-14T14:28:49.036683Z",
     "iopub.status.busy": "2022-04-14T14:28:49.036142Z",
     "iopub.status.idle": "2022-04-14T14:28:49.491850Z",
     "shell.execute_reply": "2022-04-14T14:28:49.490962Z"
    },
    "papermill": {
     "duration": 0.543337,
     "end_time": "2022-04-14T14:28:49.494444",
     "exception": false,
     "start_time": "2022-04-14T14:28:48.951107",
     "status": "completed"
    },
    "tags": []
   },
   "outputs": [
    {
     "name": "stdout",
     "output_type": "stream",
     "text": [
      "loan_limit : 3344 (2.249%)\n",
      "approv_in_adv : 908 (0.611%)\n",
      "loan_purpose : 134 (0.09%)\n",
      "rate_of_interest : 36439 (24.51%)\n",
      "Interest_rate_spread : 36639 (24.645%)\n",
      "term : 41 (0.028%)\n",
      "Neg_ammortization : 121 (0.081%)\n",
      "property_value : 15098 (10.155%)\n",
      "income : 9150 (6.155%)\n",
      "age : 200 (0.135%)\n",
      "submission_of_application : 200 (0.135%)\n",
      "LTV : 15098 (10.155%)\n",
      "dtir1 : 24121 (16.225%)\n"
     ]
    }
   ],
   "source": [
    "_ = get_numerical_summary(df_temp)"
   ]
  },
  {
   "cell_type": "code",
   "execution_count": 44,
   "id": "3bea3779",
   "metadata": {
    "execution": {
     "iopub.execute_input": "2022-04-14T14:28:49.662699Z",
     "iopub.status.busy": "2022-04-14T14:28:49.662396Z",
     "iopub.status.idle": "2022-04-14T14:28:49.675680Z",
     "shell.execute_reply": "2022-04-14T14:28:49.674674Z"
    },
    "papermill": {
     "duration": 0.100192,
     "end_time": "2022-04-14T14:28:49.677860",
     "exception": false,
     "start_time": "2022-04-14T14:28:49.577668",
     "status": "completed"
    },
    "tags": []
   },
   "outputs": [],
   "source": [
    "del df_temp"
   ]
  },
  {
   "cell_type": "markdown",
   "id": "ba780be9",
   "metadata": {
    "papermill": {
     "duration": 0.0835,
     "end_time": "2022-04-14T14:28:49.846154",
     "exception": false,
     "start_time": "2022-04-14T14:28:49.762654",
     "status": "completed"
    },
    "tags": []
   },
   "source": [
    "**Deletion of the Samples**\n",
    "\n",
    "We will try to delete those samples having missing values in more than 5 attributes  "
   ]
  },
  {
   "cell_type": "code",
   "execution_count": 45,
   "id": "466550fe",
   "metadata": {
    "execution": {
     "iopub.execute_input": "2022-04-14T14:28:50.016323Z",
     "iopub.status.busy": "2022-04-14T14:28:50.015556Z",
     "iopub.status.idle": "2022-04-14T14:28:50.060648Z",
     "shell.execute_reply": "2022-04-14T14:28:50.059686Z"
    },
    "papermill": {
     "duration": 0.134007,
     "end_time": "2022-04-14T14:28:50.062972",
     "exception": false,
     "start_time": "2022-04-14T14:28:49.928965",
     "status": "completed"
    },
    "tags": []
   },
   "outputs": [],
   "source": [
    "df_temp = df.copy()"
   ]
  },
  {
   "cell_type": "code",
   "execution_count": 46,
   "id": "fbd25c38",
   "metadata": {
    "execution": {
     "iopub.execute_input": "2022-04-14T14:28:50.232095Z",
     "iopub.status.busy": "2022-04-14T14:28:50.231257Z",
     "iopub.status.idle": "2022-04-14T14:31:21.319838Z",
     "shell.execute_reply": "2022-04-14T14:31:21.318809Z"
    },
    "papermill": {
     "duration": 151.175947,
     "end_time": "2022-04-14T14:31:21.322669",
     "exception": false,
     "start_time": "2022-04-14T14:28:50.146722",
     "status": "completed"
    },
    "tags": []
   },
   "outputs": [],
   "source": [
    "# Getting Missing count of each sample            \n",
    "\n",
    "for idx in range(df_temp.shape[0]):\n",
    "    df_temp.loc[idx, 'missing_count'] = df_temp.iloc[idx, :].isnull().sum()  "
   ]
  },
  {
   "cell_type": "code",
   "execution_count": 47,
   "id": "34bb5ed0",
   "metadata": {
    "execution": {
     "iopub.execute_input": "2022-04-14T14:31:21.492859Z",
     "iopub.status.busy": "2022-04-14T14:31:21.492298Z",
     "iopub.status.idle": "2022-04-14T14:31:21.561560Z",
     "shell.execute_reply": "2022-04-14T14:31:21.560576Z"
    },
    "papermill": {
     "duration": 0.157654,
     "end_time": "2022-04-14T14:31:21.563898",
     "exception": false,
     "start_time": "2022-04-14T14:31:21.406244",
     "status": "completed"
    },
    "tags": []
   },
   "outputs": [
    {
     "name": "stdout",
     "output_type": "stream",
     "text": [
      "Samples Before Removal : 148670\n",
      "Samples After Removal : 132360\n"
     ]
    }
   ],
   "source": [
    "# Threshold to remove samples having missing values greater than threshold\n",
    "SAMPLE_THRESHOLD = 5\n",
    "\n",
    "print(\"Samples Before Removal : {}\".format(df_temp.shape[0]))\n",
    "\n",
    "df_temp.drop(df_temp[df_temp['missing_count'] > SAMPLE_THRESHOLD].index, axis = 0, inplace = True)\n",
    "\n",
    "print(\"Samples After Removal : {}\".format(df_temp.shape[0]))\n"
   ]
  },
  {
   "cell_type": "code",
   "execution_count": 48,
   "id": "cc72ea23",
   "metadata": {
    "execution": {
     "iopub.execute_input": "2022-04-14T14:31:21.733628Z",
     "iopub.status.busy": "2022-04-14T14:31:21.733302Z",
     "iopub.status.idle": "2022-04-14T14:31:21.745981Z",
     "shell.execute_reply": "2022-04-14T14:31:21.745339Z"
    },
    "papermill": {
     "duration": 0.101122,
     "end_time": "2022-04-14T14:31:21.747834",
     "exception": false,
     "start_time": "2022-04-14T14:31:21.646712",
     "status": "completed"
    },
    "tags": []
   },
   "outputs": [],
   "source": [
    "del df_temp"
   ]
  },
  {
   "cell_type": "markdown",
   "id": "cbb78076",
   "metadata": {},
   "source": [
    "### 1.2.2 Encoding Missingness"
   ]
  },
  {
   "cell_type": "markdown",
   "id": "7544ce0b",
   "metadata": {
    "papermill": {
     "duration": 0.082796,
     "end_time": "2022-04-14T14:31:21.915352",
     "exception": false,
     "start_time": "2022-04-14T14:31:21.832556",
     "status": "completed"
    },
    "tags": []
   },
   "source": [
    "When an attribute is discrete in nature, missingness can be directly encoded into the attribute as if it were a naturally occurring category. For example in this dataset the attribute loan_limit has 3344 missing values so we can assign some new category to these missing values. "
   ]
  },
  {
   "cell_type": "code",
   "execution_count": 49,
   "id": "da05420b",
   "metadata": {
    "execution": {
     "iopub.execute_input": "2022-04-14T14:31:22.085816Z",
     "iopub.status.busy": "2022-04-14T14:31:22.084935Z",
     "iopub.status.idle": "2022-04-14T14:31:22.092056Z",
     "shell.execute_reply": "2022-04-14T14:31:22.091375Z"
    },
    "papermill": {
     "duration": 0.09394,
     "end_time": "2022-04-14T14:31:22.093785",
     "exception": false,
     "start_time": "2022-04-14T14:31:21.999845",
     "status": "completed"
    },
    "tags": []
   },
   "outputs": [
    {
     "data": {
      "text/plain": [
       "['loan_limit',\n",
       " 'approv_in_adv',\n",
       " 'loan_purpose',\n",
       " 'Neg_ammortization',\n",
       " 'age',\n",
       " 'submission_of_application']"
      ]
     },
     "execution_count": 49,
     "metadata": {},
     "output_type": "execute_result"
    }
   ],
   "source": [
    "cat_missing_cols = [col for col in missing_columns if df[col].dtype == 'object']\n",
    "cat_missing_cols"
   ]
  },
  {
   "cell_type": "code",
   "execution_count": 50,
   "id": "52bc8e98",
   "metadata": {
    "execution": {
     "iopub.execute_input": "2022-04-14T14:31:22.263725Z",
     "iopub.status.busy": "2022-04-14T14:31:22.263191Z",
     "iopub.status.idle": "2022-04-14T14:31:22.293181Z",
     "shell.execute_reply": "2022-04-14T14:31:22.292200Z"
    },
    "papermill": {
     "duration": 0.118306,
     "end_time": "2022-04-14T14:31:22.295742",
     "exception": false,
     "start_time": "2022-04-14T14:31:22.177436",
     "status": "completed"
    },
    "tags": []
   },
   "outputs": [
    {
     "data": {
      "text/plain": [
       "cf     135348\n",
       "ncf      9978\n",
       "Name: loan_limit, dtype: int64"
      ]
     },
     "execution_count": 50,
     "metadata": {},
     "output_type": "execute_result"
    }
   ],
   "source": [
    "df.loan_limit.value_counts()"
   ]
  },
  {
   "cell_type": "code",
   "execution_count": 51,
   "id": "4849b9fa",
   "metadata": {
    "execution": {
     "iopub.execute_input": "2022-04-14T14:31:22.465366Z",
     "iopub.status.busy": "2022-04-14T14:31:22.465056Z",
     "iopub.status.idle": "2022-04-14T14:31:22.620499Z",
     "shell.execute_reply": "2022-04-14T14:31:22.619379Z"
    },
    "papermill": {
     "duration": 0.243307,
     "end_time": "2022-04-14T14:31:22.622872",
     "exception": false,
     "start_time": "2022-04-14T14:31:22.379565",
     "status": "completed"
    },
    "tags": []
   },
   "outputs": [
    {
     "data": {
      "text/plain": [
       "cf         135348\n",
       "ncf          9978\n",
       "Missing      3344\n",
       "Name: loan_limit, dtype: int64"
      ]
     },
     "execution_count": 51,
     "metadata": {},
     "output_type": "execute_result"
    }
   ],
   "source": [
    "df[cat_missing_cols] = df[cat_missing_cols].fillna('Missing')\n",
    "df.loan_limit.value_counts()"
   ]
  },
  {
   "cell_type": "code",
   "execution_count": 52,
   "id": "a22fd359",
   "metadata": {
    "execution": {
     "iopub.execute_input": "2022-04-14T14:31:22.796356Z",
     "iopub.status.busy": "2022-04-14T14:31:22.795886Z",
     "iopub.status.idle": "2022-04-14T14:31:22.908929Z",
     "shell.execute_reply": "2022-04-14T14:31:22.907443Z"
    },
    "papermill": {
     "duration": 0.202452,
     "end_time": "2022-04-14T14:31:22.911440",
     "exception": false,
     "start_time": "2022-04-14T14:31:22.708988",
     "status": "completed"
    },
    "tags": []
   },
   "outputs": [
    {
     "name": "stdout",
     "output_type": "stream",
     "text": [
      "<class 'pandas.core.frame.DataFrame'>\n",
      "RangeIndex: 148670 entries, 0 to 148669\n",
      "Data columns (total 6 columns):\n",
      " #   Column                     Non-Null Count   Dtype \n",
      "---  ------                     --------------   ----- \n",
      " 0   loan_limit                 148670 non-null  object\n",
      " 1   approv_in_adv              148670 non-null  object\n",
      " 2   loan_purpose               148670 non-null  object\n",
      " 3   Neg_ammortization          148670 non-null  object\n",
      " 4   age                        148670 non-null  object\n",
      " 5   submission_of_application  148670 non-null  object\n",
      "dtypes: object(6)\n",
      "memory usage: 6.8+ MB\n"
     ]
    }
   ],
   "source": [
    "df[cat_missing_cols].info()"
   ]
  },
  {
   "cell_type": "markdown",
   "id": "159c6ec9",
   "metadata": {},
   "source": [
    "### 1.2.3 Imputation Methods"
   ]
  },
  {
   "cell_type": "markdown",
   "id": "05cefdb9",
   "metadata": {
    "papermill": {
     "duration": 0.085246,
     "end_time": "2022-04-14T14:31:23.081986",
     "exception": false,
     "start_time": "2022-04-14T14:31:22.996740",
     "status": "completed"
    },
    "tags": []
   },
   "source": [
    "Another approach to handling missing values is to impute or estimate them. Imputation uses information and relationships among the non-missing\n",
    "attributes to provide an estimate to fill in the missing value.\n",
    "\n",
    "In this section we will work on imputation models which will help us impute missing values by extracting interesting patterns from attributes which don't have missing values at that point on time.\n",
    "\n",
    "\n",
    "- Within a sample data point, other variables may also be missing. For this reason, an imputation method should be tolerant of other missing data.\n",
    "\n",
    "- Imputation creates a model embedded within another model. There is a prediction equation associated with every attribute in the training set that might have missing data. It is desirable for the imputation method to be fast and have a compact prediction equation.\n",
    "\n",
    "- Many data sets often contain both numeric and discrete attributes. Rather than generating dummy variables for discrete attributes, a useful imputation method would be able to use attributes of various types as inputs.\n",
    "\n",
    "- The model for predicting missing values should be numerically stable and not be overly influenced by outlying data points.\n",
    "\n",
    "Virtually any machine learning model could be used to impute the data. Here, the focus will be on several that are good candidates to consider.\n",
    "\n",
    "Question arise if an attribute has missing values around 50-60% then can we use imputation methods? And the answer is it depends upon datasets which we are using because an attribute with 60% missing values may has very good correlation with some other attribute which can be helpful to fill those missing values on the other side if let say some column like ID column which is independent of all columns has missing values around 10% using imputation methods we may not get results we wanted. "
   ]
  },
  {
   "cell_type": "markdown",
   "id": "be078982",
   "metadata": {
    "papermill": {
     "duration": 0.084617,
     "end_time": "2022-04-14T14:31:23.251420",
     "exception": false,
     "start_time": "2022-04-14T14:31:23.166803",
     "status": "completed"
    },
    "tags": []
   },
   "source": [
    "In this notebook we are gonna work on following imputation methods:-\n",
    "\n",
    "- KNN for Imputation\n",
    "- Tree Based Imputation\n",
    "- Linear Models for Imputation   "
   ]
  },
  {
   "cell_type": "markdown",
   "id": "0815cd71",
   "metadata": {
    "papermill": {
     "duration": 0.083914,
     "end_time": "2022-04-14T14:31:23.419540",
     "exception": false,
     "start_time": "2022-04-14T14:31:23.335626",
     "status": "completed"
    },
    "tags": []
   },
   "source": [
    "<h3>(a) K-Nearest Neighbors(KNN) for Imputation</h3>\n",
    "\n",
    "When the training set is small or moderate in size, K-nearest neighbors can be a quick and effective method for imputing missing values. This procedure identifies a sample with one or more missing values. Then it identifies the K most similar samples in the training data that are complete (i.e., have no missing values in some columns). Similarity of samples for this method is defined by a distance metric. When all of the predictors are\n",
    "numeric, standard Euclidean distance is commonly used as the similarity metric. \n",
    "\n",
    "After computing the distances, the K closest samples to the sample with the missing value are identified and the average value of the predictor of interest is calculated. This value is then used to replace the missing value of the sample."
   ]
  },
  {
   "cell_type": "code",
   "execution_count": 53,
   "id": "a306d292",
   "metadata": {
    "execution": {
     "iopub.execute_input": "2022-04-14T14:31:23.589912Z",
     "iopub.status.busy": "2022-04-14T14:31:23.589648Z",
     "iopub.status.idle": "2022-04-14T14:31:24.005051Z",
     "shell.execute_reply": "2022-04-14T14:31:24.004228Z"
    },
    "papermill": {
     "duration": 0.50343,
     "end_time": "2022-04-14T14:31:24.007218",
     "exception": false,
     "start_time": "2022-04-14T14:31:23.503788",
     "status": "completed"
    },
    "tags": []
   },
   "outputs": [],
   "source": [
    "from sklearn.impute import KNNImputer\n",
    "\n",
    "df_temp = df.copy()"
   ]
  },
  {
   "cell_type": "markdown",
   "id": "1fc07644",
   "metadata": {
    "papermill": {
     "duration": 0.085441,
     "end_time": "2022-04-14T14:31:24.179316",
     "exception": false,
     "start_time": "2022-04-14T14:31:24.093875",
     "status": "completed"
    },
    "tags": []
   },
   "source": [
    "As we haven't done categorical encoding yet (We'll cover it in next section) so, for time being lets impute on numerical data only later we will impute on full data after encoding."
   ]
  },
  {
   "cell_type": "code",
   "execution_count": 54,
   "id": "6ab77a59",
   "metadata": {
    "execution": {
     "iopub.execute_input": "2022-04-14T14:31:24.351060Z",
     "iopub.status.busy": "2022-04-14T14:31:24.350533Z",
     "iopub.status.idle": "2022-04-14T14:31:24.371897Z",
     "shell.execute_reply": "2022-04-14T14:31:24.370833Z"
    },
    "papermill": {
     "duration": 0.109586,
     "end_time": "2022-04-14T14:31:24.373809",
     "exception": false,
     "start_time": "2022-04-14T14:31:24.264223",
     "status": "completed"
    },
    "tags": []
   },
   "outputs": [
    {
     "name": "stdout",
     "output_type": "stream",
     "text": [
      "['ID', 'year', 'loan_amount', 'rate_of_interest', 'Interest_rate_spread', 'Upfront_charges', 'term', 'property_value', 'income', 'Credit_Score', 'LTV', 'Status', 'dtir1']\n"
     ]
    }
   ],
   "source": [
    "num_cols = [col for col in df_temp.columns if df_temp[col].dtype != 'object']\n",
    "print(num_cols)\n",
    "df_temp = df_temp[num_cols]"
   ]
  },
  {
   "cell_type": "code",
   "execution_count": 55,
   "id": "f372458e",
   "metadata": {
    "execution": {
     "iopub.execute_input": "2022-04-14T14:31:24.544663Z",
     "iopub.status.busy": "2022-04-14T14:31:24.544126Z",
     "iopub.status.idle": "2022-04-14T14:31:24.565281Z",
     "shell.execute_reply": "2022-04-14T14:31:24.564583Z"
    },
    "papermill": {
     "duration": 0.109039,
     "end_time": "2022-04-14T14:31:24.567490",
     "exception": false,
     "start_time": "2022-04-14T14:31:24.458451",
     "status": "completed"
    },
    "tags": []
   },
   "outputs": [
    {
     "data": {
      "text/plain": [
       "KNNImputer(n_neighbors=3)"
      ]
     },
     "execution_count": 55,
     "metadata": {},
     "output_type": "execute_result"
    }
   ],
   "source": [
    "# Initializing KNNImputer\n",
    "knn = KNNImputer(n_neighbors = 3)\n",
    "\n",
    "knn.fit(df_temp)"
   ]
  },
  {
   "cell_type": "code",
   "execution_count": 56,
   "id": "e64294d0",
   "metadata": {
    "execution": {
     "iopub.execute_input": "2022-04-14T14:31:24.742207Z",
     "iopub.status.busy": "2022-04-14T14:31:24.741605Z",
     "iopub.status.idle": "2022-04-14T14:45:36.717817Z",
     "shell.execute_reply": "2022-04-14T14:45:36.716197Z"
    },
    "papermill": {
     "duration": 852.070007,
     "end_time": "2022-04-14T14:45:36.723202",
     "exception": false,
     "start_time": "2022-04-14T14:31:24.653195",
     "status": "completed"
    },
    "tags": []
   },
   "outputs": [],
   "source": [
    "X = knn.transform(df_temp)"
   ]
  },
  {
   "cell_type": "code",
   "execution_count": 57,
   "id": "c01bc2a5",
   "metadata": {
    "execution": {
     "iopub.execute_input": "2022-04-14T14:45:36.910340Z",
     "iopub.status.busy": "2022-04-14T14:45:36.909742Z",
     "iopub.status.idle": "2022-04-14T14:45:37.262524Z",
     "shell.execute_reply": "2022-04-14T14:45:37.261318Z"
    },
    "papermill": {
     "duration": 0.447446,
     "end_time": "2022-04-14T14:45:37.266487",
     "exception": false,
     "start_time": "2022-04-14T14:45:36.819041",
     "status": "completed"
    },
    "tags": []
   },
   "outputs": [
    {
     "name": "stdout",
     "output_type": "stream",
     "text": [
      "<class 'pandas.core.frame.DataFrame'>\n",
      "RangeIndex: 148670 entries, 0 to 148669\n",
      "Data columns (total 34 columns):\n",
      " #   Column                     Non-Null Count   Dtype  \n",
      "---  ------                     --------------   -----  \n",
      " 0   ID                         148670 non-null  int64  \n",
      " 1   year                       148670 non-null  int64  \n",
      " 2   loan_limit                 148670 non-null  object \n",
      " 3   Gender                     148670 non-null  object \n",
      " 4   approv_in_adv              148670 non-null  object \n",
      " 5   loan_type                  148670 non-null  object \n",
      " 6   loan_purpose               148670 non-null  object \n",
      " 7   Credit_Worthiness          148670 non-null  object \n",
      " 8   open_credit                148670 non-null  object \n",
      " 9   business_or_commercial     148670 non-null  object \n",
      " 10  loan_amount                148670 non-null  int64  \n",
      " 11  rate_of_interest           112231 non-null  float64\n",
      " 12  Interest_rate_spread       112031 non-null  float64\n",
      " 13  Upfront_charges            109028 non-null  float64\n",
      " 14  term                       148629 non-null  float64\n",
      " 15  Neg_ammortization          148670 non-null  object \n",
      " 16  interest_only              148670 non-null  object \n",
      " 17  lump_sum_payment           148670 non-null  object \n",
      " 18  property_value             133572 non-null  float64\n",
      " 19  construction_type          148670 non-null  object \n",
      " 20  occupancy_type             148670 non-null  object \n",
      " 21  Secured_by                 148670 non-null  object \n",
      " 22  total_units                148670 non-null  object \n",
      " 23  income                     139520 non-null  float64\n",
      " 24  credit_type                148670 non-null  object \n",
      " 25  Credit_Score               148670 non-null  int64  \n",
      " 26  co-applicant_credit_type   148670 non-null  object \n",
      " 27  age                        148670 non-null  object \n",
      " 28  submission_of_application  148670 non-null  object \n",
      " 29  LTV                        133572 non-null  float64\n",
      " 30  Region                     148670 non-null  object \n",
      " 31  Security_Type              148670 non-null  object \n",
      " 32  Status                     148670 non-null  int64  \n",
      " 33  dtir1                      124549 non-null  float64\n",
      "dtypes: float64(8), int64(5), object(21)\n",
      "memory usage: 38.6+ MB\n"
     ]
    }
   ],
   "source": [
    "df_temp = pd.DataFrame(X, columns = num_cols)\n",
    "df.info()"
   ]
  },
  {
   "cell_type": "code",
   "execution_count": 58,
   "id": "cd96362a",
   "metadata": {
    "execution": {
     "iopub.execute_input": "2022-04-14T14:45:37.456306Z",
     "iopub.status.busy": "2022-04-14T14:45:37.455707Z",
     "iopub.status.idle": "2022-04-14T14:45:37.459380Z",
     "shell.execute_reply": "2022-04-14T14:45:37.458777Z"
    },
    "papermill": {
     "duration": 0.098142,
     "end_time": "2022-04-14T14:45:37.461476",
     "exception": false,
     "start_time": "2022-04-14T14:45:37.363334",
     "status": "completed"
    },
    "tags": []
   },
   "outputs": [],
   "source": [
    "del df_temp"
   ]
  },
  {
   "cell_type": "markdown",
   "id": "7b29a0bb",
   "metadata": {
    "papermill": {
     "duration": 0.105991,
     "end_time": "2022-04-14T14:45:37.656128",
     "exception": false,
     "start_time": "2022-04-14T14:45:37.550137",
     "status": "completed"
    },
    "tags": []
   },
   "source": [
    "<h3>(b) Trees</h3>\n",
    "\n",
    "Tree-based models are a reasonable choice for an imputation technique since a tree can be constructed in the presence of other missing data. While a single tree could be used as an imputation technique, it is known to produce results that have low bias but high variance. And we all know who kills the bias its Ensembles of trees. \n",
    "\n",
    "Random forests is one such technique and has been studied for this purpose. However, there are a couple of notable drawbacks when using this technique in a predictive modeling setting. First and foremost, the random selection of predictors at each split necessitates a large number of trees (500 to 2000) to achieve a stable, reliable model. This can present a challenge as the number of attributes with missing data increases since a separate model must be built and retained for each predictor. Also Random forest will have heavy computations.\n",
    "\n",
    "A good alternative that has a smaller computational footprint is a bagged tree. A bagged tree is constructed in a similar fashion to a random forest.\n",
    "The primary difference is that in a bagged model, all attributes are evaluated at each split in each tree. The performance of a bagged tree using 25–50 trees is generally in the ballpark of the performance of a random forest model. And the smaller number of trees is a clear advantage when the goal is to find reasonable imputed values for missing data.\n",
    "\n",
    "\n"
   ]
  },
  {
   "cell_type": "code",
   "execution_count": 59,
   "id": "b6558654",
   "metadata": {
    "execution": {
     "iopub.execute_input": "2022-04-14T14:45:37.844206Z",
     "iopub.status.busy": "2022-04-14T14:45:37.843564Z",
     "iopub.status.idle": "2022-04-14T14:45:37.849312Z",
     "shell.execute_reply": "2022-04-14T14:45:37.848685Z"
    },
    "papermill": {
     "duration": 0.09739,
     "end_time": "2022-04-14T14:45:37.851299",
     "exception": false,
     "start_time": "2022-04-14T14:45:37.753909",
     "status": "completed"
    },
    "tags": []
   },
   "outputs": [
    {
     "data": {
      "text/plain": [
       "['loan_limit',\n",
       " 'approv_in_adv',\n",
       " 'loan_purpose',\n",
       " 'rate_of_interest',\n",
       " 'Interest_rate_spread',\n",
       " 'Upfront_charges',\n",
       " 'term',\n",
       " 'Neg_ammortization',\n",
       " 'property_value',\n",
       " 'income',\n",
       " 'age',\n",
       " 'submission_of_application',\n",
       " 'LTV',\n",
       " 'dtir1']"
      ]
     },
     "execution_count": 59,
     "metadata": {},
     "output_type": "execute_result"
    }
   ],
   "source": [
    "missing_columns"
   ]
  },
  {
   "cell_type": "code",
   "execution_count": 60,
   "id": "2ad75345",
   "metadata": {
    "execution": {
     "iopub.execute_input": "2022-04-14T14:45:38.033537Z",
     "iopub.status.busy": "2022-04-14T14:45:38.033025Z",
     "iopub.status.idle": "2022-04-14T14:45:38.075269Z",
     "shell.execute_reply": "2022-04-14T14:45:38.074624Z"
    },
    "papermill": {
     "duration": 0.134862,
     "end_time": "2022-04-14T14:45:38.077653",
     "exception": false,
     "start_time": "2022-04-14T14:45:37.942791",
     "status": "completed"
    },
    "tags": []
   },
   "outputs": [],
   "source": [
    "from sklearn.tree import DecisionTreeRegressor\n",
    "\n",
    "dr = DecisionTreeRegressor()"
   ]
  },
  {
   "cell_type": "code",
   "execution_count": 61,
   "id": "2e3a6bab",
   "metadata": {
    "execution": {
     "iopub.execute_input": "2022-04-14T14:45:38.257834Z",
     "iopub.status.busy": "2022-04-14T14:45:38.256954Z",
     "iopub.status.idle": "2022-04-14T14:45:38.261470Z",
     "shell.execute_reply": "2022-04-14T14:45:38.260831Z"
    },
    "papermill": {
     "duration": 0.096743,
     "end_time": "2022-04-14T14:45:38.263734",
     "exception": false,
     "start_time": "2022-04-14T14:45:38.166991",
     "status": "completed"
    },
    "tags": []
   },
   "outputs": [],
   "source": [
    "income = df['income']"
   ]
  },
  {
   "cell_type": "markdown",
   "id": "346d14a8",
   "metadata": {
    "papermill": {
     "duration": 0.088359,
     "end_time": "2022-04-14T14:45:38.443807",
     "exception": false,
     "start_time": "2022-04-14T14:45:38.355448",
     "status": "completed"
    },
    "tags": []
   },
   "source": [
    "As we have to encode categorical variables into numerical data to use sklearn's tree based models so for the time being I am encoding categorical variables using Label Encoding Method"
   ]
  },
  {
   "cell_type": "code",
   "execution_count": 62,
   "id": "711791a3",
   "metadata": {
    "execution": {
     "iopub.execute_input": "2022-04-14T14:45:38.622940Z",
     "iopub.status.busy": "2022-04-14T14:45:38.622381Z",
     "iopub.status.idle": "2022-04-14T14:45:38.639987Z",
     "shell.execute_reply": "2022-04-14T14:45:38.639010Z"
    },
    "papermill": {
     "duration": 0.10966,
     "end_time": "2022-04-14T14:45:38.642704",
     "exception": false,
     "start_time": "2022-04-14T14:45:38.533044",
     "status": "completed"
    },
    "tags": []
   },
   "outputs": [],
   "source": [
    "df_temp = df.copy()"
   ]
  },
  {
   "cell_type": "code",
   "execution_count": 63,
   "id": "f282ee89",
   "metadata": {
    "execution": {
     "iopub.execute_input": "2022-04-14T14:45:38.826548Z",
     "iopub.status.busy": "2022-04-14T14:45:38.825942Z",
     "iopub.status.idle": "2022-04-14T14:45:40.033038Z",
     "shell.execute_reply": "2022-04-14T14:45:40.032252Z"
    },
    "papermill": {
     "duration": 1.302425,
     "end_time": "2022-04-14T14:45:40.035644",
     "exception": false,
     "start_time": "2022-04-14T14:45:38.733219",
     "status": "completed"
    },
    "tags": []
   },
   "outputs": [],
   "source": [
    "from sklearn.preprocessing import LabelEncoder\n",
    "\n",
    "lb = LabelEncoder()\n",
    "\n",
    "cat_cols = [col for col in df.columns if df[col].dtype == 'object']\n",
    "\n",
    "for col in cat_cols:\n",
    "    df_temp[col] = lb.fit_transform(df_temp[col])\n"
   ]
  },
  {
   "cell_type": "code",
   "execution_count": 64,
   "id": "0d7cef71",
   "metadata": {
    "execution": {
     "iopub.execute_input": "2022-04-14T14:45:40.216973Z",
     "iopub.status.busy": "2022-04-14T14:45:40.216684Z",
     "iopub.status.idle": "2022-04-14T14:45:40.468900Z",
     "shell.execute_reply": "2022-04-14T14:45:40.467868Z"
    },
    "papermill": {
     "duration": 0.347865,
     "end_time": "2022-04-14T14:45:40.471603",
     "exception": false,
     "start_time": "2022-04-14T14:45:40.123738",
     "status": "completed"
    },
    "tags": []
   },
   "outputs": [],
   "source": [
    "from sklearn.ensemble import BaggingRegressor\n",
    "from sklearn.tree import DecisionTreeRegressor\n",
    "\n",
    "\n",
    "def tree_imputation(df):\n",
    "    missing_cols = [col for col in df.columns if df[col].isnull().sum() > 0]\n",
    "    non_missing_cols = [col for col in df.columns if df[col].isnull().sum() == 0]\n",
    "    # num_cols = [col for col in missing_cols if df[col].dtype != 'object']\n",
    "\n",
    "    # df = df[num_cols]\n",
    "    for col in missing_cols:\n",
    "\n",
    "        # Defining a new bagging model for each attribute  \n",
    "        model = BaggingRegressor(DecisionTreeRegressor(), n_estimators = 40, max_samples = 1.0, max_features = 1.0, bootstrap = False, n_jobs = -1)\n",
    "\n",
    "        col_missing = df[df[col].isnull()]\n",
    "        temp = df.drop(df[df[col].isnull()].index, axis = 0)\n",
    "\n",
    "        # print(temp.columns)\n",
    "        # X = temp.drop(col, axis = 1)\n",
    "        X = temp.loc[:, non_missing_cols]\n",
    "        y = temp[col]\n",
    "\n",
    "        model.fit(X, y)\n",
    "\n",
    "        y_pred = model.predict(col_missing[non_missing_cols])\n",
    "        # col_missing[col] = y_pred\n",
    "\n",
    "        df.loc[col_missing.index, col] = y_pred\n",
    "        \n",
    "    return df\n",
    "    "
   ]
  },
  {
   "cell_type": "code",
   "execution_count": 65,
   "id": "1d1dd4f4",
   "metadata": {
    "execution": {
     "iopub.execute_input": "2022-04-14T14:45:40.651520Z",
     "iopub.status.busy": "2022-04-14T14:45:40.650961Z",
     "iopub.status.idle": "2022-04-14T14:48:50.222001Z",
     "shell.execute_reply": "2022-04-14T14:48:50.220927Z"
    },
    "papermill": {
     "duration": 189.751579,
     "end_time": "2022-04-14T14:48:50.312369",
     "exception": false,
     "start_time": "2022-04-14T14:45:40.560790",
     "status": "completed"
    },
    "tags": []
   },
   "outputs": [
    {
     "name": "stdout",
     "output_type": "stream",
     "text": [
      "<class 'pandas.core.frame.DataFrame'>\n",
      "RangeIndex: 148670 entries, 0 to 148669\n",
      "Data columns (total 34 columns):\n",
      " #   Column                     Non-Null Count   Dtype  \n",
      "---  ------                     --------------   -----  \n",
      " 0   ID                         148670 non-null  int64  \n",
      " 1   year                       148670 non-null  int64  \n",
      " 2   loan_limit                 148670 non-null  int32  \n",
      " 3   Gender                     148670 non-null  int32  \n",
      " 4   approv_in_adv              148670 non-null  int32  \n",
      " 5   loan_type                  148670 non-null  int32  \n",
      " 6   loan_purpose               148670 non-null  int32  \n",
      " 7   Credit_Worthiness          148670 non-null  int32  \n",
      " 8   open_credit                148670 non-null  int32  \n",
      " 9   business_or_commercial     148670 non-null  int32  \n",
      " 10  loan_amount                148670 non-null  int64  \n",
      " 11  rate_of_interest           148670 non-null  float64\n",
      " 12  Interest_rate_spread       148670 non-null  float64\n",
      " 13  Upfront_charges            148670 non-null  float64\n",
      " 14  term                       148670 non-null  float64\n",
      " 15  Neg_ammortization          148670 non-null  int32  \n",
      " 16  interest_only              148670 non-null  int32  \n",
      " 17  lump_sum_payment           148670 non-null  int32  \n",
      " 18  property_value             148670 non-null  float64\n",
      " 19  construction_type          148670 non-null  int32  \n",
      " 20  occupancy_type             148670 non-null  int32  \n",
      " 21  Secured_by                 148670 non-null  int32  \n",
      " 22  total_units                148670 non-null  int32  \n",
      " 23  income                     148670 non-null  float64\n",
      " 24  credit_type                148670 non-null  int32  \n",
      " 25  Credit_Score               148670 non-null  int64  \n",
      " 26  co-applicant_credit_type   148670 non-null  int32  \n",
      " 27  age                        148670 non-null  int32  \n",
      " 28  submission_of_application  148670 non-null  int32  \n",
      " 29  LTV                        148670 non-null  float64\n",
      " 30  Region                     148670 non-null  int32  \n",
      " 31  Security_Type              148670 non-null  int32  \n",
      " 32  Status                     148670 non-null  int64  \n",
      " 33  dtir1                      148670 non-null  float64\n",
      "dtypes: float64(8), int32(21), int64(5)\n",
      "memory usage: 26.7 MB\n"
     ]
    }
   ],
   "source": [
    "df_new = tree_imputation(df_temp)\n",
    "df_new.info()"
   ]
  },
  {
   "cell_type": "code",
   "execution_count": 66,
   "id": "cd3eac59",
   "metadata": {
    "execution": {
     "iopub.execute_input": "2022-04-14T14:48:50.493188Z",
     "iopub.status.busy": "2022-04-14T14:48:50.492587Z",
     "iopub.status.idle": "2022-04-14T14:48:53.374381Z",
     "shell.execute_reply": "2022-04-14T14:48:53.373458Z"
    },
    "papermill": {
     "duration": 2.976597,
     "end_time": "2022-04-14T14:48:53.376846",
     "exception": false,
     "start_time": "2022-04-14T14:48:50.400249",
     "status": "completed"
    },
    "tags": []
   },
   "outputs": [
    {
     "data": {
      "image/png": "[encoded data removed]",
      "text/plain": [
       "<Figure size 1728x720 with 3 Axes>"
      ]
     },
     "metadata": {
      "needs_background": "light"
     },
     "output_type": "display_data"
    }
   ],
   "source": [
    "msno.bar(df_new)\n",
    "plt.show()"
   ]
  },
  {
   "cell_type": "markdown",
   "id": "1f0d0495",
   "metadata": {
    "papermill": {
     "duration": 0.09365,
     "end_time": "2022-04-14T14:48:53.561836",
     "exception": false,
     "start_time": "2022-04-14T14:48:53.468186",
     "status": "completed"
    },
    "tags": []
   },
   "source": [
    "We can see all missing values from the dataset are gone. Now as we temporarily encode categorical variables because we will encode them in later section so lets decode them."
   ]
  },
  {
   "cell_type": "code",
   "execution_count": 67,
   "id": "c69e894f",
   "metadata": {
    "execution": {
     "iopub.execute_input": "2022-04-14T14:48:53.748174Z",
     "iopub.status.busy": "2022-04-14T14:48:53.747522Z",
     "iopub.status.idle": "2022-04-14T14:48:53.856782Z",
     "shell.execute_reply": "2022-04-14T14:48:53.855868Z"
    },
    "papermill": {
     "duration": 0.204324,
     "end_time": "2022-04-14T14:48:53.858839",
     "exception": false,
     "start_time": "2022-04-14T14:48:53.654515",
     "status": "completed"
    },
    "tags": []
   },
   "outputs": [
    {
     "data": {
      "text/html": [
       "<div>\n",
       "<style scoped>\n",
       "    .dataframe tbody tr th:only-of-type {\n",
       "        vertical-align: middle;\n",
       "    }\n",
       "\n",
       "    .dataframe tbody tr th {\n",
       "        vertical-align: top;\n",
       "    }\n",
       "\n",
       "    .dataframe thead th {\n",
       "        text-align: right;\n",
       "    }\n",
       "</style>\n",
       "<table border=\"1\" class=\"dataframe\">\n",
       "  <thead>\n",
       "    <tr style=\"text-align: right;\">\n",
       "      <th></th>\n",
       "      <th>loan_limit</th>\n",
       "      <th>Gender</th>\n",
       "      <th>approv_in_adv</th>\n",
       "      <th>loan_type</th>\n",
       "      <th>loan_purpose</th>\n",
       "      <th>Credit_Worthiness</th>\n",
       "      <th>open_credit</th>\n",
       "      <th>business_or_commercial</th>\n",
       "      <th>Neg_ammortization</th>\n",
       "      <th>interest_only</th>\n",
       "      <th>lump_sum_payment</th>\n",
       "      <th>construction_type</th>\n",
       "      <th>occupancy_type</th>\n",
       "      <th>Secured_by</th>\n",
       "      <th>total_units</th>\n",
       "      <th>credit_type</th>\n",
       "      <th>co-applicant_credit_type</th>\n",
       "      <th>age</th>\n",
       "      <th>submission_of_application</th>\n",
       "      <th>Region</th>\n",
       "      <th>Security_Type</th>\n",
       "      <th>ID</th>\n",
       "      <th>year</th>\n",
       "      <th>loan_amount</th>\n",
       "      <th>rate_of_interest</th>\n",
       "      <th>Interest_rate_spread</th>\n",
       "      <th>Upfront_charges</th>\n",
       "      <th>term</th>\n",
       "      <th>property_value</th>\n",
       "      <th>income</th>\n",
       "      <th>Credit_Score</th>\n",
       "      <th>LTV</th>\n",
       "      <th>Status</th>\n",
       "      <th>dtir1</th>\n",
       "    </tr>\n",
       "  </thead>\n",
       "  <tbody>\n",
       "    <tr>\n",
       "      <th>0</th>\n",
       "      <td>cf</td>\n",
       "      <td>Sex Not Available</td>\n",
       "      <td>nopre</td>\n",
       "      <td>type1</td>\n",
       "      <td>p1</td>\n",
       "      <td>l1</td>\n",
       "      <td>nopc</td>\n",
       "      <td>nob/c</td>\n",
       "      <td>not_neg</td>\n",
       "      <td>not_int</td>\n",
       "      <td>not_lpsm</td>\n",
       "      <td>sb</td>\n",
       "      <td>pr</td>\n",
       "      <td>home</td>\n",
       "      <td>1U</td>\n",
       "      <td>EXP</td>\n",
       "      <td>CIB</td>\n",
       "      <td>25-34</td>\n",
       "      <td>to_inst</td>\n",
       "      <td>south</td>\n",
       "      <td>direct</td>\n",
       "      <td>24890</td>\n",
       "      <td>2019</td>\n",
       "      <td>116500</td>\n",
       "      <td>4.11512</td>\n",
       "      <td>0.60133</td>\n",
       "      <td>3508.76000</td>\n",
       "      <td>360.00000</td>\n",
       "      <td>118000.00000</td>\n",
       "      <td>1740.00000</td>\n",
       "      <td>758</td>\n",
       "      <td>98.72881</td>\n",
       "      <td>1</td>\n",
       "      <td>45.00000</td>\n",
       "    </tr>\n",
       "    <tr>\n",
       "      <th>1</th>\n",
       "      <td>cf</td>\n",
       "      <td>Male</td>\n",
       "      <td>nopre</td>\n",
       "      <td>type2</td>\n",
       "      <td>p1</td>\n",
       "      <td>l1</td>\n",
       "      <td>nopc</td>\n",
       "      <td>b/c</td>\n",
       "      <td>not_neg</td>\n",
       "      <td>not_int</td>\n",
       "      <td>lpsm</td>\n",
       "      <td>sb</td>\n",
       "      <td>pr</td>\n",
       "      <td>home</td>\n",
       "      <td>1U</td>\n",
       "      <td>EQUI</td>\n",
       "      <td>EXP</td>\n",
       "      <td>55-64</td>\n",
       "      <td>to_inst</td>\n",
       "      <td>North</td>\n",
       "      <td>direct</td>\n",
       "      <td>24891</td>\n",
       "      <td>2019</td>\n",
       "      <td>206500</td>\n",
       "      <td>3.56250</td>\n",
       "      <td>1.17457</td>\n",
       "      <td>1320.79875</td>\n",
       "      <td>360.00000</td>\n",
       "      <td>188500.00000</td>\n",
       "      <td>4980.00000</td>\n",
       "      <td>552</td>\n",
       "      <td>99.35385</td>\n",
       "      <td>1</td>\n",
       "      <td>40.15000</td>\n",
       "    </tr>\n",
       "    <tr>\n",
       "      <th>2</th>\n",
       "      <td>cf</td>\n",
       "      <td>Male</td>\n",
       "      <td>pre</td>\n",
       "      <td>type1</td>\n",
       "      <td>p1</td>\n",
       "      <td>l1</td>\n",
       "      <td>nopc</td>\n",
       "      <td>nob/c</td>\n",
       "      <td>neg_amm</td>\n",
       "      <td>not_int</td>\n",
       "      <td>not_lpsm</td>\n",
       "      <td>sb</td>\n",
       "      <td>pr</td>\n",
       "      <td>home</td>\n",
       "      <td>1U</td>\n",
       "      <td>EXP</td>\n",
       "      <td>CIB</td>\n",
       "      <td>35-44</td>\n",
       "      <td>to_inst</td>\n",
       "      <td>south</td>\n",
       "      <td>direct</td>\n",
       "      <td>24892</td>\n",
       "      <td>2019</td>\n",
       "      <td>406500</td>\n",
       "      <td>4.56000</td>\n",
       "      <td>0.20000</td>\n",
       "      <td>595.00000</td>\n",
       "      <td>360.00000</td>\n",
       "      <td>508000.00000</td>\n",
       "      <td>9480.00000</td>\n",
       "      <td>834</td>\n",
       "      <td>80.01969</td>\n",
       "      <td>0</td>\n",
       "      <td>46.00000</td>\n",
       "    </tr>\n",
       "    <tr>\n",
       "      <th>3</th>\n",
       "      <td>cf</td>\n",
       "      <td>Male</td>\n",
       "      <td>nopre</td>\n",
       "      <td>type1</td>\n",
       "      <td>p4</td>\n",
       "      <td>l1</td>\n",
       "      <td>nopc</td>\n",
       "      <td>nob/c</td>\n",
       "      <td>not_neg</td>\n",
       "      <td>not_int</td>\n",
       "      <td>not_lpsm</td>\n",
       "      <td>sb</td>\n",
       "      <td>pr</td>\n",
       "      <td>home</td>\n",
       "      <td>1U</td>\n",
       "      <td>EXP</td>\n",
       "      <td>CIB</td>\n",
       "      <td>45-54</td>\n",
       "      <td>not_inst</td>\n",
       "      <td>North</td>\n",
       "      <td>direct</td>\n",
       "      <td>24893</td>\n",
       "      <td>2019</td>\n",
       "      <td>456500</td>\n",
       "      <td>4.25000</td>\n",
       "      <td>0.68100</td>\n",
       "      <td>13016.46000</td>\n",
       "      <td>360.00000</td>\n",
       "      <td>658000.00000</td>\n",
       "      <td>11880.00000</td>\n",
       "      <td>587</td>\n",
       "      <td>69.37690</td>\n",
       "      <td>0</td>\n",
       "      <td>42.00000</td>\n",
       "    </tr>\n",
       "    <tr>\n",
       "      <th>4</th>\n",
       "      <td>cf</td>\n",
       "      <td>Joint</td>\n",
       "      <td>pre</td>\n",
       "      <td>type1</td>\n",
       "      <td>p1</td>\n",
       "      <td>l1</td>\n",
       "      <td>nopc</td>\n",
       "      <td>nob/c</td>\n",
       "      <td>not_neg</td>\n",
       "      <td>not_int</td>\n",
       "      <td>not_lpsm</td>\n",
       "      <td>sb</td>\n",
       "      <td>pr</td>\n",
       "      <td>home</td>\n",
       "      <td>1U</td>\n",
       "      <td>CRIF</td>\n",
       "      <td>EXP</td>\n",
       "      <td>25-34</td>\n",
       "      <td>not_inst</td>\n",
       "      <td>North</td>\n",
       "      <td>direct</td>\n",
       "      <td>24894</td>\n",
       "      <td>2019</td>\n",
       "      <td>696500</td>\n",
       "      <td>4.00000</td>\n",
       "      <td>0.30420</td>\n",
       "      <td>0.00000</td>\n",
       "      <td>360.00000</td>\n",
       "      <td>758000.00000</td>\n",
       "      <td>10440.00000</td>\n",
       "      <td>602</td>\n",
       "      <td>91.88654</td>\n",
       "      <td>0</td>\n",
       "      <td>39.00000</td>\n",
       "    </tr>\n",
       "  </tbody>\n",
       "</table>\n",
       "</div>"
      ],
      "text/plain": [
       "  loan_limit             Gender approv_in_adv loan_type loan_purpose  \\\n",
       "0         cf  Sex Not Available         nopre     type1           p1   \n",
       "1         cf               Male         nopre     type2           p1   \n",
       "2         cf               Male           pre     type1           p1   \n",
       "3         cf               Male         nopre     type1           p4   \n",
       "4         cf              Joint           pre     type1           p1   \n",
       "\n",
       "  Credit_Worthiness open_credit business_or_commercial Neg_ammortization  \\\n",
       "0                l1        nopc                  nob/c           not_neg   \n",
       "1                l1        nopc                    b/c           not_neg   \n",
       "2                l1        nopc                  nob/c           neg_amm   \n",
       "3                l1        nopc                  nob/c           not_neg   \n",
       "4                l1        nopc                  nob/c           not_neg   \n",
       "\n",
       "  interest_only lump_sum_payment construction_type occupancy_type Secured_by  \\\n",
       "0       not_int         not_lpsm                sb             pr       home   \n",
       "1       not_int             lpsm                sb             pr       home   \n",
       "2       not_int         not_lpsm                sb             pr       home   \n",
       "3       not_int         not_lpsm                sb             pr       home   \n",
       "4       not_int         not_lpsm                sb             pr       home   \n",
       "\n",
       "  total_units credit_type co-applicant_credit_type    age  \\\n",
       "0          1U         EXP                      CIB  25-34   \n",
       "1          1U        EQUI                      EXP  55-64   \n",
       "2          1U         EXP                      CIB  35-44   \n",
       "3          1U         EXP                      CIB  45-54   \n",
       "4          1U        CRIF                      EXP  25-34   \n",
       "\n",
       "  submission_of_application Region Security_Type     ID  year  loan_amount  \\\n",
       "0                   to_inst  south        direct  24890  2019       116500   \n",
       "1                   to_inst  North        direct  24891  2019       206500   \n",
       "2                   to_inst  south        direct  24892  2019       406500   \n",
       "3                  not_inst  North        direct  24893  2019       456500   \n",
       "4                  not_inst  North        direct  24894  2019       696500   \n",
       "\n",
       "   rate_of_interest  Interest_rate_spread  Upfront_charges      term  \\\n",
       "0           4.11512               0.60133       3508.76000 360.00000   \n",
       "1           3.56250               1.17457       1320.79875 360.00000   \n",
       "2           4.56000               0.20000        595.00000 360.00000   \n",
       "3           4.25000               0.68100      13016.46000 360.00000   \n",
       "4           4.00000               0.30420          0.00000 360.00000   \n",
       "\n",
       "   property_value      income  Credit_Score      LTV  Status    dtir1  \n",
       "0    118000.00000  1740.00000           758 98.72881       1 45.00000  \n",
       "1    188500.00000  4980.00000           552 99.35385       1 40.15000  \n",
       "2    508000.00000  9480.00000           834 80.01969       0 46.00000  \n",
       "3    658000.00000 11880.00000           587 69.37690       0 42.00000  \n",
       "4    758000.00000 10440.00000           602 91.88654       0 39.00000  "
      ]
     },
     "execution_count": 67,
     "metadata": {},
     "output_type": "execute_result"
    }
   ],
   "source": [
    "df_new = pd.concat([df[cat_cols], df_new.drop(cat_cols, axis = 1)], axis = 1)\n",
    "df_new.head()"
   ]
  },
  {
   "cell_type": "code",
   "execution_count": 68,
   "id": "cb26ddd8",
   "metadata": {
    "execution": {
     "iopub.execute_input": "2022-04-14T14:48:54.043743Z",
     "iopub.status.busy": "2022-04-14T14:48:54.043157Z",
     "iopub.status.idle": "2022-04-14T14:48:54.389080Z",
     "shell.execute_reply": "2022-04-14T14:48:54.388114Z"
    },
    "papermill": {
     "duration": 0.440675,
     "end_time": "2022-04-14T14:48:54.391460",
     "exception": false,
     "start_time": "2022-04-14T14:48:53.950785",
     "status": "completed"
    },
    "tags": []
   },
   "outputs": [
    {
     "name": "stdout",
     "output_type": "stream",
     "text": [
      "<class 'pandas.core.frame.DataFrame'>\n",
      "RangeIndex: 148670 entries, 0 to 148669\n",
      "Data columns (total 34 columns):\n",
      " #   Column                     Non-Null Count   Dtype  \n",
      "---  ------                     --------------   -----  \n",
      " 0   loan_limit                 148670 non-null  object \n",
      " 1   Gender                     148670 non-null  object \n",
      " 2   approv_in_adv              148670 non-null  object \n",
      " 3   loan_type                  148670 non-null  object \n",
      " 4   loan_purpose               148670 non-null  object \n",
      " 5   Credit_Worthiness          148670 non-null  object \n",
      " 6   open_credit                148670 non-null  object \n",
      " 7   business_or_commercial     148670 non-null  object \n",
      " 8   Neg_ammortization          148670 non-null  object \n",
      " 9   interest_only              148670 non-null  object \n",
      " 10  lump_sum_payment           148670 non-null  object \n",
      " 11  construction_type          148670 non-null  object \n",
      " 12  occupancy_type             148670 non-null  object \n",
      " 13  Secured_by                 148670 non-null  object \n",
      " 14  total_units                148670 non-null  object \n",
      " 15  credit_type                148670 non-null  object \n",
      " 16  co-applicant_credit_type   148670 non-null  object \n",
      " 17  age                        148670 non-null  object \n",
      " 18  submission_of_application  148670 non-null  object \n",
      " 19  Region                     148670 non-null  object \n",
      " 20  Security_Type              148670 non-null  object \n",
      " 21  ID                         148670 non-null  int64  \n",
      " 22  year                       148670 non-null  int64  \n",
      " 23  loan_amount                148670 non-null  int64  \n",
      " 24  rate_of_interest           148670 non-null  float64\n",
      " 25  Interest_rate_spread       148670 non-null  float64\n",
      " 26  Upfront_charges            148670 non-null  float64\n",
      " 27  term                       148670 non-null  float64\n",
      " 28  property_value             148670 non-null  float64\n",
      " 29  income                     148670 non-null  float64\n",
      " 30  Credit_Score               148670 non-null  int64  \n",
      " 31  LTV                        148670 non-null  float64\n",
      " 32  Status                     148670 non-null  int64  \n",
      " 33  dtir1                      148670 non-null  float64\n",
      "dtypes: float64(8), int64(5), object(21)\n",
      "memory usage: 38.6+ MB\n"
     ]
    }
   ],
   "source": [
    "df_new.info()"
   ]
  },
  {
   "cell_type": "markdown",
   "id": "ae717c67",
   "metadata": {
    "papermill": {
     "duration": 0.094458,
     "end_time": "2022-04-14T14:48:54.577886",
     "exception": false,
     "start_time": "2022-04-14T14:48:54.483428",
     "status": "completed"
    },
    "tags": []
   },
   "source": [
    "<h3>(c) Linear Methods</h3>\n",
    "\n",
    "When a complete Attribute shows a strong linear relationship with a attribute that requires imputation, a straightforward linear model may be the best approach. Linear models can be computed very quickly. Linear regression can be used for a numeric attribute that requires imputation.\n",
    "Similarly, logistic regression is appropriate for a categorical attribute that requires imputation.\n",
    "\n",
    "Let say feature rate_of_interest and Interest_rate_spread are dependent features means one feature can be defined using other. If feature rate_of_interest has missing values than it can be imputed using simple linear model trained on Interest_rate_spread."
   ]
  },
  {
   "cell_type": "markdown",
   "id": "ff10548f",
   "metadata": {},
   "source": [
    "# 2 Encoding Categorical Attributes"
   ]
  },
  {
   "cell_type": "markdown",
   "id": "fe686757",
   "metadata": {
    "papermill": {
     "duration": 0.091688,
     "end_time": "2022-04-14T14:48:54.761383",
     "exception": false,
     "start_time": "2022-04-14T14:48:54.669695",
     "status": "completed"
    },
    "tags": []
   },
   "source": [
    "Categorical Features are those that contain qualitative data.This Section focuses primarily on methods that encode categorical data to numeric values.\n",
    "\n",
    "Categorical variables/features are any feature type can be classified into three major types:\n",
    "\n",
    "- Nominal\n",
    "- Ordinal\n",
    "- Binary\n",
    "\n",
    "**Nominal variables** are variables that have two or more categories which do not have any kind of order associated with them. For Example if our dataset has any 4 types of colors, i.e. Red, Blue, Orange, Green it can be considered as a nominal variable.\n",
    "\n",
    "**Ordinal variables** on the other hand, have “levels” or categories with a particular order associated with them. For example, an ordinal categorical variable can be a feature with three different levels: low, medium and high. Order is important.\n",
    "\n",
    "**Binary Variables** are same as nominal variables but with only categories For example, if gender is classified into two groups, i.e. male and female.\n",
    "\n",
    "For Nominal Variables We generally uses Label Encoding Scheme in which we encode each category by just converting it to some integer values this kind of encoding can work in case of Ordinal variables but **for label encoding it has the disadvantage that the numeric values can be misinterpreted by algorithms as having some sort of hierarchy/order in them**. This ordering issue is addressed in another common alternative approach called 'One-Hot Encoding'.\n",
    "\n",
    "One-Hot-Encoding has the advantage that the result is binary rather than ordinal and that everything sits in an orthogonal vector space. **The disadvantage is that for high cardinality, the feature space can really blow up quickly and you start fighting with the curse of dimensionality.**\n",
    "\n",
    "Another big issue with encoding schemes is new category or while splitting data in train/validation/test set all samples of the rare classes may split into validation/test set then during it will raise error while predicting.  \n"
   ]
  },
  {
   "cell_type": "markdown",
   "id": "c915e0db",
   "metadata": {},
   "source": [
    "## 2.1 Supervised Encoding Methods"
   ]
  },
  {
   "cell_type": "markdown",
   "id": "22748b71",
   "metadata": {},
   "source": [
    "There are several methods of encoding categorical variable to numeric columns using the output data as a guide (so that they are supervised methods). In Supervised Techniques we will discuss following methods to encode categorical variable:-\n",
    "\n",
    "- Effect or Likelihood Encoding  \n",
    "- Target Encoding \n",
    "- Deep Learning Methods"
   ]
  },
  {
   "cell_type": "markdown",
   "id": "cee42f3f",
   "metadata": {},
   "source": [
    "### 2.1.1 Likelihood Encoding"
   ]
  },
  {
   "cell_type": "markdown",
   "id": "e20620de",
   "metadata": {},
   "source": [
    "The effect of the factor level on the output data is measured and this effect is used as the numeric encoding. Here effect of that particular category on output data can be calculated using simple linear models or mean, mode and median methods. \n",
    "\n",
    "For classification problems, a simple logistic regression model can be used to measure the effect between the categorical outcome and the categorical predictor. After Computing Effects we will compute log-odds of those effects, If the effect is p, the odds of that event are defined as p/(1 − p) and log odds by simply taking log of odds. After when we get the log odds of each category we than encode each category with them using map function.     "
   ]
  },
  {
   "cell_type": "code",
   "execution_count": 69,
   "id": "bb0f9759",
   "metadata": {
    "execution": {
     "iopub.execute_input": "2022-04-14T14:48:55.132890Z",
     "iopub.status.busy": "2022-04-14T14:48:55.132268Z",
     "iopub.status.idle": "2022-04-14T14:48:55.160985Z",
     "shell.execute_reply": "2022-04-14T14:48:55.159963Z"
    },
    "papermill": {
     "duration": 0.123952,
     "end_time": "2022-04-14T14:48:55.163398",
     "exception": false,
     "start_time": "2022-04-14T14:48:55.039446",
     "status": "completed"
    },
    "tags": []
   },
   "outputs": [],
   "source": [
    "df_temp = df_new.copy()"
   ]
  },
  {
   "cell_type": "code",
   "execution_count": 70,
   "id": "741a3818",
   "metadata": {
    "execution": {
     "iopub.execute_input": "2022-04-14T14:48:55.349079Z",
     "iopub.status.busy": "2022-04-14T14:48:55.348768Z",
     "iopub.status.idle": "2022-04-14T14:48:56.569788Z",
     "shell.execute_reply": "2022-04-14T14:48:56.568718Z"
    },
    "papermill": {
     "duration": 1.317213,
     "end_time": "2022-04-14T14:48:56.572249",
     "exception": false,
     "start_time": "2022-04-14T14:48:55.255036",
     "status": "completed"
    },
    "tags": []
   },
   "outputs": [],
   "source": [
    "from sklearn.linear_model import LogisticRegression\n",
    "from sklearn.metrics import accuracy_score\n",
    "from sklearn.preprocessing import LabelEncoder\n",
    "\n",
    "\n",
    "## Again we have to temporarily encode variables\n",
    "lb = LabelEncoder()\n",
    "\n",
    "cat_cols = [col for col in df_temp.columns if df_temp[col].dtype == 'object']\n",
    "\n",
    "for col in cat_cols:\n",
    "    df_temp[col] = lb.fit_transform(df_temp[col])\n"
   ]
  },
  {
   "cell_type": "code",
   "execution_count": 71,
   "id": "9c2d8b89",
   "metadata": {
    "execution": {
     "iopub.execute_input": "2022-04-14T14:48:56.761223Z",
     "iopub.status.busy": "2022-04-14T14:48:56.760921Z",
     "iopub.status.idle": "2022-04-14T14:48:56.770438Z",
     "shell.execute_reply": "2022-04-14T14:48:56.769710Z"
    },
    "papermill": {
     "duration": 0.107666,
     "end_time": "2022-04-14T14:48:56.772246",
     "exception": false,
     "start_time": "2022-04-14T14:48:56.664580",
     "status": "completed"
    },
    "tags": []
   },
   "outputs": [],
   "source": [
    "def likelihood_encoding(df, cat_cols, target_variable = \"Status\"):\n",
    "    # cat_cols.remove(target_variable)\n",
    "    df_temp = df.copy()\n",
    "    for col in cat_cols:\n",
    "        effect = {}\n",
    "        print(col)\n",
    "        for category in df[col].unique():\n",
    "            print(category)\n",
    "\n",
    "            try:\n",
    "                temp = df[df[col] == category]\n",
    "                lr = LogisticRegression()\n",
    "                X = temp.drop(target_variable, axis = 1, inplace = False)\n",
    "                y = temp[target_variable]\n",
    "                # print(temp.drop(target_variable, axis = 1).isnull().sum())\n",
    "                lr.fit(X, y)\n",
    "\n",
    "                effect[category] = accuracy_score(y, lr.predict(X))\n",
    "            except Exception as E:\n",
    "                print(E)\n",
    "        \n",
    "        for key, value in effect.items():\n",
    "            effect[key] = np.log(effect[key] / (1 - effect[key] + 1e-6))\n",
    "            \n",
    "        df_temp.loc[:, col] = df_temp.loc[:, col].map(effect)\n",
    "    return df_temp"
   ]
  },
  {
   "cell_type": "code",
   "execution_count": 72,
   "id": "22b21b2d",
   "metadata": {
    "_kg_hide-input": false,
    "_kg_hide-output": true,
    "execution": {
     "iopub.execute_input": "2022-04-14T14:48:56.960466Z",
     "iopub.status.busy": "2022-04-14T14:48:56.960127Z",
     "iopub.status.idle": "2022-04-14T14:49:44.670965Z",
     "shell.execute_reply": "2022-04-14T14:49:44.670061Z"
    },
    "papermill": {
     "duration": 47.80869,
     "end_time": "2022-04-14T14:49:44.674327",
     "exception": false,
     "start_time": "2022-04-14T14:48:56.865637",
     "status": "completed"
    },
    "scrolled": true,
    "tags": []
   },
   "outputs": [
    {
     "name": "stdout",
     "output_type": "stream",
     "text": [
      "loan_limit\n",
      "1\n",
      "0\n",
      "2\n",
      "Gender\n",
      "3\n",
      "2\n",
      "1\n",
      "0\n",
      "approv_in_adv\n",
      "1\n",
      "2\n",
      "0\n",
      "loan_type\n",
      "0\n",
      "1\n",
      "2\n",
      "loan_purpose\n",
      "1\n",
      "4\n",
      "3\n",
      "2\n",
      "0\n",
      "Credit_Worthiness\n",
      "0\n",
      "1\n",
      "open_credit\n",
      "0\n",
      "1\n",
      "business_or_commercial\n",
      "1\n",
      "0\n",
      "Neg_ammortization\n",
      "2\n",
      "1\n",
      "0\n",
      "interest_only\n",
      "1\n",
      "0\n",
      "lump_sum_payment\n",
      "1\n",
      "0\n",
      "construction_type\n",
      "1\n",
      "0\n",
      "This solver needs samples of at least 2 classes in the data, but the data contains only one class: 1\n",
      "occupancy_type\n",
      "1\n",
      "2\n",
      "0\n",
      "Secured_by\n",
      "0\n",
      "1\n",
      "This solver needs samples of at least 2 classes in the data, but the data contains only one class: 1\n",
      "total_units\n",
      "0\n",
      "1\n",
      "2\n",
      "3\n",
      "credit_type\n",
      "3\n",
      "2\n",
      "1\n",
      "0\n",
      "co-applicant_credit_type\n",
      "0\n",
      "1\n",
      "age\n",
      "0\n",
      "3\n",
      "1\n",
      "2\n",
      "4\n",
      "6\n",
      "5\n",
      "7\n",
      "This solver needs samples of at least 2 classes in the data, but the data contains only one class: 1\n",
      "submission_of_application\n",
      "2\n",
      "1\n",
      "0\n",
      "This solver needs samples of at least 2 classes in the data, but the data contains only one class: 1\n",
      "Region\n",
      "3\n",
      "0\n",
      "2\n",
      "1\n",
      "Security_Type\n",
      "1\n",
      "0\n",
      "This solver needs samples of at least 2 classes in the data, but the data contains only one class: 1\n"
     ]
    }
   ],
   "source": [
    "df_temp = likelihood_encoding(df_temp, cat_cols)"
   ]
  },
  {
   "cell_type": "code",
   "execution_count": 73,
   "id": "07d2d410",
   "metadata": {
    "execution": {
     "iopub.execute_input": "2022-04-14T14:49:44.942038Z",
     "iopub.status.busy": "2022-04-14T14:49:44.941751Z",
     "iopub.status.idle": "2022-04-14T14:49:44.969990Z",
     "shell.execute_reply": "2022-04-14T14:49:44.969159Z"
    },
    "papermill": {
     "duration": 0.147045,
     "end_time": "2022-04-14T14:49:44.972071",
     "exception": false,
     "start_time": "2022-04-14T14:49:44.825026",
     "status": "completed"
    },
    "tags": []
   },
   "outputs": [
    {
     "data": {
      "text/html": [
       "<div>\n",
       "<style scoped>\n",
       "    .dataframe tbody tr th:only-of-type {\n",
       "        vertical-align: middle;\n",
       "    }\n",
       "\n",
       "    .dataframe tbody tr th {\n",
       "        vertical-align: top;\n",
       "    }\n",
       "\n",
       "    .dataframe thead th {\n",
       "        text-align: right;\n",
       "    }\n",
       "</style>\n",
       "<table border=\"1\" class=\"dataframe\">\n",
       "  <thead>\n",
       "    <tr style=\"text-align: right;\">\n",
       "      <th></th>\n",
       "      <th>loan_limit</th>\n",
       "      <th>Gender</th>\n",
       "      <th>approv_in_adv</th>\n",
       "      <th>loan_type</th>\n",
       "      <th>loan_purpose</th>\n",
       "      <th>Credit_Worthiness</th>\n",
       "      <th>open_credit</th>\n",
       "      <th>business_or_commercial</th>\n",
       "      <th>Neg_ammortization</th>\n",
       "      <th>interest_only</th>\n",
       "      <th>lump_sum_payment</th>\n",
       "      <th>construction_type</th>\n",
       "      <th>occupancy_type</th>\n",
       "      <th>Secured_by</th>\n",
       "      <th>total_units</th>\n",
       "      <th>credit_type</th>\n",
       "      <th>co-applicant_credit_type</th>\n",
       "      <th>age</th>\n",
       "      <th>submission_of_application</th>\n",
       "      <th>Region</th>\n",
       "      <th>Security_Type</th>\n",
       "      <th>ID</th>\n",
       "      <th>year</th>\n",
       "      <th>loan_amount</th>\n",
       "      <th>rate_of_interest</th>\n",
       "      <th>Interest_rate_spread</th>\n",
       "      <th>Upfront_charges</th>\n",
       "      <th>term</th>\n",
       "      <th>property_value</th>\n",
       "      <th>income</th>\n",
       "      <th>Credit_Score</th>\n",
       "      <th>LTV</th>\n",
       "      <th>Status</th>\n",
       "      <th>dtir1</th>\n",
       "    </tr>\n",
       "  </thead>\n",
       "  <tbody>\n",
       "    <tr>\n",
       "      <th>0</th>\n",
       "      <td>1.15428</td>\n",
       "      <td>0.91534</td>\n",
       "      <td>1.08145</td>\n",
       "      <td>1.22126</td>\n",
       "      <td>1.05238</td>\n",
       "      <td>1.13502</td>\n",
       "      <td>1.11649</td>\n",
       "      <td>1.20645</td>\n",
       "      <td>1.24380</td>\n",
       "      <td>1.12508</td>\n",
       "      <td>1.18547</td>\n",
       "      <td>1.11881</td>\n",
       "      <td>1.13653</td>\n",
       "      <td>1.11881</td>\n",
       "      <td>1.12581</td>\n",
       "      <td>1.65949</td>\n",
       "      <td>1.48734</td>\n",
       "      <td>1.25572</td>\n",
       "      <td>0.92594</td>\n",
       "      <td>1.01359</td>\n",
       "      <td>1.11881</td>\n",
       "      <td>24890</td>\n",
       "      <td>2019</td>\n",
       "      <td>116500</td>\n",
       "      <td>4.11512</td>\n",
       "      <td>0.60133</td>\n",
       "      <td>3508.76000</td>\n",
       "      <td>360.00000</td>\n",
       "      <td>118000.00000</td>\n",
       "      <td>1740.00000</td>\n",
       "      <td>758</td>\n",
       "      <td>98.72881</td>\n",
       "      <td>1</td>\n",
       "      <td>45.00000</td>\n",
       "    </tr>\n",
       "    <tr>\n",
       "      <th>1</th>\n",
       "      <td>1.15428</td>\n",
       "      <td>1.03665</td>\n",
       "      <td>1.08145</td>\n",
       "      <td>0.77774</td>\n",
       "      <td>1.05238</td>\n",
       "      <td>1.13502</td>\n",
       "      <td>1.11649</td>\n",
       "      <td>0.77774</td>\n",
       "      <td>1.24380</td>\n",
       "      <td>1.12508</td>\n",
       "      <td>1.23913</td>\n",
       "      <td>1.11881</td>\n",
       "      <td>1.13653</td>\n",
       "      <td>1.11881</td>\n",
       "      <td>1.12581</td>\n",
       "      <td>9.62023</td>\n",
       "      <td>0.80731</td>\n",
       "      <td>1.05202</td>\n",
       "      <td>0.92594</td>\n",
       "      <td>1.23633</td>\n",
       "      <td>1.11881</td>\n",
       "      <td>24891</td>\n",
       "      <td>2019</td>\n",
       "      <td>206500</td>\n",
       "      <td>3.56250</td>\n",
       "      <td>1.17457</td>\n",
       "      <td>1320.79875</td>\n",
       "      <td>360.00000</td>\n",
       "      <td>188500.00000</td>\n",
       "      <td>4980.00000</td>\n",
       "      <td>552</td>\n",
       "      <td>99.35385</td>\n",
       "      <td>1</td>\n",
       "      <td>40.15000</td>\n",
       "    </tr>\n",
       "    <tr>\n",
       "      <th>2</th>\n",
       "      <td>1.15428</td>\n",
       "      <td>1.03665</td>\n",
       "      <td>1.33317</td>\n",
       "      <td>1.22126</td>\n",
       "      <td>1.05238</td>\n",
       "      <td>1.13502</td>\n",
       "      <td>1.11649</td>\n",
       "      <td>1.20645</td>\n",
       "      <td>0.26635</td>\n",
       "      <td>1.12508</td>\n",
       "      <td>1.18547</td>\n",
       "      <td>1.11881</td>\n",
       "      <td>1.13653</td>\n",
       "      <td>1.11881</td>\n",
       "      <td>1.12581</td>\n",
       "      <td>1.65949</td>\n",
       "      <td>1.48734</td>\n",
       "      <td>1.25080</td>\n",
       "      <td>0.92594</td>\n",
       "      <td>1.01359</td>\n",
       "      <td>1.11881</td>\n",
       "      <td>24892</td>\n",
       "      <td>2019</td>\n",
       "      <td>406500</td>\n",
       "      <td>4.56000</td>\n",
       "      <td>0.20000</td>\n",
       "      <td>595.00000</td>\n",
       "      <td>360.00000</td>\n",
       "      <td>508000.00000</td>\n",
       "      <td>9480.00000</td>\n",
       "      <td>834</td>\n",
       "      <td>80.01969</td>\n",
       "      <td>0</td>\n",
       "      <td>46.00000</td>\n",
       "    </tr>\n",
       "    <tr>\n",
       "      <th>3</th>\n",
       "      <td>1.15428</td>\n",
       "      <td>1.03665</td>\n",
       "      <td>1.08145</td>\n",
       "      <td>1.22126</td>\n",
       "      <td>1.21024</td>\n",
       "      <td>1.13502</td>\n",
       "      <td>1.11649</td>\n",
       "      <td>1.20645</td>\n",
       "      <td>1.24380</td>\n",
       "      <td>1.12508</td>\n",
       "      <td>1.18547</td>\n",
       "      <td>1.11881</td>\n",
       "      <td>1.13653</td>\n",
       "      <td>1.11881</td>\n",
       "      <td>1.12581</td>\n",
       "      <td>1.65949</td>\n",
       "      <td>1.48734</td>\n",
       "      <td>1.15028</td>\n",
       "      <td>1.54925</td>\n",
       "      <td>1.23633</td>\n",
       "      <td>1.11881</td>\n",
       "      <td>24893</td>\n",
       "      <td>2019</td>\n",
       "      <td>456500</td>\n",
       "      <td>4.25000</td>\n",
       "      <td>0.68100</td>\n",
       "      <td>13016.46000</td>\n",
       "      <td>360.00000</td>\n",
       "      <td>658000.00000</td>\n",
       "      <td>11880.00000</td>\n",
       "      <td>587</td>\n",
       "      <td>69.37690</td>\n",
       "      <td>0</td>\n",
       "      <td>42.00000</td>\n",
       "    </tr>\n",
       "    <tr>\n",
       "      <th>4</th>\n",
       "      <td>1.15428</td>\n",
       "      <td>1.43934</td>\n",
       "      <td>1.33317</td>\n",
       "      <td>1.22126</td>\n",
       "      <td>1.05238</td>\n",
       "      <td>1.13502</td>\n",
       "      <td>1.11649</td>\n",
       "      <td>1.20645</td>\n",
       "      <td>1.24380</td>\n",
       "      <td>1.12508</td>\n",
       "      <td>1.18547</td>\n",
       "      <td>1.11881</td>\n",
       "      <td>1.13653</td>\n",
       "      <td>1.11881</td>\n",
       "      <td>1.12581</td>\n",
       "      <td>1.64089</td>\n",
       "      <td>0.80731</td>\n",
       "      <td>1.25572</td>\n",
       "      <td>1.54925</td>\n",
       "      <td>1.23633</td>\n",
       "      <td>1.11881</td>\n",
       "      <td>24894</td>\n",
       "      <td>2019</td>\n",
       "      <td>696500</td>\n",
       "      <td>4.00000</td>\n",
       "      <td>0.30420</td>\n",
       "      <td>0.00000</td>\n",
       "      <td>360.00000</td>\n",
       "      <td>758000.00000</td>\n",
       "      <td>10440.00000</td>\n",
       "      <td>602</td>\n",
       "      <td>91.88654</td>\n",
       "      <td>0</td>\n",
       "      <td>39.00000</td>\n",
       "    </tr>\n",
       "  </tbody>\n",
       "</table>\n",
       "</div>"
      ],
      "text/plain": [
       "   loan_limit  Gender  approv_in_adv  loan_type  loan_purpose  \\\n",
       "0     1.15428 0.91534        1.08145    1.22126       1.05238   \n",
       "1     1.15428 1.03665        1.08145    0.77774       1.05238   \n",
       "2     1.15428 1.03665        1.33317    1.22126       1.05238   \n",
       "3     1.15428 1.03665        1.08145    1.22126       1.21024   \n",
       "4     1.15428 1.43934        1.33317    1.22126       1.05238   \n",
       "\n",
       "   Credit_Worthiness  open_credit  business_or_commercial  Neg_ammortization  \\\n",
       "0            1.13502      1.11649                 1.20645            1.24380   \n",
       "1            1.13502      1.11649                 0.77774            1.24380   \n",
       "2            1.13502      1.11649                 1.20645            0.26635   \n",
       "3            1.13502      1.11649                 1.20645            1.24380   \n",
       "4            1.13502      1.11649                 1.20645            1.24380   \n",
       "\n",
       "   interest_only  lump_sum_payment  construction_type  occupancy_type  \\\n",
       "0        1.12508           1.18547            1.11881         1.13653   \n",
       "1        1.12508           1.23913            1.11881         1.13653   \n",
       "2        1.12508           1.18547            1.11881         1.13653   \n",
       "3        1.12508           1.18547            1.11881         1.13653   \n",
       "4        1.12508           1.18547            1.11881         1.13653   \n",
       "\n",
       "   Secured_by  total_units  credit_type  co-applicant_credit_type     age  \\\n",
       "0     1.11881      1.12581      1.65949                   1.48734 1.25572   \n",
       "1     1.11881      1.12581      9.62023                   0.80731 1.05202   \n",
       "2     1.11881      1.12581      1.65949                   1.48734 1.25080   \n",
       "3     1.11881      1.12581      1.65949                   1.48734 1.15028   \n",
       "4     1.11881      1.12581      1.64089                   0.80731 1.25572   \n",
       "\n",
       "   submission_of_application  Region  Security_Type     ID  year  loan_amount  \\\n",
       "0                    0.92594 1.01359        1.11881  24890  2019       116500   \n",
       "1                    0.92594 1.23633        1.11881  24891  2019       206500   \n",
       "2                    0.92594 1.01359        1.11881  24892  2019       406500   \n",
       "3                    1.54925 1.23633        1.11881  24893  2019       456500   \n",
       "4                    1.54925 1.23633        1.11881  24894  2019       696500   \n",
       "\n",
       "   rate_of_interest  Interest_rate_spread  Upfront_charges      term  \\\n",
       "0           4.11512               0.60133       3508.76000 360.00000   \n",
       "1           3.56250               1.17457       1320.79875 360.00000   \n",
       "2           4.56000               0.20000        595.00000 360.00000   \n",
       "3           4.25000               0.68100      13016.46000 360.00000   \n",
       "4           4.00000               0.30420          0.00000 360.00000   \n",
       "\n",
       "   property_value      income  Credit_Score      LTV  Status    dtir1  \n",
       "0    118000.00000  1740.00000           758 98.72881       1 45.00000  \n",
       "1    188500.00000  4980.00000           552 99.35385       1 40.15000  \n",
       "2    508000.00000  9480.00000           834 80.01969       0 46.00000  \n",
       "3    658000.00000 11880.00000           587 69.37690       0 42.00000  \n",
       "4    758000.00000 10440.00000           602 91.88654       0 39.00000  "
      ]
     },
     "execution_count": 73,
     "metadata": {},
     "output_type": "execute_result"
    }
   ],
   "source": [
    "df_temp.head()"
   ]
  },
  {
   "cell_type": "code",
   "execution_count": 74,
   "id": "bab23e63",
   "metadata": {
    "execution": {
     "iopub.execute_input": "2022-04-14T14:49:45.201292Z",
     "iopub.status.busy": "2022-04-14T14:49:45.200984Z",
     "iopub.status.idle": "2022-04-14T14:49:45.232158Z",
     "shell.execute_reply": "2022-04-14T14:49:45.231056Z"
    },
    "papermill": {
     "duration": 0.148149,
     "end_time": "2022-04-14T14:49:45.234337",
     "exception": false,
     "start_time": "2022-04-14T14:49:45.086188",
     "status": "completed"
    },
    "tags": []
   },
   "outputs": [
    {
     "name": "stdout",
     "output_type": "stream",
     "text": [
      "<class 'pandas.core.frame.DataFrame'>\n",
      "RangeIndex: 148670 entries, 0 to 148669\n",
      "Data columns (total 34 columns):\n",
      " #   Column                     Non-Null Count   Dtype  \n",
      "---  ------                     --------------   -----  \n",
      " 0   loan_limit                 148670 non-null  float64\n",
      " 1   Gender                     148670 non-null  float64\n",
      " 2   approv_in_adv              148670 non-null  float64\n",
      " 3   loan_type                  148670 non-null  float64\n",
      " 4   loan_purpose               148670 non-null  float64\n",
      " 5   Credit_Worthiness          148670 non-null  float64\n",
      " 6   open_credit                148670 non-null  float64\n",
      " 7   business_or_commercial     148670 non-null  float64\n",
      " 8   Neg_ammortization          148670 non-null  float64\n",
      " 9   interest_only              148670 non-null  float64\n",
      " 10  lump_sum_payment           148670 non-null  float64\n",
      " 11  construction_type          148637 non-null  float64\n",
      " 12  occupancy_type             148670 non-null  float64\n",
      " 13  Secured_by                 148637 non-null  float64\n",
      " 14  total_units                148670 non-null  float64\n",
      " 15  credit_type                148670 non-null  float64\n",
      " 16  co-applicant_credit_type   148670 non-null  float64\n",
      " 17  age                        148470 non-null  float64\n",
      " 18  submission_of_application  148470 non-null  float64\n",
      " 19  Region                     148670 non-null  float64\n",
      " 20  Security_Type              148637 non-null  float64\n",
      " 21  ID                         148670 non-null  int64  \n",
      " 22  year                       148670 non-null  int64  \n",
      " 23  loan_amount                148670 non-null  int64  \n",
      " 24  rate_of_interest           148670 non-null  float64\n",
      " 25  Interest_rate_spread       148670 non-null  float64\n",
      " 26  Upfront_charges            148670 non-null  float64\n",
      " 27  term                       148670 non-null  float64\n",
      " 28  property_value             148670 non-null  float64\n",
      " 29  income                     148670 non-null  float64\n",
      " 30  Credit_Score               148670 non-null  int64  \n",
      " 31  LTV                        148670 non-null  float64\n",
      " 32  Status                     148670 non-null  int64  \n",
      " 33  dtir1                      148670 non-null  float64\n",
      "dtypes: float64(29), int64(5)\n",
      "memory usage: 38.6 MB\n"
     ]
    }
   ],
   "source": [
    "df_temp.info()"
   ]
  },
  {
   "cell_type": "code",
   "execution_count": 75,
   "id": "891b67d9",
   "metadata": {
    "execution": {
     "iopub.execute_input": "2022-04-14T14:49:45.465630Z",
     "iopub.status.busy": "2022-04-14T14:49:45.464709Z",
     "iopub.status.idle": "2022-04-14T14:49:45.468928Z",
     "shell.execute_reply": "2022-04-14T14:49:45.468168Z"
    },
    "papermill": {
     "duration": 0.121702,
     "end_time": "2022-04-14T14:49:45.470658",
     "exception": false,
     "start_time": "2022-04-14T14:49:45.348956",
     "status": "completed"
    },
    "tags": []
   },
   "outputs": [],
   "source": [
    "del df_temp"
   ]
  },
  {
   "cell_type": "markdown",
   "id": "b5913499",
   "metadata": {
    "papermill": {
     "duration": 0.114611,
     "end_time": "2022-04-14T14:49:45.700519",
     "exception": false,
     "start_time": "2022-04-14T14:49:45.585908",
     "status": "completed"
    },
    "tags": []
   },
   "source": [
    "Implementation part is done While very fast, it has drawbacks. For example, what happens when a factor level has a single value? Theoretically, the log-odds should be infinite in the appropriate direction i.e. p/(1 - p) tends to infinity if p = 1. And numerically, it is usually capped at a large (and inaccurate) value.\n",
    "\n",
    "For example in above implementation for column construction_type their are 2 categories 1 has around 148637 values and other has 33 values so for category mh which has 33 values p becomes 1 and it raises the error. Then This lead us to move to next technique known as target encoding which is simpler that likelihood encoding. "
   ]
  },
  {
   "cell_type": "markdown",
   "id": "f77f7820",
   "metadata": {},
   "source": [
    "### 2.1.2 Target Encoding"
   ]
  },
  {
   "cell_type": "markdown",
   "id": "084807b0",
   "metadata": {},
   "source": [
    "It is same as likelihood encoding but the difference is we use average of output variable for that particular category to encode values inplace of some linear model. Lets move to the implementation."
   ]
  },
  {
   "cell_type": "code",
   "execution_count": 76,
   "id": "2ab2a1d2",
   "metadata": {
    "execution": {
     "iopub.execute_input": "2022-04-14T14:49:45.932534Z",
     "iopub.status.busy": "2022-04-14T14:49:45.931961Z",
     "iopub.status.idle": "2022-04-14T14:49:45.938245Z",
     "shell.execute_reply": "2022-04-14T14:49:45.937216Z"
    },
    "papermill": {
     "duration": 0.125493,
     "end_time": "2022-04-14T14:49:45.940351",
     "exception": false,
     "start_time": "2022-04-14T14:49:45.814858",
     "status": "completed"
    },
    "tags": []
   },
   "outputs": [],
   "source": [
    "def target_encoding(df, cat_cols, target_variable = \"Status\"):\n",
    "\n",
    "    for col in cat_cols:\n",
    "        weight = 7\n",
    "        feat = df.groupby(col)[target_variable].agg([\"mean\", \"count\"])\n",
    "        mean = feat['mean']\n",
    "        count = feat['count']\n",
    "        \n",
    "        smooth = (count * mean + weight * mean) / (weight + count)\n",
    "\n",
    "        df.loc[:, col] = df.loc[:, col].map(smooth)\n",
    "\n",
    "    return df"
   ]
  },
  {
   "cell_type": "code",
   "execution_count": 77,
   "id": "14781a01",
   "metadata": {
    "execution": {
     "iopub.execute_input": "2022-04-14T14:49:46.174396Z",
     "iopub.status.busy": "2022-04-14T14:49:46.173327Z",
     "iopub.status.idle": "2022-04-14T14:49:46.198560Z",
     "shell.execute_reply": "2022-04-14T14:49:46.197731Z"
    },
    "papermill": {
     "duration": 0.143471,
     "end_time": "2022-04-14T14:49:46.200870",
     "exception": false,
     "start_time": "2022-04-14T14:49:46.057399",
     "status": "completed"
    },
    "tags": []
   },
   "outputs": [],
   "source": [
    "df_temp = df_new.copy()"
   ]
  },
  {
   "cell_type": "code",
   "execution_count": 78,
   "id": "8c458d9a",
   "metadata": {
    "execution": {
     "iopub.execute_input": "2022-04-14T14:49:46.433482Z",
     "iopub.status.busy": "2022-04-14T14:49:46.432377Z",
     "iopub.status.idle": "2022-04-14T14:49:47.595374Z",
     "shell.execute_reply": "2022-04-14T14:49:47.594169Z"
    },
    "papermill": {
     "duration": 1.281306,
     "end_time": "2022-04-14T14:49:47.597844",
     "exception": false,
     "start_time": "2022-04-14T14:49:46.316538",
     "status": "completed"
    },
    "tags": []
   },
   "outputs": [],
   "source": [
    "from sklearn.linear_model import LogisticRegression\n",
    "from sklearn.metrics import accuracy_score\n",
    "from sklearn.preprocessing import LabelEncoder\n",
    "\n",
    "\n",
    "## Again we have to temporarily encode variables\n",
    "lb = LabelEncoder()\n",
    "\n",
    "cat_cols = [col for col in df_temp.columns if df_temp[col].dtype == 'object']\n",
    "\n",
    "for col in cat_cols:\n",
    "    df_temp[col] = lb.fit_transform(df_temp[col])\n"
   ]
  },
  {
   "cell_type": "code",
   "execution_count": 79,
   "id": "5f3cc1bb",
   "metadata": {
    "execution": {
     "iopub.execute_input": "2022-04-14T14:49:47.835103Z",
     "iopub.status.busy": "2022-04-14T14:49:47.834775Z",
     "iopub.status.idle": "2022-04-14T14:49:48.011200Z",
     "shell.execute_reply": "2022-04-14T14:49:48.010281Z"
    },
    "papermill": {
     "duration": 0.297583,
     "end_time": "2022-04-14T14:49:48.013793",
     "exception": false,
     "start_time": "2022-04-14T14:49:47.716210",
     "status": "completed"
    },
    "tags": []
   },
   "outputs": [],
   "source": [
    "df_temp = target_encoding(df_temp, cat_cols)"
   ]
  },
  {
   "cell_type": "code",
   "execution_count": 80,
   "id": "6e331a7b",
   "metadata": {
    "execution": {
     "iopub.execute_input": "2022-04-14T14:49:48.245396Z",
     "iopub.status.busy": "2022-04-14T14:49:48.244814Z",
     "iopub.status.idle": "2022-04-14T14:49:48.272890Z",
     "shell.execute_reply": "2022-04-14T14:49:48.272204Z"
    },
    "papermill": {
     "duration": 0.146819,
     "end_time": "2022-04-14T14:49:48.274819",
     "exception": false,
     "start_time": "2022-04-14T14:49:48.128000",
     "status": "completed"
    },
    "tags": []
   },
   "outputs": [
    {
     "data": {
      "text/html": [
       "<div>\n",
       "<style scoped>\n",
       "    .dataframe tbody tr th:only-of-type {\n",
       "        vertical-align: middle;\n",
       "    }\n",
       "\n",
       "    .dataframe tbody tr th {\n",
       "        vertical-align: top;\n",
       "    }\n",
       "\n",
       "    .dataframe thead th {\n",
       "        text-align: right;\n",
       "    }\n",
       "</style>\n",
       "<table border=\"1\" class=\"dataframe\">\n",
       "  <thead>\n",
       "    <tr style=\"text-align: right;\">\n",
       "      <th></th>\n",
       "      <th>loan_limit</th>\n",
       "      <th>Gender</th>\n",
       "      <th>approv_in_adv</th>\n",
       "      <th>loan_type</th>\n",
       "      <th>loan_purpose</th>\n",
       "      <th>Credit_Worthiness</th>\n",
       "      <th>open_credit</th>\n",
       "      <th>business_or_commercial</th>\n",
       "      <th>Neg_ammortization</th>\n",
       "      <th>interest_only</th>\n",
       "      <th>lump_sum_payment</th>\n",
       "      <th>construction_type</th>\n",
       "      <th>occupancy_type</th>\n",
       "      <th>Secured_by</th>\n",
       "      <th>total_units</th>\n",
       "      <th>credit_type</th>\n",
       "      <th>co-applicant_credit_type</th>\n",
       "      <th>age</th>\n",
       "      <th>submission_of_application</th>\n",
       "      <th>Region</th>\n",
       "      <th>Security_Type</th>\n",
       "      <th>ID</th>\n",
       "      <th>year</th>\n",
       "      <th>loan_amount</th>\n",
       "      <th>rate_of_interest</th>\n",
       "      <th>Interest_rate_spread</th>\n",
       "      <th>Upfront_charges</th>\n",
       "      <th>term</th>\n",
       "      <th>property_value</th>\n",
       "      <th>income</th>\n",
       "      <th>Credit_Score</th>\n",
       "      <th>LTV</th>\n",
       "      <th>Status</th>\n",
       "      <th>dtir1</th>\n",
       "    </tr>\n",
       "  </thead>\n",
       "  <tbody>\n",
       "    <tr>\n",
       "      <th>0</th>\n",
       "      <td>0.23971</td>\n",
       "      <td>0.28591</td>\n",
       "      <td>0.25327</td>\n",
       "      <td>0.22775</td>\n",
       "      <td>0.25877</td>\n",
       "      <td>0.24328</td>\n",
       "      <td>0.24671</td>\n",
       "      <td>0.23038</td>\n",
       "      <td>0.22380</td>\n",
       "      <td>0.24510</td>\n",
       "      <td>0.23410</td>\n",
       "      <td>0.24628</td>\n",
       "      <td>0.24304</td>\n",
       "      <td>0.24628</td>\n",
       "      <td>0.24497</td>\n",
       "      <td>0.15985</td>\n",
       "      <td>0.18433</td>\n",
       "      <td>0.22192</td>\n",
       "      <td>0.28402</td>\n",
       "      <td>0.26629</td>\n",
       "      <td>0.24628</td>\n",
       "      <td>24890</td>\n",
       "      <td>2019</td>\n",
       "      <td>116500</td>\n",
       "      <td>4.11512</td>\n",
       "      <td>0.60133</td>\n",
       "      <td>3508.76000</td>\n",
       "      <td>360.00000</td>\n",
       "      <td>118000.00000</td>\n",
       "      <td>1740.00000</td>\n",
       "      <td>758</td>\n",
       "      <td>98.72881</td>\n",
       "      <td>1</td>\n",
       "      <td>45.00000</td>\n",
       "    </tr>\n",
       "    <tr>\n",
       "      <th>1</th>\n",
       "      <td>0.23971</td>\n",
       "      <td>0.26191</td>\n",
       "      <td>0.25327</td>\n",
       "      <td>0.34544</td>\n",
       "      <td>0.25877</td>\n",
       "      <td>0.24328</td>\n",
       "      <td>0.24671</td>\n",
       "      <td>0.34544</td>\n",
       "      <td>0.22380</td>\n",
       "      <td>0.24510</td>\n",
       "      <td>0.77660</td>\n",
       "      <td>0.24628</td>\n",
       "      <td>0.24304</td>\n",
       "      <td>0.24628</td>\n",
       "      <td>0.24497</td>\n",
       "      <td>0.99993</td>\n",
       "      <td>0.30865</td>\n",
       "      <td>0.25887</td>\n",
       "      <td>0.28402</td>\n",
       "      <td>0.22511</td>\n",
       "      <td>0.24628</td>\n",
       "      <td>24891</td>\n",
       "      <td>2019</td>\n",
       "      <td>206500</td>\n",
       "      <td>3.56250</td>\n",
       "      <td>1.17457</td>\n",
       "      <td>1320.79875</td>\n",
       "      <td>360.00000</td>\n",
       "      <td>188500.00000</td>\n",
       "      <td>4980.00000</td>\n",
       "      <td>552</td>\n",
       "      <td>99.35385</td>\n",
       "      <td>1</td>\n",
       "      <td>40.15000</td>\n",
       "    </tr>\n",
       "    <tr>\n",
       "      <th>2</th>\n",
       "      <td>0.23971</td>\n",
       "      <td>0.26191</td>\n",
       "      <td>0.20894</td>\n",
       "      <td>0.22775</td>\n",
       "      <td>0.25877</td>\n",
       "      <td>0.24328</td>\n",
       "      <td>0.24671</td>\n",
       "      <td>0.23038</td>\n",
       "      <td>0.44596</td>\n",
       "      <td>0.24510</td>\n",
       "      <td>0.23410</td>\n",
       "      <td>0.24628</td>\n",
       "      <td>0.24304</td>\n",
       "      <td>0.24628</td>\n",
       "      <td>0.24497</td>\n",
       "      <td>0.15985</td>\n",
       "      <td>0.18433</td>\n",
       "      <td>0.22271</td>\n",
       "      <td>0.28402</td>\n",
       "      <td>0.26629</td>\n",
       "      <td>0.24628</td>\n",
       "      <td>24892</td>\n",
       "      <td>2019</td>\n",
       "      <td>406500</td>\n",
       "      <td>4.56000</td>\n",
       "      <td>0.20000</td>\n",
       "      <td>595.00000</td>\n",
       "      <td>360.00000</td>\n",
       "      <td>508000.00000</td>\n",
       "      <td>9480.00000</td>\n",
       "      <td>834</td>\n",
       "      <td>80.01969</td>\n",
       "      <td>0</td>\n",
       "      <td>46.00000</td>\n",
       "    </tr>\n",
       "    <tr>\n",
       "      <th>3</th>\n",
       "      <td>0.23971</td>\n",
       "      <td>0.26191</td>\n",
       "      <td>0.25327</td>\n",
       "      <td>0.22775</td>\n",
       "      <td>0.22975</td>\n",
       "      <td>0.24328</td>\n",
       "      <td>0.24671</td>\n",
       "      <td>0.23038</td>\n",
       "      <td>0.22380</td>\n",
       "      <td>0.24510</td>\n",
       "      <td>0.23410</td>\n",
       "      <td>0.24628</td>\n",
       "      <td>0.24304</td>\n",
       "      <td>0.24628</td>\n",
       "      <td>0.24497</td>\n",
       "      <td>0.15985</td>\n",
       "      <td>0.18433</td>\n",
       "      <td>0.24047</td>\n",
       "      <td>0.17521</td>\n",
       "      <td>0.22511</td>\n",
       "      <td>0.24628</td>\n",
       "      <td>24893</td>\n",
       "      <td>2019</td>\n",
       "      <td>456500</td>\n",
       "      <td>4.25000</td>\n",
       "      <td>0.68100</td>\n",
       "      <td>13016.46000</td>\n",
       "      <td>360.00000</td>\n",
       "      <td>658000.00000</td>\n",
       "      <td>11880.00000</td>\n",
       "      <td>587</td>\n",
       "      <td>69.37690</td>\n",
       "      <td>0</td>\n",
       "      <td>42.00000</td>\n",
       "    </tr>\n",
       "    <tr>\n",
       "      <th>4</th>\n",
       "      <td>0.23971</td>\n",
       "      <td>0.19162</td>\n",
       "      <td>0.20894</td>\n",
       "      <td>0.22775</td>\n",
       "      <td>0.25877</td>\n",
       "      <td>0.24328</td>\n",
       "      <td>0.24671</td>\n",
       "      <td>0.23038</td>\n",
       "      <td>0.22380</td>\n",
       "      <td>0.24510</td>\n",
       "      <td>0.23410</td>\n",
       "      <td>0.24628</td>\n",
       "      <td>0.24304</td>\n",
       "      <td>0.24628</td>\n",
       "      <td>0.24497</td>\n",
       "      <td>0.16234</td>\n",
       "      <td>0.30865</td>\n",
       "      <td>0.22192</td>\n",
       "      <td>0.17521</td>\n",
       "      <td>0.22511</td>\n",
       "      <td>0.24628</td>\n",
       "      <td>24894</td>\n",
       "      <td>2019</td>\n",
       "      <td>696500</td>\n",
       "      <td>4.00000</td>\n",
       "      <td>0.30420</td>\n",
       "      <td>0.00000</td>\n",
       "      <td>360.00000</td>\n",
       "      <td>758000.00000</td>\n",
       "      <td>10440.00000</td>\n",
       "      <td>602</td>\n",
       "      <td>91.88654</td>\n",
       "      <td>0</td>\n",
       "      <td>39.00000</td>\n",
       "    </tr>\n",
       "  </tbody>\n",
       "</table>\n",
       "</div>"
      ],
      "text/plain": [
       "   loan_limit  Gender  approv_in_adv  loan_type  loan_purpose  \\\n",
       "0     0.23971 0.28591        0.25327    0.22775       0.25877   \n",
       "1     0.23971 0.26191        0.25327    0.34544       0.25877   \n",
       "2     0.23971 0.26191        0.20894    0.22775       0.25877   \n",
       "3     0.23971 0.26191        0.25327    0.22775       0.22975   \n",
       "4     0.23971 0.19162        0.20894    0.22775       0.25877   \n",
       "\n",
       "   Credit_Worthiness  open_credit  business_or_commercial  Neg_ammortization  \\\n",
       "0            0.24328      0.24671                 0.23038            0.22380   \n",
       "1            0.24328      0.24671                 0.34544            0.22380   \n",
       "2            0.24328      0.24671                 0.23038            0.44596   \n",
       "3            0.24328      0.24671                 0.23038            0.22380   \n",
       "4            0.24328      0.24671                 0.23038            0.22380   \n",
       "\n",
       "   interest_only  lump_sum_payment  construction_type  occupancy_type  \\\n",
       "0        0.24510           0.23410            0.24628         0.24304   \n",
       "1        0.24510           0.77660            0.24628         0.24304   \n",
       "2        0.24510           0.23410            0.24628         0.24304   \n",
       "3        0.24510           0.23410            0.24628         0.24304   \n",
       "4        0.24510           0.23410            0.24628         0.24304   \n",
       "\n",
       "   Secured_by  total_units  credit_type  co-applicant_credit_type     age  \\\n",
       "0     0.24628      0.24497      0.15985                   0.18433 0.22192   \n",
       "1     0.24628      0.24497      0.99993                   0.30865 0.25887   \n",
       "2     0.24628      0.24497      0.15985                   0.18433 0.22271   \n",
       "3     0.24628      0.24497      0.15985                   0.18433 0.24047   \n",
       "4     0.24628      0.24497      0.16234                   0.30865 0.22192   \n",
       "\n",
       "   submission_of_application  Region  Security_Type     ID  year  loan_amount  \\\n",
       "0                    0.28402 0.26629        0.24628  24890  2019       116500   \n",
       "1                    0.28402 0.22511        0.24628  24891  2019       206500   \n",
       "2                    0.28402 0.26629        0.24628  24892  2019       406500   \n",
       "3                    0.17521 0.22511        0.24628  24893  2019       456500   \n",
       "4                    0.17521 0.22511        0.24628  24894  2019       696500   \n",
       "\n",
       "   rate_of_interest  Interest_rate_spread  Upfront_charges      term  \\\n",
       "0           4.11512               0.60133       3508.76000 360.00000   \n",
       "1           3.56250               1.17457       1320.79875 360.00000   \n",
       "2           4.56000               0.20000        595.00000 360.00000   \n",
       "3           4.25000               0.68100      13016.46000 360.00000   \n",
       "4           4.00000               0.30420          0.00000 360.00000   \n",
       "\n",
       "   property_value      income  Credit_Score      LTV  Status    dtir1  \n",
       "0    118000.00000  1740.00000           758 98.72881       1 45.00000  \n",
       "1    188500.00000  4980.00000           552 99.35385       1 40.15000  \n",
       "2    508000.00000  9480.00000           834 80.01969       0 46.00000  \n",
       "3    658000.00000 11880.00000           587 69.37690       0 42.00000  \n",
       "4    758000.00000 10440.00000           602 91.88654       0 39.00000  "
      ]
     },
     "execution_count": 80,
     "metadata": {},
     "output_type": "execute_result"
    }
   ],
   "source": [
    "df_temp.head()"
   ]
  },
  {
   "cell_type": "markdown",
   "id": "e6ff54a8",
   "metadata": {
    "papermill": {
     "duration": 0.117047,
     "end_time": "2022-04-14T14:49:48.508418",
     "exception": false,
     "start_time": "2022-04-14T14:49:48.391371",
     "status": "completed"
    },
    "tags": []
   },
   "source": [
    "- Target Encoding could be good choice for binary classification but for regression it is not, because it ignores intra-category variation of the target variable. This is addressed in Bayesian Target Encoding.\n",
    "\n",
    "- Target encoding has a tendency to overfit due to the target leakage.\n",
    "\n",
    "- Another problem is that some of the categories have few training examples, and the mean target value for these categories may assume extreme values, so encoding these values with mean may reduce the model performance.\n",
    "\n",
    "These issues are addressed in Bayesian Target Encoding. Which you can read from this informational blog [Target Encoding and Bayesian Target Encoding](https://towardsdatascience.com/target-encoding-and-bayesian-target-encoding-5c6a6c58ae8c)\n"
   ]
  },
  {
   "cell_type": "code",
   "execution_count": 81,
   "id": "1d2fd21d",
   "metadata": {
    "execution": {
     "iopub.execute_input": "2022-04-14T14:49:48.746707Z",
     "iopub.status.busy": "2022-04-14T14:49:48.746177Z",
     "iopub.status.idle": "2022-04-14T14:49:48.775735Z",
     "shell.execute_reply": "2022-04-14T14:49:48.775047Z"
    },
    "papermill": {
     "duration": 0.152622,
     "end_time": "2022-04-14T14:49:48.777562",
     "exception": false,
     "start_time": "2022-04-14T14:49:48.624940",
     "status": "completed"
    },
    "tags": []
   },
   "outputs": [
    {
     "data": {
      "text/plain": [
       "45-54      34720\n",
       "35-44      32818\n",
       "55-64      32534\n",
       "65-74      20744\n",
       "25-34      19142\n",
       ">74         7175\n",
       "<25         1337\n",
       "Missing      200\n",
       "Name: age, dtype: int64"
      ]
     },
     "execution_count": 81,
     "metadata": {},
     "output_type": "execute_result"
    }
   ],
   "source": [
    "df['age'].value_counts()"
   ]
  },
  {
   "cell_type": "markdown",
   "id": "5872955d",
   "metadata": {},
   "source": [
    "### 2.1.3 Deep Learning Methods"
   ]
  },
  {
   "cell_type": "markdown",
   "id": "6ae74481",
   "metadata": {
    "papermill": {
     "duration": 0.116694,
     "end_time": "2022-04-14T14:49:49.010818",
     "exception": false,
     "start_time": "2022-04-14T14:49:48.894124",
     "status": "completed"
    },
    "tags": []
   },
   "source": [
    "Another supervised approach comes from the deep learning literature on the analysis of textual data. In this case, large amounts of text can be cut up into individual words. Rather than making each of these words into its own indicator variable, word embedding or entity embedding approaches have been developed. Similar to the dimension reduction methods, the idea is to estimate a smaller set of numeric features that can be used to adequately represent the categorical predictors.\n",
    "\n",
    "In addition to the dimension reduction, there is the possibility that these methods can estimate semantic relationships between words so that words with similar themes (e.g., “dog”, “pet”, etc.) have similar values in the new encodings. This technique is not limited to text data and can be used to encode any type of qualitative variable.\n",
    "\n",
    "The idea is well very simple do not extract features manually use neural network to do the hard part and just wait for the results."
   ]
  },
  {
   "cell_type": "markdown",
   "id": "6306df6a",
   "metadata": {},
   "source": [
    "## 2.2 Approaches for Novel Categories"
   ]
  },
  {
   "cell_type": "markdown",
   "id": "c7aa30f3",
   "metadata": {
    "papermill": {
     "duration": 0.116333,
     "end_time": "2022-04-14T14:49:49.244779",
     "exception": false,
     "start_time": "2022-04-14T14:49:49.128446",
     "status": "completed"
    },
    "tags": []
   },
   "source": [
    "What if some new category introduce to some attribute in future how will we encode that variable then? If there is a possibility of encountering a new category in the future, one strategy would be to use the \"other\" category to capture new values. \n",
    "\n",
    "While this approach may not be the most effective at extracting predictive information relative to the response for this specific category, it does enable the original model to be applied to new data without completely refitting and we do need to ensure that the \"other\" category is present in the training/testing data.\n",
    "\n",
    "After assigning \"other\" category to novel category than we can do all kinds of encodings we studied above"
   ]
  },
  {
   "cell_type": "code",
   "execution_count": null,
   "id": "1c2d887f",
   "metadata": {},
   "outputs": [],
   "source": []
  }
 ],
 "metadata": {
  "kernelspec": {
   "display_name": "Python 3 (ipykernel)",
   "language": "python",
   "name": "python3"
  },
  "language_info": {
   "codemirror_mode": {
    "name": "ipython",
    "version": 3
   },
   "file_extension": ".py",
   "mimetype": "text/x-python",
   "name": "python",
   "nbconvert_exporter": "python",
   "pygments_lexer": "ipython3",
   "version": "3.9.7"
  },
  "papermill": {
   "default_parameters": {},
   "duration": 1286.881238,
   "end_time": "2022-04-14T14:49:52.805839",
   "environment_variables": {},
   "exception": null,
   "input_path": "__notebook__.ipynb",
   "output_path": "__notebook__.ipynb",
   "parameters": {},
   "start_time": "2022-04-14T14:28:25.924601",
   "version": "2.3.4"
  }
 },
 "nbformat": 4,
 "nbformat_minor": 5
}
